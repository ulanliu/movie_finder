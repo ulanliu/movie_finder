{
 "cells": [
  {
   "cell_type": "code",
   "execution_count": 2,
   "id": "a33277df-1cce-4df6-b89c-d6fa508d2f15",
   "metadata": {},
   "outputs": [
    {
     "data": {
      "application/vnd.jupyter.widget-view+json": {
       "model_id": "af3d45b8b7504087abdbf252d340ac20",
       "version_major": 2,
       "version_minor": 0
      },
      "text/plain": [
       "VBox(children=(HTML(value='<center> <img\\nsrc=https://huggingface.co/front/assets/huggingface_logo-noborder.sv…"
      ]
     },
     "metadata": {},
     "output_type": "display_data"
    }
   ],
   "source": [
    "from huggingface_hub import login\n",
    "login()"
   ]
  },
  {
   "cell_type": "code",
   "execution_count": 3,
   "id": "f4f87289-fcec-4e4d-8025-d15fb5a6513c",
   "metadata": {},
   "outputs": [
    {
     "data": {
      "application/vnd.jupyter.widget-view+json": {
       "model_id": "38d5801629ab44ef9696d66e61d6a260",
       "version_major": 2,
       "version_minor": 0
      },
      "text/plain": [
       "VBox(children=(HTML(value='<center> <img\\nsrc=https://huggingface.co/front/assets/huggingface_logo-noborder.sv…"
      ]
     },
     "metadata": {},
     "output_type": "display_data"
    }
   ],
   "source": [
    "login()"
   ]
  },
  {
   "cell_type": "code",
   "execution_count": 71,
   "id": "4fc52fd2-2324-4080-9ea2-942a23cc3e68",
   "metadata": {},
   "outputs": [],
   "source": [
    "from datasets import load_dataset\n",
    "\n",
    "ds = load_dataset(\"wykonos/movies\", split=\"train\")"
   ]
  },
  {
   "cell_type": "code",
   "execution_count": 72,
   "id": "c148283d-3140-4dce-8bf8-9839254dd76b",
   "metadata": {},
   "outputs": [
    {
     "data": {
      "text/plain": [
       "Dataset({\n",
       "    features: ['id', 'title', 'genres', 'original_language', 'overview', 'popularity', 'production_companies', 'release_date', 'budget', 'revenue', 'runtime', 'status', 'tagline', 'vote_average', 'vote_count', 'credits', 'keywords', 'poster_path', 'backdrop_path', 'recommendations'],\n",
       "    num_rows: 722796\n",
       "})"
      ]
     },
     "execution_count": 72,
     "metadata": {},
     "output_type": "execute_result"
    }
   ],
   "source": [
    "ds"
   ]
  },
  {
   "cell_type": "code",
   "execution_count": 73,
   "id": "79bb0ff9-21d2-4bcf-bd7a-15f1a33b618a",
   "metadata": {},
   "outputs": [
    {
     "data": {
      "application/vnd.jupyter.widget-view+json": {
       "model_id": "0c2e47136dc6493e9c957680d4eae06b",
       "version_major": 2,
       "version_minor": 0
      },
      "text/plain": [
       "Filter:   0%|          | 0/722796 [00:00<?, ? examples/s]"
      ]
     },
     "metadata": {},
     "output_type": "display_data"
    }
   ],
   "source": [
    "ds = ds.filter(lambda x: x[\"release_date\"] is not None)"
   ]
  },
  {
   "cell_type": "code",
   "execution_count": 74,
   "id": "cd2f685a-9ac8-4b6f-b601-503c7459d1cd",
   "metadata": {},
   "outputs": [
    {
     "data": {
      "text/plain": [
       "{'id': 385687,\n",
       " 'title': 'Fast X',\n",
       " 'genres': 'Action-Crime-Thriller',\n",
       " 'original_language': 'en',\n",
       " 'overview': \"Over many missions and against impossible odds Dom Toretto and his family have outsmarted out-nerved and outdriven every foe in their path. Now they confront the most lethal opponent they've ever faced: A terrifying threat emerging from the shadows of the past who's fueled by blood revenge and who is determined to shatter this family and destroy everything—and everyone—that Dom loves forever.\",\n",
       " 'popularity': 6682.1,\n",
       " 'production_companies': 'Universal Pictures-Original Film-One Race-Perfect Storm Entertainment',\n",
       " 'release_date': '2023-05-17',\n",
       " 'budget': 340000000.0,\n",
       " 'revenue': 686700000.0,\n",
       " 'runtime': 142.0,\n",
       " 'status': 'Released',\n",
       " 'tagline': 'The end of the road begins.',\n",
       " 'vote_average': 7.331,\n",
       " 'vote_count': 1856.0,\n",
       " 'credits': 'Vin Diesel-Michelle Rodriguez-Tyrese Gibson-Ludacris-John Cena-Nathalie Emmanuel-Jordana Brewster-Sung Kang-Jason Momoa-Scott Eastwood-Daniela Melchior-Alan Ritchson-Helen Mirren-Brie Larson-Jason Statham-Charlize Theron-Rita Moreno-Joaquim de Almeida-Leo A. Perry-Luis Da Silva Jr.-Jaz Hutchins-Luka Hays-Alexander Capon-Pete Davidson-Shadrach Agozino-Ludmilla-Miraj Grbić-Meadow Walker Thornton-Allan-Michael Irby-Shahir Figueira-Ben-Hur Santos-Debby Ann Ryan-Josh Dun-Robert Bastens-Dwayne Johnson-Gal Gadot',\n",
       " 'keywords': 'sequel-revenge-racing-family-cars',\n",
       " 'poster_path': '/fiVW06jE7z9YnO4trhaMEdclSiC.jpg',\n",
       " 'backdrop_path': '/4XM8DUTQb3lhLemJC51Jx4a2EuA.jpg',\n",
       " 'recommendations': '19603-445954-697843-603692-781009-502356-747355-640146-569094-1070777-536437-121342-325358-667538-960033-496450-447365-1037644-298618-713704-1121116'}"
      ]
     },
     "execution_count": 74,
     "metadata": {},
     "output_type": "execute_result"
    }
   ],
   "source": [
    "ds[0]"
   ]
  },
  {
   "cell_type": "code",
   "execution_count": 75,
   "id": "8b2f66c1-3d38-4fa4-80cf-bbe74f2d1152",
   "metadata": {},
   "outputs": [],
   "source": [
    "ds_filtered = ds.select_columns(['title', 'genres', 'overview', 'release_date', 'credits', 'keywords'])"
   ]
  },
  {
   "cell_type": "code",
   "execution_count": 22,
   "id": "8e2e513c-8abc-4d42-872b-57cb3ca27fb1",
   "metadata": {},
   "outputs": [
    {
     "data": {
      "text/plain": [
       "{'title': 'Ant-Man and the Wasp: Quantumania',\n",
       " 'genres': 'Action-Adventure-Science Fiction',\n",
       " 'overview': \"Super-Hero partners Scott Lang and Hope van Dyne along with with Hope's parents Janet van Dyne and Hank Pym and Scott's daughter Cassie Lang find themselves exploring the Quantum Realm interacting with strange new creatures and embarking on an adventure that will push them beyond the limits of what they thought possible.\",\n",
       " 'release_date': '2023-02-15',\n",
       " 'credits': \"Paul Rudd-Evangeline Lilly-Jonathan Majors-Kathryn Newton-Michelle Pfeiffer-Michael Douglas-Corey Stoll-Bill Murray-William Jackson Harper-David Dastmalchian-Jamie Andrew Cutler-Katy O'Brian-Mark Weinman-Randall Park-Ross Mullan-Tom Clark-Leon Cooke-Nathan Blees-Durassie Kiangangu-Liran Nathan-Sam Symons-Grahame Fox-Nicola Peluso-Harrison Daniels-Brahmdeo Shannon Ramana-Russell Balogh-Leonardo Taiwo-Osian Roberts-Lucas Gerstel-Mia Gerstel-Tracy Jeffrey-Dinah Jeffrey-Judy Jeffrey-John Nayagam-Greta Nayagam-Cathy Chan-Adam Sai-Jamie Sai-Jakari Fraser-Patricia Belcher-Mark Oliver Everett-Ruben Rabasa-Melanie Garcia-Gregg Turkington-Sierra Katow-Ryan Bergara-Marielle Scott-Jake Millgard-Dey Young-Briza Covarrubias-Tess Aubert-David J. Castillo-Sir Cornwell-Alan Heitz-Esther McAuley-Aisling Maria Andreica-Milton Lopes-Roger Craig Smith-Matthew Wood-Loveday Smith-John Townsend-Tom Hiddleston-Owen Wilson-Abby Ryder Fortson\",\n",
       " 'keywords': 'hero-ant-sequel-superhero-based on comic-family-superhero team-aftercreditsstinger-duringcreditsstinger-marvel cinematic universe (mcu)'}"
      ]
     },
     "execution_count": 22,
     "metadata": {},
     "output_type": "execute_result"
    }
   ],
   "source": [
    "ds_filtered[2]"
   ]
  },
  {
   "cell_type": "code",
   "execution_count": 23,
   "id": "fed44e4a-edd9-46fd-926a-7607aeefffa1",
   "metadata": {},
   "outputs": [
    {
     "name": "stdout",
     "output_type": "stream",
     "text": [
      "--2024-09-12 09:43:46--  https://raw.githubusercontent.com/alexeygrigorev/minsearch/main/minsearch.py\n",
      "Resolving raw.githubusercontent.com (raw.githubusercontent.com)... 185.199.110.133, 185.199.109.133, 185.199.108.133, ...\n",
      "Connecting to raw.githubusercontent.com (raw.githubusercontent.com)|185.199.110.133|:443... connected.\n",
      "HTTP request sent, awaiting response... 200 OK\n",
      "Length: 3832 (3.7K) [text/plain]\n",
      "Saving to: ‘minsearch.py’\n",
      "\n",
      "minsearch.py        100%[===================>]   3.74K  --.-KB/s    in 0s      \n",
      "\n",
      "2024-09-12 09:43:46 (46.0 MB/s) - ‘minsearch.py’ saved [3832/3832]\n",
      "\n"
     ]
    }
   ],
   "source": [
    "#!wget https://raw.githubusercontent.com/alexeygrigorev/minsearch/main/minsearch.py"
   ]
  },
  {
   "cell_type": "code",
   "execution_count": 5,
   "id": "6795ace9-b850-43e6-9e13-624a6706ed63",
   "metadata": {},
   "outputs": [],
   "source": [
    "import minsearch"
   ]
  },
  {
   "cell_type": "code",
   "execution_count": 48,
   "id": "bb9643a9-32f6-4c5b-a6c7-329031efdeb6",
   "metadata": {},
   "outputs": [],
   "source": [
    "index = minsearch.Index(\n",
    "    text_fields=['title','genres', 'overview', 'release_date', 'credits', 'keywords'],\n",
    "    keyword_fields=[\"\"]\n",
    ")"
   ]
  },
  {
   "cell_type": "code",
   "execution_count": 31,
   "id": "d5aecfe9-b9f5-4cbb-ae28-20517bd5b137",
   "metadata": {
    "scrolled": true
   },
   "outputs": [
    {
     "ename": "AttributeError",
     "evalue": "'NoneType' object has no attribute 'lower'",
     "output_type": "error",
     "traceback": [
      "\u001b[0;31m---------------------------------------------------------------------------\u001b[0m",
      "\u001b[0;31mAttributeError\u001b[0m                            Traceback (most recent call last)",
      "Cell \u001b[0;32mIn[31], line 1\u001b[0m\n\u001b[0;32m----> 1\u001b[0m \u001b[43mindex\u001b[49m\u001b[38;5;241;43m.\u001b[39;49m\u001b[43mfit\u001b[49m\u001b[43m(\u001b[49m\u001b[43mds_filtered\u001b[49m\u001b[43m)\u001b[49m\n",
      "File \u001b[0;32m/workspaces/movie_finder/notebook/minsearch.py:51\u001b[0m, in \u001b[0;36mIndex.fit\u001b[0;34m(self, docs)\u001b[0m\n\u001b[1;32m     49\u001b[0m \u001b[38;5;28;01mfor\u001b[39;00m field \u001b[38;5;129;01min\u001b[39;00m \u001b[38;5;28mself\u001b[39m\u001b[38;5;241m.\u001b[39mtext_fields:\n\u001b[1;32m     50\u001b[0m     texts \u001b[38;5;241m=\u001b[39m [doc\u001b[38;5;241m.\u001b[39mget(field, \u001b[38;5;124m'\u001b[39m\u001b[38;5;124m'\u001b[39m) \u001b[38;5;28;01mfor\u001b[39;00m doc \u001b[38;5;129;01min\u001b[39;00m docs]\n\u001b[0;32m---> 51\u001b[0m     \u001b[38;5;28mself\u001b[39m\u001b[38;5;241m.\u001b[39mtext_matrices[field] \u001b[38;5;241m=\u001b[39m \u001b[38;5;28;43mself\u001b[39;49m\u001b[38;5;241;43m.\u001b[39;49m\u001b[43mvectorizers\u001b[49m\u001b[43m[\u001b[49m\u001b[43mfield\u001b[49m\u001b[43m]\u001b[49m\u001b[38;5;241;43m.\u001b[39;49m\u001b[43mfit_transform\u001b[49m\u001b[43m(\u001b[49m\u001b[43mtexts\u001b[49m\u001b[43m)\u001b[49m\n\u001b[1;32m     53\u001b[0m \u001b[38;5;28;01mfor\u001b[39;00m doc \u001b[38;5;129;01min\u001b[39;00m docs:\n\u001b[1;32m     54\u001b[0m     \u001b[38;5;28;01mfor\u001b[39;00m field \u001b[38;5;129;01min\u001b[39;00m \u001b[38;5;28mself\u001b[39m\u001b[38;5;241m.\u001b[39mkeyword_fields:\n",
      "File \u001b[0;32m~/.local/share/virtualenvs/movie_finder-F14fNP4P/lib/python3.12/site-packages/sklearn/feature_extraction/text.py:2091\u001b[0m, in \u001b[0;36mTfidfVectorizer.fit_transform\u001b[0;34m(self, raw_documents, y)\u001b[0m\n\u001b[1;32m   2084\u001b[0m \u001b[38;5;28mself\u001b[39m\u001b[38;5;241m.\u001b[39m_check_params()\n\u001b[1;32m   2085\u001b[0m \u001b[38;5;28mself\u001b[39m\u001b[38;5;241m.\u001b[39m_tfidf \u001b[38;5;241m=\u001b[39m TfidfTransformer(\n\u001b[1;32m   2086\u001b[0m     norm\u001b[38;5;241m=\u001b[39m\u001b[38;5;28mself\u001b[39m\u001b[38;5;241m.\u001b[39mnorm,\n\u001b[1;32m   2087\u001b[0m     use_idf\u001b[38;5;241m=\u001b[39m\u001b[38;5;28mself\u001b[39m\u001b[38;5;241m.\u001b[39muse_idf,\n\u001b[1;32m   2088\u001b[0m     smooth_idf\u001b[38;5;241m=\u001b[39m\u001b[38;5;28mself\u001b[39m\u001b[38;5;241m.\u001b[39msmooth_idf,\n\u001b[1;32m   2089\u001b[0m     sublinear_tf\u001b[38;5;241m=\u001b[39m\u001b[38;5;28mself\u001b[39m\u001b[38;5;241m.\u001b[39msublinear_tf,\n\u001b[1;32m   2090\u001b[0m )\n\u001b[0;32m-> 2091\u001b[0m X \u001b[38;5;241m=\u001b[39m \u001b[38;5;28;43msuper\u001b[39;49m\u001b[43m(\u001b[49m\u001b[43m)\u001b[49m\u001b[38;5;241;43m.\u001b[39;49m\u001b[43mfit_transform\u001b[49m\u001b[43m(\u001b[49m\u001b[43mraw_documents\u001b[49m\u001b[43m)\u001b[49m\n\u001b[1;32m   2092\u001b[0m \u001b[38;5;28mself\u001b[39m\u001b[38;5;241m.\u001b[39m_tfidf\u001b[38;5;241m.\u001b[39mfit(X)\n\u001b[1;32m   2093\u001b[0m \u001b[38;5;66;03m# X is already a transformed view of raw_documents so\u001b[39;00m\n\u001b[1;32m   2094\u001b[0m \u001b[38;5;66;03m# we set copy to False\u001b[39;00m\n",
      "File \u001b[0;32m~/.local/share/virtualenvs/movie_finder-F14fNP4P/lib/python3.12/site-packages/sklearn/base.py:1473\u001b[0m, in \u001b[0;36m_fit_context.<locals>.decorator.<locals>.wrapper\u001b[0;34m(estimator, *args, **kwargs)\u001b[0m\n\u001b[1;32m   1466\u001b[0m     estimator\u001b[38;5;241m.\u001b[39m_validate_params()\n\u001b[1;32m   1468\u001b[0m \u001b[38;5;28;01mwith\u001b[39;00m config_context(\n\u001b[1;32m   1469\u001b[0m     skip_parameter_validation\u001b[38;5;241m=\u001b[39m(\n\u001b[1;32m   1470\u001b[0m         prefer_skip_nested_validation \u001b[38;5;129;01mor\u001b[39;00m global_skip_validation\n\u001b[1;32m   1471\u001b[0m     )\n\u001b[1;32m   1472\u001b[0m ):\n\u001b[0;32m-> 1473\u001b[0m     \u001b[38;5;28;01mreturn\u001b[39;00m \u001b[43mfit_method\u001b[49m\u001b[43m(\u001b[49m\u001b[43mestimator\u001b[49m\u001b[43m,\u001b[49m\u001b[43m \u001b[49m\u001b[38;5;241;43m*\u001b[39;49m\u001b[43margs\u001b[49m\u001b[43m,\u001b[49m\u001b[43m \u001b[49m\u001b[38;5;241;43m*\u001b[39;49m\u001b[38;5;241;43m*\u001b[39;49m\u001b[43mkwargs\u001b[49m\u001b[43m)\u001b[49m\n",
      "File \u001b[0;32m~/.local/share/virtualenvs/movie_finder-F14fNP4P/lib/python3.12/site-packages/sklearn/feature_extraction/text.py:1372\u001b[0m, in \u001b[0;36mCountVectorizer.fit_transform\u001b[0;34m(self, raw_documents, y)\u001b[0m\n\u001b[1;32m   1364\u001b[0m             warnings\u001b[38;5;241m.\u001b[39mwarn(\n\u001b[1;32m   1365\u001b[0m                 \u001b[38;5;124m\"\u001b[39m\u001b[38;5;124mUpper case characters found in\u001b[39m\u001b[38;5;124m\"\u001b[39m\n\u001b[1;32m   1366\u001b[0m                 \u001b[38;5;124m\"\u001b[39m\u001b[38;5;124m vocabulary while \u001b[39m\u001b[38;5;124m'\u001b[39m\u001b[38;5;124mlowercase\u001b[39m\u001b[38;5;124m'\u001b[39m\u001b[38;5;124m\"\u001b[39m\n\u001b[1;32m   1367\u001b[0m                 \u001b[38;5;124m\"\u001b[39m\u001b[38;5;124m is True. These entries will not\u001b[39m\u001b[38;5;124m\"\u001b[39m\n\u001b[1;32m   1368\u001b[0m                 \u001b[38;5;124m\"\u001b[39m\u001b[38;5;124m be matched with any documents\u001b[39m\u001b[38;5;124m\"\u001b[39m\n\u001b[1;32m   1369\u001b[0m             )\n\u001b[1;32m   1370\u001b[0m             \u001b[38;5;28;01mbreak\u001b[39;00m\n\u001b[0;32m-> 1372\u001b[0m vocabulary, X \u001b[38;5;241m=\u001b[39m \u001b[38;5;28;43mself\u001b[39;49m\u001b[38;5;241;43m.\u001b[39;49m\u001b[43m_count_vocab\u001b[49m\u001b[43m(\u001b[49m\u001b[43mraw_documents\u001b[49m\u001b[43m,\u001b[49m\u001b[43m \u001b[49m\u001b[38;5;28;43mself\u001b[39;49m\u001b[38;5;241;43m.\u001b[39;49m\u001b[43mfixed_vocabulary_\u001b[49m\u001b[43m)\u001b[49m\n\u001b[1;32m   1374\u001b[0m \u001b[38;5;28;01mif\u001b[39;00m \u001b[38;5;28mself\u001b[39m\u001b[38;5;241m.\u001b[39mbinary:\n\u001b[1;32m   1375\u001b[0m     X\u001b[38;5;241m.\u001b[39mdata\u001b[38;5;241m.\u001b[39mfill(\u001b[38;5;241m1\u001b[39m)\n",
      "File \u001b[0;32m~/.local/share/virtualenvs/movie_finder-F14fNP4P/lib/python3.12/site-packages/sklearn/feature_extraction/text.py:1259\u001b[0m, in \u001b[0;36mCountVectorizer._count_vocab\u001b[0;34m(self, raw_documents, fixed_vocab)\u001b[0m\n\u001b[1;32m   1257\u001b[0m \u001b[38;5;28;01mfor\u001b[39;00m doc \u001b[38;5;129;01min\u001b[39;00m raw_documents:\n\u001b[1;32m   1258\u001b[0m     feature_counter \u001b[38;5;241m=\u001b[39m {}\n\u001b[0;32m-> 1259\u001b[0m     \u001b[38;5;28;01mfor\u001b[39;00m feature \u001b[38;5;129;01min\u001b[39;00m \u001b[43manalyze\u001b[49m\u001b[43m(\u001b[49m\u001b[43mdoc\u001b[49m\u001b[43m)\u001b[49m:\n\u001b[1;32m   1260\u001b[0m         \u001b[38;5;28;01mtry\u001b[39;00m:\n\u001b[1;32m   1261\u001b[0m             feature_idx \u001b[38;5;241m=\u001b[39m vocabulary[feature]\n",
      "File \u001b[0;32m~/.local/share/virtualenvs/movie_finder-F14fNP4P/lib/python3.12/site-packages/sklearn/feature_extraction/text.py:108\u001b[0m, in \u001b[0;36m_analyze\u001b[0;34m(doc, analyzer, tokenizer, ngrams, preprocessor, decoder, stop_words)\u001b[0m\n\u001b[1;32m    106\u001b[0m \u001b[38;5;28;01melse\u001b[39;00m:\n\u001b[1;32m    107\u001b[0m     \u001b[38;5;28;01mif\u001b[39;00m preprocessor \u001b[38;5;129;01mis\u001b[39;00m \u001b[38;5;129;01mnot\u001b[39;00m \u001b[38;5;28;01mNone\u001b[39;00m:\n\u001b[0;32m--> 108\u001b[0m         doc \u001b[38;5;241m=\u001b[39m \u001b[43mpreprocessor\u001b[49m\u001b[43m(\u001b[49m\u001b[43mdoc\u001b[49m\u001b[43m)\u001b[49m\n\u001b[1;32m    109\u001b[0m     \u001b[38;5;28;01mif\u001b[39;00m tokenizer \u001b[38;5;129;01mis\u001b[39;00m \u001b[38;5;129;01mnot\u001b[39;00m \u001b[38;5;28;01mNone\u001b[39;00m:\n\u001b[1;32m    110\u001b[0m         doc \u001b[38;5;241m=\u001b[39m tokenizer(doc)\n",
      "File \u001b[0;32m~/.local/share/virtualenvs/movie_finder-F14fNP4P/lib/python3.12/site-packages/sklearn/feature_extraction/text.py:66\u001b[0m, in \u001b[0;36m_preprocess\u001b[0;34m(doc, accent_function, lower)\u001b[0m\n\u001b[1;32m     47\u001b[0m \u001b[38;5;250m\u001b[39m\u001b[38;5;124;03m\"\"\"Chain together an optional series of text preprocessing steps to\u001b[39;00m\n\u001b[1;32m     48\u001b[0m \u001b[38;5;124;03mapply to a document.\u001b[39;00m\n\u001b[1;32m     49\u001b[0m \n\u001b[0;32m   (...)\u001b[0m\n\u001b[1;32m     63\u001b[0m \u001b[38;5;124;03m    preprocessed string\u001b[39;00m\n\u001b[1;32m     64\u001b[0m \u001b[38;5;124;03m\"\"\"\u001b[39;00m\n\u001b[1;32m     65\u001b[0m \u001b[38;5;28;01mif\u001b[39;00m lower:\n\u001b[0;32m---> 66\u001b[0m     doc \u001b[38;5;241m=\u001b[39m \u001b[43mdoc\u001b[49m\u001b[38;5;241;43m.\u001b[39;49m\u001b[43mlower\u001b[49m()\n\u001b[1;32m     67\u001b[0m \u001b[38;5;28;01mif\u001b[39;00m accent_function \u001b[38;5;129;01mis\u001b[39;00m \u001b[38;5;129;01mnot\u001b[39;00m \u001b[38;5;28;01mNone\u001b[39;00m:\n\u001b[1;32m     68\u001b[0m     doc \u001b[38;5;241m=\u001b[39m accent_function(doc)\n",
      "\u001b[0;31mAttributeError\u001b[0m: 'NoneType' object has no attribute 'lower'"
     ]
    }
   ],
   "source": [
    "index.fit(ds_filtered)"
   ]
  },
  {
   "cell_type": "code",
   "execution_count": 77,
   "id": "041df385-8065-4b90-ad61-7ac37f00f496",
   "metadata": {},
   "outputs": [],
   "source": [
    "df = ds_filtered.to_pandas()"
   ]
  },
  {
   "cell_type": "code",
   "execution_count": 25,
   "id": "fff09e90-0e4e-42fa-b195-d6e8108c90a6",
   "metadata": {},
   "outputs": [
    {
     "data": {
      "text/html": [
       "<div>\n",
       "<style scoped>\n",
       "    .dataframe tbody tr th:only-of-type {\n",
       "        vertical-align: middle;\n",
       "    }\n",
       "\n",
       "    .dataframe tbody tr th {\n",
       "        vertical-align: top;\n",
       "    }\n",
       "\n",
       "    .dataframe thead th {\n",
       "        text-align: right;\n",
       "    }\n",
       "</style>\n",
       "<table border=\"1\" class=\"dataframe\">\n",
       "  <thead>\n",
       "    <tr style=\"text-align: right;\">\n",
       "      <th></th>\n",
       "      <th>title</th>\n",
       "      <th>genres</th>\n",
       "      <th>overview</th>\n",
       "      <th>release_date</th>\n",
       "      <th>credits</th>\n",
       "      <th>keywords</th>\n",
       "    </tr>\n",
       "  </thead>\n",
       "  <tbody>\n",
       "    <tr>\n",
       "      <th>0</th>\n",
       "      <td>Fast X</td>\n",
       "      <td>Action-Crime-Thriller</td>\n",
       "      <td>Over many missions and against impossible odds...</td>\n",
       "      <td>2023-05-17</td>\n",
       "      <td>Vin Diesel-Michelle Rodriguez-Tyrese Gibson-Lu...</td>\n",
       "      <td>sequel-revenge-racing-family-cars</td>\n",
       "    </tr>\n",
       "    <tr>\n",
       "      <th>1</th>\n",
       "      <td>The Pope's Exorcist</td>\n",
       "      <td>Horror-Mystery-Thriller</td>\n",
       "      <td>Father Gabriele Amorth Chief Exorcist of the V...</td>\n",
       "      <td>2023-04-05</td>\n",
       "      <td>Russell Crowe-Daniel Zovatto-Alex Essoe-Franco...</td>\n",
       "      <td>spain-rome italy-vatican-pope-pig-possession-c...</td>\n",
       "    </tr>\n",
       "    <tr>\n",
       "      <th>2</th>\n",
       "      <td>Ant-Man and the Wasp: Quantumania</td>\n",
       "      <td>Action-Adventure-Science Fiction</td>\n",
       "      <td>Super-Hero partners Scott Lang and Hope van Dy...</td>\n",
       "      <td>2023-02-15</td>\n",
       "      <td>Paul Rudd-Evangeline Lilly-Jonathan Majors-Kat...</td>\n",
       "      <td>hero-ant-sequel-superhero-based on comic-famil...</td>\n",
       "    </tr>\n",
       "    <tr>\n",
       "      <th>3</th>\n",
       "      <td>Creed III</td>\n",
       "      <td>Drama-Action</td>\n",
       "      <td>After dominating the boxing world Adonis Creed...</td>\n",
       "      <td>2023-03-01</td>\n",
       "      <td>Michael B. Jordan-Tessa Thompson-Jonathan Majo...</td>\n",
       "      <td>philadelphia pennsylvania-husband wife relatio...</td>\n",
       "    </tr>\n",
       "    <tr>\n",
       "      <th>4</th>\n",
       "      <td>The Super Mario Bros. Movie</td>\n",
       "      <td>Animation-Family-Adventure-Fantasy-Comedy</td>\n",
       "      <td>While working underground to fix a water main ...</td>\n",
       "      <td>2023-04-05</td>\n",
       "      <td>Chris Pratt-Charlie Day-Anya Taylor-Joy-Jack B...</td>\n",
       "      <td>video game-gorilla-plumber-magic mushroom-anth...</td>\n",
       "    </tr>\n",
       "  </tbody>\n",
       "</table>\n",
       "</div>"
      ],
      "text/plain": [
       "                               title  \\\n",
       "0                             Fast X   \n",
       "1                The Pope's Exorcist   \n",
       "2  Ant-Man and the Wasp: Quantumania   \n",
       "3                          Creed III   \n",
       "4        The Super Mario Bros. Movie   \n",
       "\n",
       "                                      genres  \\\n",
       "0                      Action-Crime-Thriller   \n",
       "1                    Horror-Mystery-Thriller   \n",
       "2           Action-Adventure-Science Fiction   \n",
       "3                               Drama-Action   \n",
       "4  Animation-Family-Adventure-Fantasy-Comedy   \n",
       "\n",
       "                                            overview release_date  \\\n",
       "0  Over many missions and against impossible odds...   2023-05-17   \n",
       "1  Father Gabriele Amorth Chief Exorcist of the V...   2023-04-05   \n",
       "2  Super-Hero partners Scott Lang and Hope van Dy...   2023-02-15   \n",
       "3  After dominating the boxing world Adonis Creed...   2023-03-01   \n",
       "4  While working underground to fix a water main ...   2023-04-05   \n",
       "\n",
       "                                             credits  \\\n",
       "0  Vin Diesel-Michelle Rodriguez-Tyrese Gibson-Lu...   \n",
       "1  Russell Crowe-Daniel Zovatto-Alex Essoe-Franco...   \n",
       "2  Paul Rudd-Evangeline Lilly-Jonathan Majors-Kat...   \n",
       "3  Michael B. Jordan-Tessa Thompson-Jonathan Majo...   \n",
       "4  Chris Pratt-Charlie Day-Anya Taylor-Joy-Jack B...   \n",
       "\n",
       "                                            keywords  \n",
       "0                  sequel-revenge-racing-family-cars  \n",
       "1  spain-rome italy-vatican-pope-pig-possession-c...  \n",
       "2  hero-ant-sequel-superhero-based on comic-famil...  \n",
       "3  philadelphia pennsylvania-husband wife relatio...  \n",
       "4  video game-gorilla-plumber-magic mushroom-anth...  "
      ]
     },
     "execution_count": 25,
     "metadata": {},
     "output_type": "execute_result"
    }
   ],
   "source": [
    "df.head()"
   ]
  },
  {
   "cell_type": "code",
   "execution_count": 26,
   "id": "bf6132d4-87ee-419d-bffd-371f866bd8db",
   "metadata": {},
   "outputs": [
    {
     "data": {
      "text/html": [
       "<div>\n",
       "<style scoped>\n",
       "    .dataframe tbody tr th:only-of-type {\n",
       "        vertical-align: middle;\n",
       "    }\n",
       "\n",
       "    .dataframe tbody tr th {\n",
       "        vertical-align: top;\n",
       "    }\n",
       "\n",
       "    .dataframe thead th {\n",
       "        text-align: right;\n",
       "    }\n",
       "</style>\n",
       "<table border=\"1\" class=\"dataframe\">\n",
       "  <thead>\n",
       "    <tr style=\"text-align: right;\">\n",
       "      <th></th>\n",
       "      <th>title</th>\n",
       "      <th>genres</th>\n",
       "      <th>overview</th>\n",
       "      <th>release_date</th>\n",
       "      <th>credits</th>\n",
       "      <th>keywords</th>\n",
       "    </tr>\n",
       "  </thead>\n",
       "  <tbody>\n",
       "    <tr>\n",
       "      <th>count</th>\n",
       "      <td>722790</td>\n",
       "      <td>511931</td>\n",
       "      <td>604197</td>\n",
       "      <td>670327</td>\n",
       "      <td>497689</td>\n",
       "      <td>210271</td>\n",
       "    </tr>\n",
       "    <tr>\n",
       "      <th>unique</th>\n",
       "      <td>575353</td>\n",
       "      <td>11029</td>\n",
       "      <td>541572</td>\n",
       "      <td>41229</td>\n",
       "      <td>422842</td>\n",
       "      <td>119288</td>\n",
       "    </tr>\n",
       "    <tr>\n",
       "      <th>top</th>\n",
       "      <td>Home</td>\n",
       "      <td>Documentary</td>\n",
       "      <td>Mexican feature film</td>\n",
       "      <td>2014-01-01</td>\n",
       "      <td>Mel Blanc</td>\n",
       "      <td>short film</td>\n",
       "    </tr>\n",
       "    <tr>\n",
       "      <th>freq</th>\n",
       "      <td>108</td>\n",
       "      <td>95074</td>\n",
       "      <td>1115</td>\n",
       "      <td>2547</td>\n",
       "      <td>398</td>\n",
       "      <td>8337</td>\n",
       "    </tr>\n",
       "  </tbody>\n",
       "</table>\n",
       "</div>"
      ],
      "text/plain": [
       "         title       genres              overview release_date    credits  \\\n",
       "count   722790       511931                604197       670327     497689   \n",
       "unique  575353        11029                541572        41229     422842   \n",
       "top       Home  Documentary  Mexican feature film   2014-01-01  Mel Blanc   \n",
       "freq       108        95074                  1115         2547        398   \n",
       "\n",
       "          keywords  \n",
       "count       210271  \n",
       "unique      119288  \n",
       "top     short film  \n",
       "freq          8337  "
      ]
     },
     "execution_count": 26,
     "metadata": {},
     "output_type": "execute_result"
    }
   ],
   "source": [
    "df.describe()"
   ]
  },
  {
   "cell_type": "code",
   "execution_count": 27,
   "id": "f73cfc1d-1dcb-43d1-94bb-f59d8e1f7e36",
   "metadata": {},
   "outputs": [
    {
     "name": "stdout",
     "output_type": "stream",
     "text": [
      "<class 'pandas.core.frame.DataFrame'>\n",
      "RangeIndex: 722790 entries, 0 to 722789\n",
      "Data columns (total 6 columns):\n",
      " #   Column        Non-Null Count   Dtype \n",
      "---  ------        --------------   ----- \n",
      " 0   title         722790 non-null  object\n",
      " 1   genres        511931 non-null  object\n",
      " 2   overview      604197 non-null  object\n",
      " 3   release_date  670327 non-null  object\n",
      " 4   credits       497689 non-null  object\n",
      " 5   keywords      210271 non-null  object\n",
      "dtypes: object(6)\n",
      "memory usage: 33.1+ MB\n"
     ]
    }
   ],
   "source": [
    "df.info()"
   ]
  },
  {
   "cell_type": "code",
   "execution_count": 28,
   "id": "2ba4ff52-3314-4ea6-910e-2260cb250f53",
   "metadata": {},
   "outputs": [
    {
     "data": {
      "text/plain": [
       "Index(['title', 'genres', 'overview', 'release_date', 'credits', 'keywords'], dtype='object')"
      ]
     },
     "execution_count": 28,
     "metadata": {},
     "output_type": "execute_result"
    }
   ],
   "source": [
    "df.columns"
   ]
  },
  {
   "cell_type": "code",
   "execution_count": 85,
   "id": "58554055-8e22-4f09-a28a-400344cdb93a",
   "metadata": {},
   "outputs": [
    {
     "name": "stdout",
     "output_type": "stream",
     "text": [
      "title           object\n",
      "genres          object\n",
      "overview        object\n",
      "release_date    object\n",
      "credits         object\n",
      "keywords        object\n",
      "dtype: object\n"
     ]
    }
   ],
   "source": [
    "# List of columns to convert to string\n",
    "columns_to_convert = ['title', 'genres', 'overview', 'release_date', 'credits', 'keywords']\n",
    "\n",
    "# Convert the specified columns to string type\n",
    "for column in columns_to_convert:\n",
    "    df[column] = df[column].astype(str)\n",
    "\n",
    "# Print info to confirm the changes\n",
    "print(df[columns_to_convert].dtypes)\n",
    "\n",
    "# Optional: Check for any remaining non-string values\n",
    "for column in columns_to_convert:\n",
    "    non_string_count = df[column].apply(lambda x: not isinstance(x, str)).sum()\n",
    "    if non_string_count > 0:\n",
    "        print(f\"Warning: {non_string_count} non-string values found in '{column}' column after conversion.\")"
   ]
  },
  {
   "cell_type": "code",
   "execution_count": 17,
   "id": "4a5fc9de-9d82-4e24-a5f2-b865c6187295",
   "metadata": {},
   "outputs": [
    {
     "name": "stdout",
     "output_type": "stream",
     "text": [
      "Rows with non-string titles:\n",
      "Index: 433246, Title: None, Type: <class 'NoneType'>\n",
      "Index: 447810, Title: None, Type: <class 'NoneType'>\n",
      "Index: 485019, Title: None, Type: <class 'NoneType'>\n",
      "Index: 488369, Title: None, Type: <class 'NoneType'>\n",
      "Index: 614227, Title: None, Type: <class 'NoneType'>\n",
      "Index: 687779, Title: None, Type: <class 'NoneType'>\n"
     ]
    }
   ],
   "source": [
    "import pandas as pd\n",
    "\n",
    "# Assuming your DataFrame is named 'df'\n",
    "non_string_titles = []\n",
    "\n",
    "for index, row in df.iterrows():\n",
    "    if not isinstance(row['title'], str):\n",
    "        non_string_titles.append((index, row['title']))\n",
    "\n",
    "# Print the results\n",
    "if non_string_titles:\n",
    "    print(\"Rows with non-string titles:\")\n",
    "    for index, title in non_string_titles:\n",
    "        print(f\"Index: {index}, Title: {title}, Type: {type(title)}\")\n",
    "else:\n",
    "    print(\"All titles are strings.\")"
   ]
  },
  {
   "cell_type": "code",
   "execution_count": 18,
   "id": "2477de5f-384b-4a84-8984-9ddf703c61e5",
   "metadata": {},
   "outputs": [
    {
     "data": {
      "text/plain": [
       "{'title': None,\n",
       " 'genres': 'Science Fiction',\n",
       " 'overview': None,\n",
       " 'release_date': None,\n",
       " 'credits': None,\n",
       " 'keywords': None}"
      ]
     },
     "execution_count": 18,
     "metadata": {},
     "output_type": "execute_result"
    }
   ],
   "source": [
    "documents[433246]"
   ]
  },
  {
   "cell_type": "code",
   "execution_count": 82,
   "id": "453a91c5-3387-4fef-a422-dec09ada8298",
   "metadata": {},
   "outputs": [
    {
     "name": "stdout",
     "output_type": "stream",
     "text": [
      "Removed 2 rows with non-string titles.\n",
      "DataFrame now has 670327 rows.\n"
     ]
    }
   ],
   "source": [
    "# Create a boolean mask for rows where 'title' is a string\n",
    "mask = df['title'].apply(lambda x: isinstance(x, str))\n",
    "\n",
    "# Count the number of rows that will be removed\n",
    "rows_to_remove = (~mask).sum()\n",
    "\n",
    "# Apply the mask to keep only rows where 'title' is a string\n",
    "df = df[mask]\n",
    "\n",
    "# Reset the index if needed\n",
    "df.reset_index(drop=True, inplace=True)\n",
    "\n",
    "print(f\"Removed {rows_to_remove} rows with non-string titles.\")\n",
    "print(f\"DataFrame now has {len(df)} rows.\")"
   ]
  },
  {
   "cell_type": "code",
   "execution_count": 15,
   "id": "da3b2feb-fc50-4bd5-a5cc-42a9e7ed4a0e",
   "metadata": {},
   "outputs": [
    {
     "name": "stdout",
     "output_type": "stream",
     "text": [
      "<class 'str'>\n",
      "<class 'str'>\n",
      "<class 'str'>\n",
      "<class 'str'>\n",
      "<class 'str'>\n",
      "<class 'str'>\n"
     ]
    }
   ],
   "source": [
    "print(type(documents[0]['title']))\n",
    "print(type(documents[0]['genres']))\n",
    "print(type(documents[0]['overview']))\n",
    "print(type(documents[0]['release_date']))\n",
    "print(type(documents[0]['credits']))\n",
    "print(type(documents[0]['keywords']))"
   ]
  },
  {
   "cell_type": "code",
   "execution_count": 87,
   "id": "251b0f99-503d-4f7b-90ff-80ca6ebeb863",
   "metadata": {},
   "outputs": [],
   "source": [
    "documents = df.to_dict(orient='records')"
   ]
  },
  {
   "cell_type": "code",
   "execution_count": 88,
   "id": "d8de3bf4-3488-4e00-8525-e46ab6a814b5",
   "metadata": {
    "scrolled": true
   },
   "outputs": [
    {
     "data": {
      "text/plain": [
       "<minsearch.Index at 0x73b71934a390>"
      ]
     },
     "execution_count": 88,
     "metadata": {},
     "output_type": "execute_result"
    }
   ],
   "source": [
    "index.fit(documents)"
   ]
  },
  {
   "cell_type": "code",
   "execution_count": 24,
   "id": "bfc0e238-948b-43cc-9d0e-342bd03cb291",
   "metadata": {},
   "outputs": [
    {
     "data": {
      "text/plain": [
       "{'title': 'The Sand',\n",
       " 'genres': 'Horror',\n",
       " 'overview': 'After an all-night graduation beach party a group of hung-over students wakes up under the blazing sun to find their numbers somewhat depleted. An enormous alien creature has burrowed down deep and anyone foolish enough to make contact with the sand finds themselves at the mercy of a sea of flesh-eating tentacles. Will they ever be able to escape its carnivorous clutches?',\n",
       " 'release_date': '2015-08-28',\n",
       " 'credits': 'Brooke Butler-Cleo Berry-Cynthia Murell-Dean Geyer-Meagan Holder-Mitchel Musso-Nikki Leigh-Hector David Jr.-Jamie Kennedy-Bryan Boone-Etalvia Cashin-Jennifer Churchich-Randi Krasny-Adam Powell',\n",
       " 'keywords': 'beach-sand-stranded-alien-eaten alive'}"
      ]
     },
     "execution_count": 24,
     "metadata": {},
     "output_type": "execute_result"
    }
   ],
   "source": [
    "documents[2348]"
   ]
  },
  {
   "cell_type": "code",
   "execution_count": 34,
   "id": "5bbdeb42-0d58-4b3c-9802-5505b03616e4",
   "metadata": {},
   "outputs": [],
   "source": [
    "from openai import OpenAI\n",
    "\n",
    "client = OpenAI()"
   ]
  },
  {
   "cell_type": "code",
   "execution_count": 90,
   "id": "1083b5d0-b031-4727-a6ef-6aeb502a5e2c",
   "metadata": {},
   "outputs": [],
   "source": [
    "def search(query):\n",
    "    boost = {'title': 2, 'overview': 2, \"keywords\": 2, \"credits\":0.5}\n",
    "\n",
    "    results = index.search(\n",
    "        query=query,\n",
    "        # filter_dict={'course': 'data-engineering-zoomcamp'},\n",
    "        boost_dict=boost,\n",
    "        num_results=10\n",
    "    )\n",
    "\n",
    "    return results"
   ]
  },
  {
   "cell_type": "code",
   "execution_count": 100,
   "id": "376dc0d5-5614-4c8a-ba17-d15733e53508",
   "metadata": {},
   "outputs": [
    {
     "data": {
      "text/plain": [
       "[{'title': 'The Coronation of King George VI',\n",
       "  'genres': 'None',\n",
       "  'overview': \"Early film of the preparation for the coronation and of the coronation itself. The coronation of King George VI was a highlight of Technicolor's early success in England.\",\n",
       "  'release_date': '1937-01-24',\n",
       "  'credits': 'King George VI of the United Kingdom',\n",
       "  'keywords': 'george vi'},\n",
       " {'title': 'King George VI: The Accidental King',\n",
       "  'genres': 'None',\n",
       "  'overview': \"Documentary examining how a shy boy went on to become a national inspiration in Britain's darkest days during the Second World War. George VI was determined to return the monarchy to a state of steadfast stability after the brief reign of his brother Edward and his lasting legacy is seen to this day in the role his daughter Elizabeth plays as a devoted monarch to her subjects.\",\n",
       "  'release_date': '2020-06-19',\n",
       "  'credits': 'None',\n",
       "  'keywords': 'george vi'},\n",
       " {'title': 'The Wars of the Roses',\n",
       "  'genres': 'Drama-History',\n",
       "  'overview': \"A 1965 BBC adaptation of William Shakespeare's first historical tetralogy (1 Henry VI 2 Henry VI 3 Henry VI and Richard III) which deals with the conflict between the House of Lancaster and the House of York over the throne of England a conflict known as the Wars of the Roses. It was based on the 1963 theatre adaptation by John Barton and directed by Peter Hall for the Royal Shakespeare Company.\",\n",
       "  'release_date': '1965-04-08',\n",
       "  'credits': \"David Warner-Janet Suzman-Peggy Ashcroft-Donald Sinden-Paul Hardwick-Roy Dotrice-Ian Holm-Susan Engel-John Normington-Donald Burton-Nicholas Selby-David Waller-William Squire-Brewster Mason-Stephen Hancock-Clive Morton-Madoline Thomas-Charles Kay-Jeffery Dench-David Hargreaves-Derek Waring-Colette O'Neil-Eric Porter\",\n",
       "  'keywords': 'tudor-based on play or musical-british history-king of england-war of the roses-15th century'},\n",
       " {'title': 'Vi',\n",
       "  'genres': 'Science Fiction',\n",
       "  'overview': \"Vi is a computer system that enables people to work while asleep. Victor it's creator is entirely dedicated to it until one day he accidentally meets Laura in an artificial nightmare.\",\n",
       "  'release_date': '2022-02-20',\n",
       "  'credits': 'Yordan Rasin-Kostadinka Aratlakova-Ivo Arakov-Irinei Konstantinov',\n",
       "  'keywords': 'None'},\n",
       " {'title': 'Caught Between the Two',\n",
       "  'genres': 'Drama',\n",
       "  'overview': 'An educated woman finds her world going in circles when she falls in love with a man then soon realizes that she is not finished with her past relationship. She gets confused and is caught between the two. Who will she choose her past or her present?',\n",
       "  'release_date': '2016-06-01',\n",
       "  'credits': 'Chinedu Oji-Ruby Lee Dove II-Alex West-Jaye Alexander-Faith Simmons-Stephen Thomas-Brittany Monet-LaQuan Stallworth-Brandon Firby-Faustino Deblas-Catherine Lawrence Kinslow',\n",
       "  'keywords': 'amateur film-girlfriends-black community'},\n",
       " {'title': \"Doraemon: The Record of Nobita's Parallel Journey to the West\",\n",
       "  'genres': 'Animation-Adventure-Family-Fantasy-Science Fiction',\n",
       "  'overview': 'Nobita Gian Shizuka and Suneo is preparing for a school play on the \"Journey to the West\". As they are arguing about who should play the role of the monkey king Nobita suggested that the real monkey king should play the role. Because the monkey king is only a legend Nobita and Doraemon have decided to go back in time using the time machine and make a fake one and show Gian Shizuka and Suneo to prove that they are right. Unfortunately Doraemon\\'s machine allowed the fictional monsters to come to the real world and defeated the entire human races thus turning the future (Nobita\\'s time) into a demon-ruled world. In order to reverse the change Doraemon and gang needed to return to the past and capture the demons back into the machine. On the way they have met the real monk and rinrei (a child). At the end they have either returned the demons back to the machine or destroy them with Dorami\\'s help thus turning the future back to normal.',\n",
       "  'release_date': '1988-03-12',\n",
       "  'credits': 'Nobuyo Oyama-Noriko Ohara-Michiko Nomura-Kaneta Kimotsuki-Kazuya Tatekabe',\n",
       "  'keywords': 'time travel-journey to the west'},\n",
       " {'title': 'Between Two',\n",
       "  'genres': 'Romance',\n",
       "  'overview': 'In the high school basketball team Gaby is indisputable holder and Juliette her eternal substitute until the day when their rivalry takes them to a new playground.',\n",
       "  'release_date': '2020-02-07',\n",
       "  'credits': \"Malyka Johany-Morgane L'Hostis-Brice Laverdure-Julie Moulier-Naïsiwon El Aniou-Naïsiwon El Aniou-Naïsiwon El Aniou\",\n",
       "  'keywords': 'basketball-romance-lgbt athlete-queer-friends to lovers'},\n",
       " {'title': 'Paul VI: The Pope in the Tempest',\n",
       "  'genres': 'None',\n",
       "  'overview': 'The service of Pope Paul VI presents tremendous challenges for humanity not only in the political cultural and economic aspects of the world but also in the spiritual life of The Church. Pope Paul VI is the first Pope to be a Missionary Pope to meet people where they are. To trust in God as he was asking The Church to do and he is given the opportunity to love that trust in its fullness.',\n",
       "  'release_date': '2008-11-30',\n",
       "  'credits': 'Fabrizio Gifuni-Mauro Marino-Antonio Catania-Mariano Rigillo-Claudio Botosso-Fabrizio Bucci-Luca Lionello',\n",
       "  'keywords': 'None'},\n",
       " {'title': 'Coronation of Their Majesties King George VI and Queen Elizabeth',\n",
       "  'genres': 'None',\n",
       "  'overview': 'Dufaycolor record of King George VI\\'s coronation procession. Included on the BFI DVD \"A Royal Occasion\".',\n",
       "  'release_date': '1937-05-28',\n",
       "  'credits': 'None',\n",
       "  'keywords': 'None'},\n",
       " {'title': 'Between the Sky and the Earth',\n",
       "  'genres': 'Documentary',\n",
       "  'overview': 'The relationship between humans and a river throughout the seasons.',\n",
       "  'release_date': '1994-01-01',\n",
       "  'credits': 'None',\n",
       "  'keywords': 'None'}]"
      ]
     },
     "execution_count": 100,
     "metadata": {},
     "output_type": "execute_result"
    }
   ],
   "source": [
    "search(\"The plot centers on a conflict between humans seeking to mine valuable resources and the Na'vi who are trying to protect their home. Jake finds himself caught between the two sides as he grows closer to the Na'vi and their way of life.\")"
   ]
  },
  {
   "cell_type": "code",
   "execution_count": 98,
   "id": "82e4c8c9-d2e5-4b2c-bf9b-79e6d7d70be5",
   "metadata": {},
   "outputs": [
    {
     "data": {
      "text/plain": [
       "array(['After being held captive in an Afghan cave billionaire engineer Tony Stark creates a unique weaponized suit of armor to fight evil.',\n",
       "       \"During the Japanese occupation Little Tiger an honest cook in Shanghai takes exception of two Chinese that pass from insult to sexual harassment against a beautiful and modest girl servant. During the fight the pair of molesters receive help from a number of colleagues from the same martial arts school - who are in support of the Japanese - while Little Tiger is helped by young men from his own school. A major fight develops and the cook accidentally kills one of the thugs. The Police comes to arrest Little Tiger and to close down his school but they resist and the cook escapes. Little Tiger is now a fugitive living in disguise. When a duel between the two rival schools is arranged in an open-air site Little Tiger is watching disguised as an old man but he can't resist. He takes off his false beard declares his name and demands to join in the competition - beating up all competitors.\",\n",
       "       'In Coaltown Pennsylvania miner Coke Mason hopes to better himself buy a radio store and marry Rose Warren. His gambler brother George thinks Coke can be more successful as a boxer knowing that when he fights he\\'s consumed with a murderous rage that makes him an \"iron man.\" Seeing dollar signs in Rose\\'s eyes Coke reluctantly agrees though he\\'s fearful of the \"killer instinct\" that makes him a knockout success in the ring...and brings him the booing hatred of the fans. Will Coke throw off his personal demon before he kills someone?',\n",
       "       'Prizefighter Mason loses his opening fight so wife Rose leaves him for Hollywood. Without her around Mason trains and starts winning. Rose comes back and wants Mason to dump his manager Regan and replace him with her secret lover Lewis.',\n",
       "       \"During the Japanese occupation Little Tiger an honest cook in Shanghai takes exception of two Chinese that pass from insult to sexual harassment against a beautiful and modest girl servant. During the fight the pair of molesters receive help from a number of colleagues from the same martial arts school - who are in support of the Japanese - while Little Tiger is helped by young men from his own school. A major fight develops and the cook accidentally kills one of the thugs. The Police comes to arrest Little Tiger and to close down his school but they resist and the cook escapes. Little Tiger is now a fugitive living in disguise. When a duel between the two rival schools is arranged in an open-air site Little Tiger is watching disguised as an old man but he can't resist. He takes off his false beard declares his name and demands to join in the competition - beating up all competitors.\",\n",
       "       'Video work by Ahaad Al Amoudi'], dtype=object)"
      ]
     },
     "execution_count": 98,
     "metadata": {},
     "output_type": "execute_result"
    }
   ],
   "source": [
    "df[df['title'] == 'Iron Man'].overview.values"
   ]
  },
  {
   "cell_type": "code",
   "execution_count": 99,
   "id": "2bc98347-06da-4b0a-a41c-cbf84e8fa661",
   "metadata": {},
   "outputs": [
    {
     "data": {
      "text/html": [
       "<div>\n",
       "<style scoped>\n",
       "    .dataframe tbody tr th:only-of-type {\n",
       "        vertical-align: middle;\n",
       "    }\n",
       "\n",
       "    .dataframe tbody tr th {\n",
       "        vertical-align: top;\n",
       "    }\n",
       "\n",
       "    .dataframe thead th {\n",
       "        text-align: right;\n",
       "    }\n",
       "</style>\n",
       "<table border=\"1\" class=\"dataframe\">\n",
       "  <thead>\n",
       "    <tr style=\"text-align: right;\">\n",
       "      <th></th>\n",
       "      <th>title</th>\n",
       "      <th>genres</th>\n",
       "      <th>overview</th>\n",
       "      <th>release_date</th>\n",
       "      <th>credits</th>\n",
       "      <th>keywords</th>\n",
       "    </tr>\n",
       "  </thead>\n",
       "  <tbody>\n",
       "    <tr>\n",
       "      <th>874</th>\n",
       "      <td>Iron Man</td>\n",
       "      <td>Action-Science Fiction-Adventure</td>\n",
       "      <td>After being held captive in an Afghan cave bil...</td>\n",
       "      <td>2008-04-30</td>\n",
       "      <td>Robert Downey Jr.-Terrence Howard-Jeff Bridges...</td>\n",
       "      <td>middle east-arms dealer-malibu-superhero-based...</td>\n",
       "    </tr>\n",
       "    <tr>\n",
       "      <th>90798</th>\n",
       "      <td>Iron Man</td>\n",
       "      <td>Action-Adventure</td>\n",
       "      <td>During the Japanese occupation Little Tiger an...</td>\n",
       "      <td>1973-10-09</td>\n",
       "      <td>Ho Tsung-Tao-Chiang-Lung Wen-Nancy Yen Nan-See</td>\n",
       "      <td>martial arts</td>\n",
       "    </tr>\n",
       "    <tr>\n",
       "      <th>98996</th>\n",
       "      <td>Iron Man</td>\n",
       "      <td>Drama</td>\n",
       "      <td>In Coaltown Pennsylvania miner Coke Mason hope...</td>\n",
       "      <td>1951-09-20</td>\n",
       "      <td>Jeff Chandler-Evelyn Keyes-Stephen McNally-Roc...</td>\n",
       "      <td>sports-film noir</td>\n",
       "    </tr>\n",
       "    <tr>\n",
       "      <th>147937</th>\n",
       "      <td>Iron Man</td>\n",
       "      <td>Drama</td>\n",
       "      <td>Prizefighter Mason loses his opening fight so ...</td>\n",
       "      <td>1931-04-29</td>\n",
       "      <td>Lew Ayres-Robert Armstrong-Jean Harlow-John Mi...</td>\n",
       "      <td>pre-code-gold digger-boxing</td>\n",
       "    </tr>\n",
       "    <tr>\n",
       "      <th>177015</th>\n",
       "      <td>Iron Man</td>\n",
       "      <td>Action-Adventure</td>\n",
       "      <td>During the Japanese occupation Little Tiger an...</td>\n",
       "      <td>1973-10-09</td>\n",
       "      <td>Ho Tsung-Tao-Chiang-Lung Wen-Nancy Yen Nan-See</td>\n",
       "      <td>martial arts</td>\n",
       "    </tr>\n",
       "    <tr>\n",
       "      <th>414838</th>\n",
       "      <td>Iron Man</td>\n",
       "      <td>None</td>\n",
       "      <td>Video work by Ahaad Al Amoudi</td>\n",
       "      <td>2020-01-01</td>\n",
       "      <td>None</td>\n",
       "      <td>None</td>\n",
       "    </tr>\n",
       "  </tbody>\n",
       "</table>\n",
       "</div>"
      ],
      "text/plain": [
       "           title                            genres  \\\n",
       "874     Iron Man  Action-Science Fiction-Adventure   \n",
       "90798   Iron Man                  Action-Adventure   \n",
       "98996   Iron Man                             Drama   \n",
       "147937  Iron Man                             Drama   \n",
       "177015  Iron Man                  Action-Adventure   \n",
       "414838  Iron Man                              None   \n",
       "\n",
       "                                                 overview release_date  \\\n",
       "874     After being held captive in an Afghan cave bil...   2008-04-30   \n",
       "90798   During the Japanese occupation Little Tiger an...   1973-10-09   \n",
       "98996   In Coaltown Pennsylvania miner Coke Mason hope...   1951-09-20   \n",
       "147937  Prizefighter Mason loses his opening fight so ...   1931-04-29   \n",
       "177015  During the Japanese occupation Little Tiger an...   1973-10-09   \n",
       "414838                      Video work by Ahaad Al Amoudi   2020-01-01   \n",
       "\n",
       "                                                  credits  \\\n",
       "874     Robert Downey Jr.-Terrence Howard-Jeff Bridges...   \n",
       "90798      Ho Tsung-Tao-Chiang-Lung Wen-Nancy Yen Nan-See   \n",
       "98996   Jeff Chandler-Evelyn Keyes-Stephen McNally-Roc...   \n",
       "147937  Lew Ayres-Robert Armstrong-Jean Harlow-John Mi...   \n",
       "177015     Ho Tsung-Tao-Chiang-Lung Wen-Nancy Yen Nan-See   \n",
       "414838                                               None   \n",
       "\n",
       "                                                 keywords  \n",
       "874     middle east-arms dealer-malibu-superhero-based...  \n",
       "90798                                        martial arts  \n",
       "98996                                    sports-film noir  \n",
       "147937                        pre-code-gold digger-boxing  \n",
       "177015                                       martial arts  \n",
       "414838                                               None  "
      ]
     },
     "execution_count": 99,
     "metadata": {},
     "output_type": "execute_result"
    }
   ],
   "source": [
    "df[df['title'] == 'Iron Man']"
   ]
  },
  {
   "cell_type": "code",
   "execution_count": null,
   "id": "98dfe40a-d3cf-4a4a-9085-a4fb9c115878",
   "metadata": {},
   "outputs": [],
   "source": [
    "def build_prompt(query, search_results):\n",
    "    prompt_template = \"\"\"\n",
    "The user will provide the description and you will help user find the movie. Answer the QUESTION based on the CONTEXT from the movie information database.\n",
    "Use only the facts from the CONTEXT when answering the QUESTION.\n",
    "\n",
    "QUESTION: {question}\n",
    "\n",
    "CONTEXT: \n",
    "{context}\n",
    "\"\"\".strip()\n",
    "\n",
    "    context = \"\"\n",
    "    \n",
    "    for doc in search_results:\n",
    "        context = context + f\"section: {doc['title']}\\nquestion: {doc['question']}\\nanswer: {doc['text']}\\n\\n\"\n",
    "    \n",
    "    prompt = prompt_template.format(question=query, context=context).strip()\n",
    "    return prompt"
   ]
  }
 ],
 "metadata": {
  "kernelspec": {
   "display_name": "Python 3 (ipykernel)",
   "language": "python",
   "name": "python3"
  },
  "language_info": {
   "codemirror_mode": {
    "name": "ipython",
    "version": 3
   },
   "file_extension": ".py",
   "mimetype": "text/x-python",
   "name": "python",
   "nbconvert_exporter": "python",
   "pygments_lexer": "ipython3",
   "version": "3.12.1"
  }
 },
 "nbformat": 4,
 "nbformat_minor": 5
}
