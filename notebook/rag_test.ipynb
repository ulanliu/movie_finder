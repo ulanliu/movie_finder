{
 "cells": [
  {
   "cell_type": "code",
   "execution_count": 2,
   "id": "a33277df-1cce-4df6-b89c-d6fa508d2f15",
   "metadata": {},
   "outputs": [
    {
     "data": {
      "application/vnd.jupyter.widget-view+json": {
       "model_id": "af3d45b8b7504087abdbf252d340ac20",
       "version_major": 2,
       "version_minor": 0
      },
      "text/plain": [
       "VBox(children=(HTML(value='<center> <img\\nsrc=https://huggingface.co/front/assets/huggingface_logo-noborder.sv…"
      ]
     },
     "metadata": {},
     "output_type": "display_data"
    }
   ],
   "source": [
    "from huggingface_hub import login\n",
    "login()"
   ]
  },
  {
   "cell_type": "code",
   "execution_count": 2,
   "id": "b636a696-c931-40bc-bebd-7c28751bc977",
   "metadata": {},
   "outputs": [],
   "source": [
    "from datasets import load_dataset\n",
    "\n",
    "ds = load_dataset(\"ruslanmv/ai-medical-chatbot\", split=\"train\")"
   ]
  },
  {
   "cell_type": "code",
   "execution_count": 4,
   "id": "c148283d-3140-4dce-8bf8-9839254dd76b",
   "metadata": {},
   "outputs": [
    {
     "data": {
      "text/plain": [
       "Dataset({\n",
       "    features: ['Description', 'Patient', 'Doctor'],\n",
       "    num_rows: 256916\n",
       "})"
      ]
     },
     "execution_count": 4,
     "metadata": {},
     "output_type": "execute_result"
    }
   ],
   "source": [
    "ds"
   ]
  },
  {
   "cell_type": "code",
   "execution_count": 5,
   "id": "cd2f685a-9ac8-4b6f-b601-503c7459d1cd",
   "metadata": {},
   "outputs": [
    {
     "data": {
      "text/plain": [
       "{'Description': 'Q. What does abutment of the nerve root mean?',\n",
       " 'Patient': 'Hi doctor,I am just wondering what is abutting and abutment of the nerve root means in a back issue. Please explain. What treatment is required for\\xa0annular bulging and tear?',\n",
       " 'Doctor': 'Hi. I have gone through your query with diligence and would like you to know that I am here to help you. For further information consult a neurologist online -->'}"
      ]
     },
     "execution_count": 5,
     "metadata": {},
     "output_type": "execute_result"
    }
   ],
   "source": [
    "ds[0]"
   ]
  },
  {
   "cell_type": "code",
   "execution_count": 3,
   "id": "e1f37a59-c504-436c-9a7f-85c67b673ddd",
   "metadata": {},
   "outputs": [],
   "source": [
    "import pandas as pd\n",
    "\n",
    "df = ds.to_pandas()"
   ]
  },
  {
   "cell_type": "code",
   "execution_count": 7,
   "id": "092b098e-f3cc-4b4b-84f0-c00d4ee1d942",
   "metadata": {},
   "outputs": [
    {
     "name": "stdout",
     "output_type": "stream",
     "text": [
      "<class 'pandas.core.frame.DataFrame'>\n",
      "RangeIndex: 256916 entries, 0 to 256915\n",
      "Data columns (total 3 columns):\n",
      " #   Column       Non-Null Count   Dtype \n",
      "---  ------       --------------   ----- \n",
      " 0   Description  256916 non-null  object\n",
      " 1   Patient      256916 non-null  object\n",
      " 2   Doctor       256916 non-null  object\n",
      "dtypes: object(3)\n",
      "memory usage: 5.9+ MB\n"
     ]
    }
   ],
   "source": [
    "df.info()"
   ]
  },
  {
   "cell_type": "code",
   "execution_count": 9,
   "id": "0e01b2e6-b396-43f5-9ce2-d846ac5a28cc",
   "metadata": {},
   "outputs": [
    {
     "data": {
      "text/html": [
       "<div>\n",
       "<style scoped>\n",
       "    .dataframe tbody tr th:only-of-type {\n",
       "        vertical-align: middle;\n",
       "    }\n",
       "\n",
       "    .dataframe tbody tr th {\n",
       "        vertical-align: top;\n",
       "    }\n",
       "\n",
       "    .dataframe thead th {\n",
       "        text-align: right;\n",
       "    }\n",
       "</style>\n",
       "<table border=\"1\" class=\"dataframe\">\n",
       "  <thead>\n",
       "    <tr style=\"text-align: right;\">\n",
       "      <th></th>\n",
       "      <th>Description</th>\n",
       "      <th>Patient</th>\n",
       "      <th>Doctor</th>\n",
       "    </tr>\n",
       "  </thead>\n",
       "  <tbody>\n",
       "    <tr>\n",
       "      <th>0</th>\n",
       "      <td>Q. What does abutment of the nerve root mean?</td>\n",
       "      <td>Hi doctor,I am just wondering what is abutting...</td>\n",
       "      <td>Hi. I have gone through your query with dilige...</td>\n",
       "    </tr>\n",
       "    <tr>\n",
       "      <th>1</th>\n",
       "      <td>Q. What should I do to reduce my weight gained...</td>\n",
       "      <td>Hi doctor, I am a 22-year-old female who was d...</td>\n",
       "      <td>Hi. You have really done well with the hypothy...</td>\n",
       "    </tr>\n",
       "    <tr>\n",
       "      <th>2</th>\n",
       "      <td>Q. I have started to get lots of acne on my fa...</td>\n",
       "      <td>Hi doctor! I used to have clear skin but since...</td>\n",
       "      <td>Hi there Acne has multifactorial etiology. Onl...</td>\n",
       "    </tr>\n",
       "    <tr>\n",
       "      <th>3</th>\n",
       "      <td>Q. Why do I have uncomfortable feeling between...</td>\n",
       "      <td>Hello doctor,I am having an uncomfortable feel...</td>\n",
       "      <td>Hello. The popping and discomfort what you fel...</td>\n",
       "    </tr>\n",
       "    <tr>\n",
       "      <th>4</th>\n",
       "      <td>Q. My symptoms after intercourse threatns me e...</td>\n",
       "      <td>Hello doctor,Before two years had sex with a c...</td>\n",
       "      <td>Hello. The HIV test uses a finger prick blood ...</td>\n",
       "    </tr>\n",
       "  </tbody>\n",
       "</table>\n",
       "</div>"
      ],
      "text/plain": [
       "                                         Description  \\\n",
       "0      Q. What does abutment of the nerve root mean?   \n",
       "1  Q. What should I do to reduce my weight gained...   \n",
       "2  Q. I have started to get lots of acne on my fa...   \n",
       "3  Q. Why do I have uncomfortable feeling between...   \n",
       "4  Q. My symptoms after intercourse threatns me e...   \n",
       "\n",
       "                                             Patient  \\\n",
       "0  Hi doctor,I am just wondering what is abutting...   \n",
       "1  Hi doctor, I am a 22-year-old female who was d...   \n",
       "2  Hi doctor! I used to have clear skin but since...   \n",
       "3  Hello doctor,I am having an uncomfortable feel...   \n",
       "4  Hello doctor,Before two years had sex with a c...   \n",
       "\n",
       "                                              Doctor  \n",
       "0  Hi. I have gone through your query with dilige...  \n",
       "1  Hi. You have really done well with the hypothy...  \n",
       "2  Hi there Acne has multifactorial etiology. Onl...  \n",
       "3  Hello. The popping and discomfort what you fel...  \n",
       "4  Hello. The HIV test uses a finger prick blood ...  "
      ]
     },
     "execution_count": 9,
     "metadata": {},
     "output_type": "execute_result"
    }
   ],
   "source": [
    "df.head()"
   ]
  },
  {
   "cell_type": "code",
   "execution_count": 15,
   "id": "86f5e57c-026c-451c-ae35-4b2676f57870",
   "metadata": {
    "scrolled": true
   },
   "outputs": [
    {
     "data": {
      "text/html": [
       "<div>\n",
       "<style scoped>\n",
       "    .dataframe tbody tr th:only-of-type {\n",
       "        vertical-align: middle;\n",
       "    }\n",
       "\n",
       "    .dataframe tbody tr th {\n",
       "        vertical-align: top;\n",
       "    }\n",
       "\n",
       "    .dataframe thead th {\n",
       "        text-align: right;\n",
       "    }\n",
       "</style>\n",
       "<table border=\"1\" class=\"dataframe\">\n",
       "  <thead>\n",
       "    <tr style=\"text-align: right;\">\n",
       "      <th></th>\n",
       "      <th>Description</th>\n",
       "      <th>Patient</th>\n",
       "      <th>Doctor</th>\n",
       "    </tr>\n",
       "  </thead>\n",
       "  <tbody>\n",
       "    <tr>\n",
       "      <th>16542</th>\n",
       "      <td>Q. Why have I not got my periods yet?</td>\n",
       "      <td>Hello doctor, My fiancee got her periods one a...</td>\n",
       "      <td>Hi. Mostly pill is effective if taken within 7...</td>\n",
       "    </tr>\n",
       "    <tr>\n",
       "      <th>26693</th>\n",
       "      <td>Q. Is it possible to get pregnant without pene...</td>\n",
       "      <td>Hello doctor, I and my fiancee messed up. Beca...</td>\n",
       "      <td>Hello. Well, in this case I see that her guilt...</td>\n",
       "    </tr>\n",
       "    <tr>\n",
       "      <th>26940</th>\n",
       "      <td>Q. How can I gain weight?</td>\n",
       "      <td>Hello doctor, I want to gain weight. Please help.</td>\n",
       "      <td>Hello. I just read your query. You did not men...</td>\n",
       "    </tr>\n",
       "    <tr>\n",
       "      <th>27505</th>\n",
       "      <td>Q. What is the treatment for chalazion?</td>\n",
       "      <td>Hello doctor,I have a red bump under my low ey...</td>\n",
       "      <td>Hello. You are right it is a chalazion (attach...</td>\n",
       "    </tr>\n",
       "    <tr>\n",
       "      <th>27772</th>\n",
       "      <td>Q. What is the cause for increased bilirubin l...</td>\n",
       "      <td>Hello doctor,I am a 50-year-old male, slim, an...</td>\n",
       "      <td>Hello. You do not have any complaints. 1. Tota...</td>\n",
       "    </tr>\n",
       "    <tr>\n",
       "      <th>...</th>\n",
       "      <td>...</td>\n",
       "      <td>...</td>\n",
       "      <td>...</td>\n",
       "    </tr>\n",
       "    <tr>\n",
       "      <th>256882</th>\n",
       "      <td>Suggest better treatment for hair fall</td>\n",
       "      <td>I am a girl......23 years old......My height i...</td>\n",
       "      <td>Hello, I have gone through your query and woul...</td>\n",
       "    </tr>\n",
       "    <tr>\n",
       "      <th>256884</th>\n",
       "      <td>Suggest treatment for alopecia areata</td>\n",
       "      <td>hello sir,i am suffering from alopacia areata,...</td>\n",
       "      <td>Hello, I have gone through your query and intr...</td>\n",
       "    </tr>\n",
       "    <tr>\n",
       "      <th>256885</th>\n",
       "      <td>Suggest treatment for hair fall</td>\n",
       "      <td>doctor please i need ur help.im 26 years old f...</td>\n",
       "      <td>Hello, I have gone through your query and woul...</td>\n",
       "    </tr>\n",
       "    <tr>\n",
       "      <th>256892</th>\n",
       "      <td>What causes hair fall and thinning?</td>\n",
       "      <td>My Endo prescribed Armour in December. It s be...</td>\n",
       "      <td>Hello, I have gone through your query and woul...</td>\n",
       "    </tr>\n",
       "    <tr>\n",
       "      <th>256906</th>\n",
       "      <td>Suggest treatment for hair loss</td>\n",
       "      <td>I began taking Cerazette contraceptive pill in...</td>\n",
       "      <td>Hi, Female pattern hair loss can't be reversed...</td>\n",
       "    </tr>\n",
       "  </tbody>\n",
       "</table>\n",
       "<p>17788 rows × 3 columns</p>\n",
       "</div>"
      ],
      "text/plain": [
       "                                              Description  \\\n",
       "16542               Q. Why have I not got my periods yet?   \n",
       "26693   Q. Is it possible to get pregnant without pene...   \n",
       "26940                           Q. How can I gain weight?   \n",
       "27505             Q. What is the treatment for chalazion?   \n",
       "27772   Q. What is the cause for increased bilirubin l...   \n",
       "...                                                   ...   \n",
       "256882             Suggest better treatment for hair fall   \n",
       "256884              Suggest treatment for alopecia areata   \n",
       "256885                    Suggest treatment for hair fall   \n",
       "256892                What causes hair fall and thinning?   \n",
       "256906                    Suggest treatment for hair loss   \n",
       "\n",
       "                                                  Patient  \\\n",
       "16542   Hello doctor, My fiancee got her periods one a...   \n",
       "26693   Hello doctor, I and my fiancee messed up. Beca...   \n",
       "26940   Hello doctor, I want to gain weight. Please help.   \n",
       "27505   Hello doctor,I have a red bump under my low ey...   \n",
       "27772   Hello doctor,I am a 50-year-old male, slim, an...   \n",
       "...                                                   ...   \n",
       "256882  I am a girl......23 years old......My height i...   \n",
       "256884  hello sir,i am suffering from alopacia areata,...   \n",
       "256885  doctor please i need ur help.im 26 years old f...   \n",
       "256892  My Endo prescribed Armour in December. It s be...   \n",
       "256906  I began taking Cerazette contraceptive pill in...   \n",
       "\n",
       "                                                   Doctor  \n",
       "16542   Hi. Mostly pill is effective if taken within 7...  \n",
       "26693   Hello. Well, in this case I see that her guilt...  \n",
       "26940   Hello. I just read your query. You did not men...  \n",
       "27505   Hello. You are right it is a chalazion (attach...  \n",
       "27772   Hello. You do not have any complaints. 1. Tota...  \n",
       "...                                                   ...  \n",
       "256882  Hello, I have gone through your query and woul...  \n",
       "256884  Hello, I have gone through your query and intr...  \n",
       "256885  Hello, I have gone through your query and woul...  \n",
       "256892  Hello, I have gone through your query and woul...  \n",
       "256906  Hi, Female pattern hair loss can't be reversed...  \n",
       "\n",
       "[17788 rows x 3 columns]"
      ]
     },
     "execution_count": 15,
     "metadata": {},
     "output_type": "execute_result"
    }
   ],
   "source": [
    "df[df.duplicated(subset='Description')]"
   ]
  },
  {
   "cell_type": "code",
   "execution_count": 4,
   "id": "f7a2365b-f77e-428c-a797-1db8f3d5601f",
   "metadata": {},
   "outputs": [],
   "source": [
    "df = df.drop_duplicates(subset=['Description', 'Patient'], )"
   ]
  },
  {
   "cell_type": "code",
   "execution_count": 14,
   "id": "2c658bc3-a266-4204-b03f-308a0c5508a3",
   "metadata": {},
   "outputs": [
    {
     "name": "stdout",
     "output_type": "stream",
     "text": [
      "<class 'pandas.core.frame.DataFrame'>\n",
      "Index: 246510 entries, 0 to 256915\n",
      "Data columns (total 3 columns):\n",
      " #   Column       Non-Null Count   Dtype \n",
      "---  ------       --------------   ----- \n",
      " 0   Description  246510 non-null  object\n",
      " 1   Patient      246510 non-null  object\n",
      " 2   Doctor       246510 non-null  object\n",
      "dtypes: object(3)\n",
      "memory usage: 7.5+ MB\n"
     ]
    }
   ],
   "source": [
    "df.info()"
   ]
  },
  {
   "cell_type": "code",
   "execution_count": 23,
   "id": "fed44e4a-edd9-46fd-926a-7607aeefffa1",
   "metadata": {},
   "outputs": [
    {
     "name": "stdout",
     "output_type": "stream",
     "text": [
      "--2024-09-12 09:43:46--  https://raw.githubusercontent.com/alexeygrigorev/minsearch/main/minsearch.py\n",
      "Resolving raw.githubusercontent.com (raw.githubusercontent.com)... 185.199.110.133, 185.199.109.133, 185.199.108.133, ...\n",
      "Connecting to raw.githubusercontent.com (raw.githubusercontent.com)|185.199.110.133|:443... connected.\n",
      "HTTP request sent, awaiting response... 200 OK\n",
      "Length: 3832 (3.7K) [text/plain]\n",
      "Saving to: ‘minsearch.py’\n",
      "\n",
      "minsearch.py        100%[===================>]   3.74K  --.-KB/s    in 0s      \n",
      "\n",
      "2024-09-12 09:43:46 (46.0 MB/s) - ‘minsearch.py’ saved [3832/3832]\n",
      "\n"
     ]
    }
   ],
   "source": [
    "#!wget https://raw.githubusercontent.com/alexeygrigorev/minsearch/main/minsearch.py"
   ]
  },
  {
   "cell_type": "code",
   "execution_count": 3,
   "id": "6795ace9-b850-43e6-9e13-624a6706ed63",
   "metadata": {},
   "outputs": [],
   "source": [
    "import minsearch\n",
    "import pandas as pd"
   ]
  },
  {
   "cell_type": "code",
<<<<<<< HEAD
   "execution_count": 10,
=======
   "execution_count": 2,
   "id": "00d23cdb-c6a4-40b6-a3db-8aad2a67f53b",
   "metadata": {},
   "outputs": [],
   "source": [
    "df = pd.read_csv('../data/data.csv')"
   ]
  },
  {
   "cell_type": "code",
   "execution_count": 3,
   "id": "bb9643a9-32f6-4c5b-a6c7-329031efdeb6",
   "metadata": {},
   "outputs": [],
   "source": [
    "index = minsearch.Index(\n",
    "    text_fields=['Description','Patient', 'Doctor'],\n",
    "    keyword_fields=[\"\"]\n",
    ")"
   ]
  },
  {
   "cell_type": "code",
   "execution_count": 4,
   "id": "314415a3-0cd9-48be-b9dd-0dbe4cef7f45",
   "metadata": {},
   "outputs": [],
   "source": [
    "documents = df.to_dict(orient='records')"
   ]
  },
  {
   "cell_type": "code",
   "execution_count": 5,
   "id": "b7ddf939-1a4a-4b5a-b252-27c3195c7750",
   "metadata": {},
   "outputs": [
    {
     "data": {
      "text/plain": [
       "<minsearch.Index at 0x799804506060>"
      ]
     },
     "execution_count": 5,
     "metadata": {},
     "output_type": "execute_result"
    }
   ],
   "source": [
    "index.fit(documents)"
   ]
  },
  {
   "cell_type": "code",
   "execution_count": 6,
   "id": "56d2c57b-7020-4f52-b31f-bd0f792ed651",
   "metadata": {},
   "outputs": [],
   "source": [
    "def minsearch_search(query):\n",
    "    boost = {'Description': 2}\n",
    "\n",
    "    results = index.search(\n",
    "        query=query,\n",
    "        boost_dict=boost,\n",
    "        num_results=10\n",
    "    )\n",
    "\n",
    "    return results"
   ]
  },
  {
   "cell_type": "code",
   "execution_count": 8,
>>>>>>> 576ef31f491c0f5e624624c65d99091e38c0a6e4
   "id": "efc3e7c0-0cbd-44ce-b619-d5a9cb0920b5",
   "metadata": {
    "scrolled": true
   },
   "outputs": [
    {
     "data": {
      "text/plain": [
       "[{'Description': 'Suggest remedy for sprained ankle with swelling',\n",
       "  'Patient': 'Hello, I just recently sprained my ankle but it recovered about 3 days ago but I do sometimes struggle to move it side to side, I was walking today and rolled over again but this time I didn’t fall I just felt a pop noise on my ankle, I can still walk on it but I just can’t cross my legs and my ankle has also swollen again',\n",
       "  'Doctor': 'Dear patient there is need to restart treatment for sprained ankle. This time xray of the ankle anteroposterior and lateral views should be taken to rule out bony injury. Apply ankle binder for 3 weeks. keep limb elevated on 2 pillows. do ice packs application. Take tab zerodol sp twice a day for pain relief. If xray is abnormal please consult orthopaedic surgeon nearby your area.'},\n",
       " {'Description': 'What to do for sprained ankle?',\n",
       "  'Patient': 'I suppose the era the canada goose wall socket learners compiled, The exact WWW.WWWW.WW Goose Jackets busy picture, My young people discussion connected seasky, Decent relate a diminishing materialized a bunch of. I suppose by means of these friends take in a drop of vino, Ask wasted time office room in your home in that, speedy stagnation, Settle that a strong head. Canada goose Freestyle VestTimberland galoshes retailer most of all those solar cells monocle marketing re stiffened in the walls making use of a fractional skin stop and Canada Goose parka north america laminated place inside that experts claim helps to keep canada goose jackets toilet the jacket canada goose jackets in with regard to that waist property. Indeed never! give for only healthy any existing hem sprained ankle direct to the point. And regardless if ground local climate remains to be to be canada goose expedition must but not necessarily quite suprisingly nominal, With each other at the same time choosing storms within the last.En aning compacted excellent skiing conditions might be selection during the night air in phoenix. Specific to the rest of the world sea-region operators, Nicely disturbed to rest, Could be educational facilities aside on online games. An playoffs within season appeared incredibly good baseball anywhere since start to finish, Finishing in different title football side to the NHL s most well known enhance. Category work ended up ready.Cover a great sit-on cycling signifies of cinrdign WWW.WWWW.WW Goose sale. Nevertheless, Majority of these kinds popular jackets has to be very expensive. jacket picture over the new n. nits may cost a hundred greenbacks new. Canada Goose ( is better known for their reliability, Best suited, Efficiency and elegance. An amazing singer. that they ll have something will fashionable you re likely to Canada Goose Jackets prepare for your forthcoming major exterior lighting quest at the chill, Select a hydrating lotion, Pushing blood through any feet to become able to work optimally. It will make feet lustrous. The background music exercises qualities contains Stereoscopic WWW.WWWW.WW Goose parka images stereo generating gps, RDS, An exact tracking, Electric Ambit, America online street, Movies game lover, In addition, Ipod. A width connected with world-wide-web artists advantage use only that men both similarly start employing match for modern components.Ought to evaluate the online privacy and canada goose trillium parka thus relation to Use in advance of when with this site. Our call time site usually means settlement develop into destined of the relation to Use, Involving individual Personal essence feel altitudes.',\n",
       "  'Doctor': \"Dear patient I'm sorry I could not understand what you wanted to ask. However if it is a sprained ankle you want to treat follow these steps1) Ice the ankle2) Wrap crape bandage 3 ) Try not to put weight on the ankleHope u feel better\"},\n",
       " {'Description': 'What can I do to heal sprained ankle?',\n",
       "  'Patient': \"I've sprained my ankle multiple times now, gone through PT and a boot, RICE, of course, but I sprained it recently and this time it is different. It's been a month and I am still unable to bear weight. I run, so recently I have been biking and the days after I bike I really cant walk. I am not sure what I should do\",\n",
       "  'Doctor': 'Hi i am Dr Ahmed Aly    thanks for using healthcaremagic site ,I had gone through your question and understand your concerns ..      In my opinion you may have some tenosynovitis from your old injury which is inflammation to your tendons and muscle origins for my patients i recommend hot massaging twice daily with topical gels ,wearing ankle support or slabbing it will help , you may need time to heel  so rest a little avoid vigorous movements and physiotherapy and even yoga are helpful in such cases . Please click THANK YOU and consider a 5 star rating with some positive feedback if the information was helpful. Hope the above information helps you,Any further clarifications feel free to ask.'},\n",
       " {'Description': 'How to treat sprained ankle?',\n",
       "  'Patient': 'My daughter has a severely sprained right ankle.  She sprained it on Sunday, went to the hospital emergency room, had an x-ray indicating NO broken bones.  However, after R.I.C.E. Since Sunday, her ankle is still swollen, bruised on both sides of the ankle and she cannot put weight on it.  Should she see a physician and see if she can get an ankle boot to help avoid more injury?',\n",
       "  'Doctor': 'Hi,Welcome to healthcare magic.After going through your query I think  your daughter  is suffering from soft tissue injury and ligament pain.Treatment of it is rest and analgesics (diclofenac three times a day after meals). It may take two to three weeks time to relief. Vitamin  B-complex and vitamin C will help promote healing. However she can get  x ray done to exclude fracture .She can see an orthopedician. Ankle boot will be helpful to avoid more injury.I think your query answered.Welcome to any follow up query.'},\n",
       " {'Description': 'What does burning sensation on sprained ankle indicate?',\n",
       "  'Patient': 'I m pretty sure I sprained my right ankle yesterday. I can put weight on it, there is little to no bruising and the swelling has gone down a little but I have a constant burning sensation on the outter side of my ankle going up my calf a little. Is this something I should worry about. I plan on going to work tomorrow.',\n",
       "  'Doctor': 'Hello,Your symptoms seem to be related to the sprained ankle. I suggest using anti-inflammatory medications such as Ibuprofen to relieve the pain. I recommend to use cold compresses for local application. I suggest to use a splint to prevent further damage of the ankle.Hope I have answered your question. Let me know if I can assist you further. Regards, Dr. Dorina Gurabardhi, General & Family Physician'},\n",
       " {'Description': 'Suggest treatment for sprained ankle',\n",
       "  'Patient': \"I badly sprained my ankle on Sunday. It had an X-ray and he said it wasn't broken. I have grade 2 ligament damage. I have been trying to exercise it as advised. Everytime I walk on it, I feel sick. My gate is improving slowly but is still very limited. I have bruising and swelling all over my foot and ankle but also halfway up my shin. Is feeling so sick normal?\",\n",
       "  'Doctor': 'Dear sir /madam ligament sprain for the inflammation to settle down and to proceed for healing takes 3 weeks from onset of  injury, It is recommended to elevate your limb under pillow, ice fomentation, give rest and Creepe bandage support. Yes ankle sprain has such morbidity, Which usually settles down with time.'},\n",
       " {'Description': 'Suggest medical treatment for sprained and swollen ankle',\n",
       "  'Patient': '55YO male seems to be sprained ankle with swelling from twist injury, but feels much better with walking and activity. After sitting an hour or so much worse pain when getting up and almost can t bear weight for the first steps 3 days - using ice and Advil and elevate when can.',\n",
       "  'Doctor': 'Dear patient Ankle sprain is less likely since pain increases on walking and activity in sprained ankle. where exactly is the pain?  if it is within  ankle and improves with activity inflammatory condition is more likely like early arthritis. If pain is in the bottom of heel bone likely disease is plantar fascitis. you need to be examined by orthopaedic surgeon to conform diagnosis. Meanwhile start tab zerodol sp twice a day for pain relief.'},\n",
       " {'Description': 'Suggest treatment for pain and sprained my ankle',\n",
       "  'Patient': 'Hi. I sprained my ankle 3 days ago. The first day, there was swelling, pain, and I couldn t move my toes very well. The second day was a significant improvement. The swelling went down, it didn t really hurt, and I could move my toes almost normally. Today is the third day, and I feel like it s gone backwards. The swelling is back, and I can barely move my toes again, but there isn t any pain really. When I curl my toes downward, there s a significant throbbing under them until I let go, which doesn t happen in the other foot. I m just wondering if I should be seeking medical attention, or if this will go away on its own. Any help would be greatly appreciated. Thank you.',\n",
       "  'Doctor': 'Hello, The pain and swelling after a sprain can be due to torn ligaments or a bone injury. You need to get an MRI scan done to detect the extent of the injury. Avoid weight bearing on the foot and keep it elevated on two pillows for relief. Hope I have answered your query. Let me know if I can assist you further. Take care Regards, Dr Praveen Tayal, Orthopaedic Surgeon'},\n",
       " {'Description': 'What are the precaution to be take for sprained ankle?',\n",
       "  'Patient': 'I have sprained my ankle and want to know: How long should i rest? Should I use two ace bandages wrapped on it so that there is more compression, support and a thicker wrap? How long should i have it bandaged? How do I walk on it because I haven t got crutches but it hurts, so what can I do to walk as little as possible? How do I sleep with it do I keep it bandaged and put it on a pillow?',\n",
       "  'Doctor': 'Hello,I read carefully your query and understand your concern. The symptoms seem to be related to a sprained ankle. You should feel much better after 2 weeks. Once the swelling has gone down and you can walk without pain, you can probably start exercises to build flexibility and strength.You can use anti inflammatory medications such as Acetaminophen to relieve the pain. Hope my answer was helpful.If you have further queries feel free to contact me again.Kind regards! Dr.Dorina Gurabardhi General &Family Physician'},\n",
       " {'Description': 'Suggest medication for a sprained ankle',\n",
       "  'Patient': 'Hi, Doctor...iam 56yrs old..5ft 7inches and abt 90kg...I fel from a stair case..abt three steps away from the ground and had a sprained ankle...i was given some pain relievin drugs like feldene... Ibuprofen..kotase but after three days i noticed swelling on the ankle area and my toes...what else can i take...as am havin pains amd the leg is heavy(iam diabetic)',\n",
       "  'Doctor': 'Hello, Mild compression,Limb elevation,toe movements and ice/cold packs would be of much help in early stages of injury. After 3 to 5 days contrast bath with warm and cold packs would provide more benefits.Avoid full weight bearing. Even after 7days of above therapy if no relief,an X ray would be advisable.The medicine described above is enough for pain relief. Hope I have answered your query. Let me know if I can assist you further. Take care Regards, Dr. Rajesh Gayakwad'}]"
      ]
     },
     "execution_count": 10,
     "metadata": {},
     "output_type": "execute_result"
    }
   ],
   "source": [
    "minsearch_search('I sprained my ankle. What should I do?')"
   ]
  },
  {
   "cell_type": "code",
   "execution_count": 5,
   "id": "adafa719-f0b8-40a2-9781-db78c9ee2eef",
   "metadata": {},
   "outputs": [],
   "source": [
    "from openai import OpenAI\n",
    "\n",
    "client = OpenAI(\n",
    "    base_url='http://localhost:11434/v1/',\n",
    "    api_key='ollama'\n",
    ")"
   ]
  },
  {
   "cell_type": "code",
   "execution_count": 13,
   "id": "989d9b40-ce77-4dae-ad7f-24820abc8ea7",
   "metadata": {},
   "outputs": [],
   "source": [
    "def build_prompt(query, search_results):\n",
    "    prompt_template = \"\"\"\n",
    "You are a knowledgeable and empathetic medical assistant specializing in providing detailed and accurate information based on real patient-doctor conversations. \n",
    "You must interpret the given context to address the user's question effectively.\n",
    "Your responses should be clear, concise, and consider the medical and emotional aspects of the situation. \n",
    "Use the context provided to ensure that your answer is grounded in the information retrieved, avoiding speculation or providing advice outside of the context.\n",
    "\n",
    "Question: {question}\n",
    "\n",
    "Context:\n",
    "{context}\n",
    "\n",
    "Instructions:\n",
    "1. Analyze the context carefully to identify relevant information related to the user's question.\n",
    "2. Provide an informative and empathetic response, ensuring it aligns with the retrieved context.\n",
    "3. If the context does not directly answer the question, use general medical knowledge cautiously to give a helpful but non-definitive response.\n",
    "4. Prioritize the clarity and accuracy of information, using language accessible to a general audience.\n",
    "5. If necessary, indicate when it would be appropriate for the user to seek further medical consultation.\n",
    "\"\"\".strip()\n",
    "\n",
    "    context = \"\"\n",
    "    \n",
    "    for doc in search_results:\n",
    "        context = context + f\"Description: {doc['Description']}\\nPatient: {doc['Patient']}\\nDoctor: {doc['Doctor']}\\n\\n\"\n",
    "    \n",
    "    prompt = prompt_template.format(question=query, context=context).strip()\n",
    "    return prompt"
   ]
  },
  {
   "cell_type": "code",
   "execution_count": 7,
   "id": "301d714c-dfda-4be7-a94f-4fa108f1b6be",
   "metadata": {},
   "outputs": [],
   "source": [
    "def llm(prompt):\n",
    "    response = client.chat.completions.create(\n",
    "        model='phi3',\n",
    "        messages=[{\"role\": \"user\", \"content\": prompt}]\n",
    "    )\n",
    "    \n",
    "    return response.choices[0].message.content"
   ]
  },
  {
   "cell_type": "code",
   "execution_count": 28,
   "id": "6c49c7d2-cbca-42ab-9a16-c3b8ae865d91",
   "metadata": {},
   "outputs": [],
   "source": [
    "def rag(query):\n",
    "    search_results = search(query)\n",
    "    prompt = build_prompt(query, search_results)\n",
    "    answer = llm(prompt)\n",
    "    return answer"
   ]
  },
  {
   "cell_type": "code",
   "execution_count": 29,
   "id": "2ccd3258-401c-49c7-8599-8302d35708e7",
   "metadata": {},
   "outputs": [
    {
     "data": {
      "text/plain": [
       "'Hi there,\\n\\nThe symptoms of sinusitis typically include:\\n\\n1. **Facial Pain and Pressure**: You might feel pain and pressure around your forehead, eyes, nose, and cheeks.\\n2. **Nasal Congestion**: This can lead to difficulty breathing through your nose.\\n3. **Thick Nasal Discharge**: The mucus may be yellow or green.\\n4. **Loss of Smell**: Your sense of smell might be reduced or lost.\\n5. **Cough**: This can be worse at night.\\n6. **Sore Throat**: Post-nasal drip can cause throat irritation.\\n7. **Headache**: Pain associated with sinusitis can radiate to the head, leading to headaches.\\n8. **Ear Pain or Fullness**: Sensation of fullness or pain in the ear.\\n9. **Fatigue**: Feeling unusually tired or exhausted.\\n10. **Bad Breath**: Often due to the accumulation of bacteria in the sinuses.\\n\\nIn some conversations, patients reported symptoms like pain in the head, yellow mucus, and stuffiness which align with sinusitis. If you are experiencing any of these symptoms, it might be helpful to consult with an ENT specialist for a precise diagnosis and treatment plan.\\n\\nGiven your concern, if the symptoms persist or worsen, I recommend seeing a healthcare provider for an evaluation to ensure appropriate treatment.\\n\\nTake care!'"
      ]
     },
     "execution_count": 29,
     "metadata": {},
     "output_type": "execute_result"
    }
   ],
   "source": [
    "rag('Hi Doctor, I want to know the symptoms of sinusitis. I think I have it.')"
   ]
  },
  {
   "cell_type": "code",
   "execution_count": 31,
   "id": "4bbd983f-8ac0-4dee-8532-62b96b913444",
   "metadata": {},
   "outputs": [],
   "source": [
    "results = search('Hi Doctor, I want to know the symptoms of sinusitis. I think I have it.')"
   ]
  },
  {
   "cell_type": "code",
   "execution_count": 1,
   "id": "7f54fd8c-9c08-466f-82da-f07667d988dc",
   "metadata": {},
   "outputs": [],
   "source": [
    "from elasticsearch import Elasticsearch"
   ]
  },
  {
   "cell_type": "code",
   "execution_count": 8,
   "id": "28681e78-96ef-4ead-b380-75d8fd40cbb3",
   "metadata": {},
   "outputs": [],
   "source": [
    "es_client = Elasticsearch('http://localhost:9200')"
   ]
  },
  {
   "cell_type": "code",
   "execution_count": 9,
   "id": "497af5cd-9441-49a4-98aa-6e8901590d8a",
   "metadata": {},
   "outputs": [
    {
     "data": {
      "text/plain": [
       "ObjectApiResponse({'acknowledged': True, 'shards_acknowledged': True, 'index': 'health_questions'})"
      ]
     },
     "execution_count": 9,
     "metadata": {},
     "output_type": "execute_result"
    }
   ],
   "source": [
    "index_settings = {\n",
    "    \"settings\": {\n",
    "        \"number_of_shards\": 1,\n",
    "        \"number_of_replicas\": 0\n",
    "    },\n",
    "    \"mappings\": {\n",
    "        \"properties\": {\n",
    "            \"Description\": {\"type\": \"text\"},\n",
    "            \"Patient\": {\"type\": \"text\"},\n",
    "            \"Doctor\": {\"type\": \"text\"}\n",
    "        }\n",
    "    }\n",
    "}\n",
    "\n",
    "index_name = \"health_questions\"\n",
    "\n",
    "es_client.indices.create(index=index_name, body=index_settings)"
   ]
  },
  {
   "cell_type": "code",
   "execution_count": 16,
   "id": "ea1c4e84-056b-4c61-90bd-aaeb384ef22a",
   "metadata": {
    "scrolled": true
   },
   "outputs": [
    {
     "data": {
      "text/plain": [
       "[{'Description': 'Q. I have sinusitis. Am I at high risk of getting Coronavirus infection?',\n",
       "  'Patient': 'Hello doctor, I am a sinusitis patient. But I do not face any breathing problems. And I am just 21 year old. Is Corona dangerous for sinusitis patients? Please tell me I really want to know.',\n",
       "  'Doctor': \"Hi. Corona is dangerous for each and everyone one of us. However, there are few conditions where the patient's body immunity is on the lower side. One such condition is recurrent allergy associated sinusitis. You may be completely asymptomatic, but in general patients probe for allergy and associated sinusitis do have a slightly higher risk for acquiring any infection for that matter. It is always better to take adequate care and precautionary measures must be followed at all costs failing which you not only expose yourself but expose others as well. Make sure that the sinusitis and related symptoms are treated in an effective manner. I have not gone into the treatment for sinusitis as your question was very specific regarding the lethality of Coronavirus in patients with sinusitis. I hope this helps.\"},\n",
       " {'Description': 'Q. I have increased ringing in both ears after diagnosed with post nasal drip. Why?',\n",
       "  'Patient': 'Hello doctor, I have increased ringing in both ears. I have been diagnosed with post nasal drip. The left ear feels blocked and the left side of the throat feels clogged as well. I had taken antibiotics on the prescription but that is not working. My ear testing results were normal.',\n",
       "  'Doctor': 'Hello. Your problem seems to be due to sinusitis. Sinusitis itself can cause clogged feelings in the throat or sinusitis can cause secondary pharyngitis which can cause throat problems. Do you have a headache or nose block or excessive sneezing? I will want you to send me a clear picture of your throat where I can see your tonsils and posterior pharyngeal wall. Also, please let me know the name of the medicines you have been taking and also the duration. I am enabling free follow up. Please revert back.'},\n",
       " {'Description': 'Suffer from abdominal pain and weight loss. H pylori test negative. What else?',\n",
       "  'Patient': 'have pretty severe upper abdominal pain. Have seen Gi doctor. Had endoscopy and biopsy results are normal, but It showed some irritation. Blood test for h pylori are negative. Put on PPI, eating bland diet with no relief. I am losing weight and suffer with pain every day. It has been going on since March 1, 2013. Can I have H Pylori even though my test came back negative?',\n",
       "  'Doctor': 'Hi there ~The abdominal pain and weight loss may be related to your H pylori tests coming back as negative.  I think that you have seen a GI doctor and the endoscopy and biopsy results are normal.  I am sure the GI doctor prescribed medications that were related to assumed gastritis as it is the most common cause of your symptoms.   I think you might need more investigations if the symptoms do not get better soon.  I also think that you might want to try some pain medications over the counter.  Sometimes symptoms are psychological and relieving your anxiety might make things better for you.  I believe you should find a good doctor that will help with treating your anxiety with psychotropic medications.  I hope this helps.Take care and have a lovely day!'},\n",
       " {'Description': 'What causes blood from nose with a pressure in back left of head?',\n",
       "  'Patient': 'Hi there, I am 29 years old, I am 6 foot 200 pounds. My medical history is that I have IBS and I had tubes in my ears and I once had surgery on the back left of my neck to remove a cyst that turned out to be nothing. 2 questions, every morning I wake up with a blocked nose. When i blow my nose, some blood comes out but only comes out of my left nostril. It last for two blows in a tissue and then I don t see it the rest of the day. It has been constant. Also, I have had a very dull pressure feeling in the back left of my head by my ear. This has been constant as well.',\n",
       "  'Doctor': 'Hello, Your issues are linked more likely with sinusitis (chronic sinusitis in your case). This because of the symptoms and the past issues with your middle ear. It is necessary for you to get evaluated further by an ENT Doctor and by imaging of sinuses such as CT scan in order to achieve a correct diagnosis. Hope I have answered your query. Let me know if I can assist you further. Take care. Regards, Dr. Erion Spaho, Neurologist, Surgical'},\n",
       " {'Description': 'Suggest therapy for wheezing followed by cough & tickle in the throat',\n",
       "  'Patient': \"I went to the dr today. I have been wheezing at night and waking up with a tickle in my throat.  Then I will start having a coughing fit while (almost vomiting) clear, bubbly mucus. He heard wheezing in the left lung and took a chest X-ray that appeared normal. He prescribed prednisone (20mg 3 pillsa day for 5 days) a z-PAC and robitusin DM. I will start the prednisone in the morning as I have no appetite.  All the other mess I took. I still have a persistent tickle in my throat and gag on phlegm when I lay down. Can I take a benedryl?  Will it help?  Also is it ok to take the predisione like that without weening off?  I haven't slept for days bc of this mucus choking me. Any other advise?  He was very quick with his exam and explaination. Does this seem like allergies?\",\n",
       "  'Doctor': 'Hello,Thank you for asking at HCM.I went through your history and would like to make following suggestions to you:1. If you have such complaints repeatedly, I would think of asthma. If you have such symptoms for the first time, I would not think of asthma straightway.2. Were I treating you, I would add an antihistamine (like Benadryl) in your treatment, your current treatment does not have any antihistamine. So you can take a benadryl. However, Benadryl causes sedation, I would suggest you to take levocetirizine.3. Personally I would not suggest you dextromethorphan (a content in Robitussin DM) if you have wheezing. I would instead prescribe you salbutamol or levosalbutamol.4. Your doctor is the best judge to decide whether you need steroids (Prednisone). So, if you have been prescribed them, I would suggest you to take them as suggested by your doctor. 5-day course of prednisone is considered a \"short course\" and it does not require weaning off.5. As you have musuc ticking into throat, I would also think of acute or chronic sinusitis. Some of the above medications will help the sinusitis also, I would in addition suggest you to take plenty of warm fluids during day and regular steam inhalation which will help.6. If you have been having these symptoms repeatedly, I would think of allergies and asthma. In that case, I would add montelukast to above treatment. For long term management, I would suggest you allergy testing first, which will help you identify the substances causing symptoms to you and also to know the measures to avoid them.Hope above suggestions will be helpful to you.Should you have any further query, please feel free to ask at HCM.Wish you the best of the health and a very good recovery.Thank you & Regards.'}]"
      ]
     },
     "execution_count": 16,
     "metadata": {},
     "output_type": "execute_result"
    }
   ],
   "source": [
    "elastic_search('Hi Doctor, I want to know the symptoms of sinusitis. I think I have it.')"
   ]
  },
  {
   "cell_type": "code",
   "execution_count": 17,
   "id": "f5139c52-17d0-4ce0-9977-604e14799487",
   "metadata": {
    "scrolled": true
   },
   "outputs": [
    {
     "data": {
      "text/plain": [
       "[{'Description': 'Q. I have ankle sprain followed by swelling and tingling in toes. What could it be?',\n",
       "  'Patient': 'Hello doctor, I sprang my ankle four days ago and went to the ER and they did an x-ray and of course, they could only tell me if there were any major fractures or breaks because of the swelling. Now the swelling has gone down a lot but just a little remain. Hardly there is any bruising, but it is still sore, and when I run the top of my foot (when I take the walking boot off to shower) my two middle toes tingle. I am supposed to go back in a week for a checkup. Could there be something else wrong with my ankle that would cause the tingling and still a little bit of swelling too?',\n",
       "  'Doctor': 'Hello,  Welcome to icliniq.com. Yes, you should go to the clinic and see an orthopedic surgeon because after the swelling and pain reduces they can evaluate you better to find a cause. That is if there is any major ligament injury or no, or if it has sprained. The tingling can be due to small nerves getting pinched due to the swelling. So do not worry about that it will reduce. What you need is to wear an ankle stirrup brace, which is light and it will protect your ankle in the healing phase so that the sprained ligaments heal faster. Also, if you have sprained your ankle so many times then you need to do is to strengthen the muscles of your leg, i.e. extensors and flexors of the leg so that it does not happen again. Once you strengthen these muscles it will protect your ankle joint. Also, use an elastocrepe bandage of six inches width from the toes to just below the knee to reduce the swelling. Follow up sos.'},\n",
       " {'Description': 'Can a twisted ankle lead to sprain or fracture?',\n",
       "  'Patient': 'hello yesterday at school i was playing soccer and while i was running i twisted my ankle so i put ice on it once i got home i ut more ice and i wriped it with that cloth and this morning it feels the same can you please tell me if it sprain or fractured?',\n",
       "  'Doctor': 'Hello,To differentiate if the ankle is sprained or fractured you should do an X-ray of the ankle. Meanwhile, I suggest using anti-inflammatory medications such as Acetaminophen to relieve the pain. I also suggest using cold compresses for local application to relieve the inflammation.Hope I have answered your question. Let me know if I can assist you further. Regards, Dr. Dorina Gurabardhi, General & Family Physician'},\n",
       " {'Description': 'What to do for sprained ankle?',\n",
       "  'Patient': 'I suppose the era the canada goose wall socket learners compiled, The exact WWW.WWWW.WW Goose Jackets busy picture, My young people discussion connected seasky, Decent relate a diminishing materialized a bunch of. I suppose by means of these friends take in a drop of vino, Ask wasted time office room in your home in that, speedy stagnation, Settle that a strong head. Canada goose Freestyle VestTimberland galoshes retailer most of all those solar cells monocle marketing re stiffened in the walls making use of a fractional skin stop and Canada Goose parka north america laminated place inside that experts claim helps to keep canada goose jackets toilet the jacket canada goose jackets in with regard to that waist property. Indeed never! give for only healthy any existing hem sprained ankle direct to the point. And regardless if ground local climate remains to be to be canada goose expedition must but not necessarily quite suprisingly nominal, With each other at the same time choosing storms within the last.En aning compacted excellent skiing conditions might be selection during the night air in phoenix. Specific to the rest of the world sea-region operators, Nicely disturbed to rest, Could be educational facilities aside on online games. An playoffs within season appeared incredibly good baseball anywhere since start to finish, Finishing in different title football side to the NHL s most well known enhance. Category work ended up ready.Cover a great sit-on cycling signifies of cinrdign WWW.WWWW.WW Goose sale. Nevertheless, Majority of these kinds popular jackets has to be very expensive. jacket picture over the new n. nits may cost a hundred greenbacks new. Canada Goose ( is better known for their reliability, Best suited, Efficiency and elegance. An amazing singer. that they ll have something will fashionable you re likely to Canada Goose Jackets prepare for your forthcoming major exterior lighting quest at the chill, Select a hydrating lotion, Pushing blood through any feet to become able to work optimally. It will make feet lustrous. The background music exercises qualities contains Stereoscopic WWW.WWWW.WW Goose parka images stereo generating gps, RDS, An exact tracking, Electric Ambit, America online street, Movies game lover, In addition, Ipod. A width connected with world-wide-web artists advantage use only that men both similarly start employing match for modern components.Ought to evaluate the online privacy and canada goose trillium parka thus relation to Use in advance of when with this site. Our call time site usually means settlement develop into destined of the relation to Use, Involving individual Personal essence feel altitudes.',\n",
       "  'Doctor': \"Dear patient I'm sorry I could not understand what you wanted to ask. However if it is a sprained ankle you want to treat follow these steps1) Ice the ankle2) Wrap crape bandage 3 ) Try not to put weight on the ankleHope u feel better\"},\n",
       " {'Description': 'Suggest remedy for bruises in ankle',\n",
       "  'Patient': 'I rolled my ankle last night on an uneven surface out side.my ankle has been hurting since. I worked my 8 hour shift today. (Mostly standing in one spot) but every time I step down I feel a pulling and it hurts bad.there is no swelling or bruising. So what could it be. It gurts more walking with out shoes',\n",
       "  'Doctor': 'Hi, You seem to have a sprained ankle possibly a high ankle sprain in which the ligaments connecting the two bones of the foot is sprained or torn.A routine X ray  should be done. This will need a cast for about 4 weeks and a good amount of physiotherapy after that. You could also use an air cast or walking  brace in place of the cast'},\n",
       " {'Description': 'Suggest remedy for sprained ankle with swelling',\n",
       "  'Patient': 'Hello, I just recently sprained my ankle but it recovered about 3 days ago but I do sometimes struggle to move it side to side, I was walking today and rolled over again but this time I didn’t fall I just felt a pop noise on my ankle, I can still walk on it but I just can’t cross my legs and my ankle has also swollen again',\n",
       "  'Doctor': 'Dear patient there is need to restart treatment for sprained ankle. This time xray of the ankle anteroposterior and lateral views should be taken to rule out bony injury. Apply ankle binder for 3 weeks. keep limb elevated on 2 pillows. do ice packs application. Take tab zerodol sp twice a day for pain relief. If xray is abnormal please consult orthopaedic surgeon nearby your area.'}]"
      ]
     },
     "execution_count": 17,
     "metadata": {},
     "output_type": "execute_result"
    }
   ],
   "source": [
    "elastic_search('I sprained my ankle. What should I do?')"
   ]
  },
  {
   "cell_type": "markdown",
   "id": "5d1dad96-c9cd-4d39-a74a-e3e006c901d7",
   "metadata": {},
   "source": [
    "## Retrieval evaluation"
   ]
  },
  {
   "cell_type": "code",
<<<<<<< HEAD
   "execution_count": null,
   "id": "7a5ae8c0-c71a-4609-96a6-cd2d5cb0a6ce",
=======
   "execution_count": 1,
   "id": "d0a645f7-42b6-4af6-b586-7fbc6edbee6b",
>>>>>>> 576ef31f491c0f5e624624c65d99091e38c0a6e4
   "metadata": {},
   "outputs": [],
   "source": [
    "import minsearch\n",
    "import pandas as pd"
   ]
  },
  {
   "cell_type": "markdown",
   "id": "0eed59ff-c45e-4d04-9629-46cb20ac674d",
   "metadata": {},
   "source": [
    "### minsearch"
   ]
  },
  {
   "cell_type": "code",
   "execution_count": 47,
   "id": "ea5a0cd4-37b3-4d90-a821-13b2f1590803",
   "metadata": {
    "scrolled": true
   },
   "outputs": [
    {
     "ename": "MemoryError",
     "evalue": "Unable to allocate 73.7 GiB for an array with shape (99448, 99448) and data type float64",
     "output_type": "error",
     "traceback": [
      "\u001b[1;31m---------------------------------------------------------------------------\u001b[0m",
      "\u001b[1;31mMemoryError\u001b[0m                               Traceback (most recent call last)",
      "Cell \u001b[1;32mIn[47], line 35\u001b[0m\n\u001b[0;32m     32\u001b[0m \u001b[38;5;66;03m# Example usage:\u001b[39;00m\n\u001b[0;32m     33\u001b[0m \u001b[38;5;66;03m# Assuming your data is in a CSV file named 'medical_dataset.csv'\u001b[39;00m\n\u001b[0;32m     34\u001b[0m df \u001b[38;5;241m=\u001b[39m pd\u001b[38;5;241m.\u001b[39mread_csv(\u001b[38;5;124m'\u001b[39m\u001b[38;5;124m../data/data.csv\u001b[39m\u001b[38;5;124m'\u001b[39m)\n\u001b[1;32m---> 35\u001b[0m reduced_df \u001b[38;5;241m=\u001b[39m \u001b[43mreduce_similar_questions\u001b[49m\u001b[43m(\u001b[49m\u001b[43mdf\u001b[49m\u001b[43m)\u001b[49m\n\u001b[0;32m     37\u001b[0m \u001b[38;5;28mprint\u001b[39m(\u001b[38;5;124mf\u001b[39m\u001b[38;5;124m\"\u001b[39m\u001b[38;5;124mOriginal dataset size: \u001b[39m\u001b[38;5;132;01m{\u001b[39;00m\u001b[38;5;28mlen\u001b[39m(df)\u001b[38;5;132;01m}\u001b[39;00m\u001b[38;5;124m\"\u001b[39m)\n\u001b[0;32m     38\u001b[0m \u001b[38;5;28mprint\u001b[39m(\u001b[38;5;124mf\u001b[39m\u001b[38;5;124m\"\u001b[39m\u001b[38;5;124mReduced dataset size: \u001b[39m\u001b[38;5;132;01m{\u001b[39;00m\u001b[38;5;28mlen\u001b[39m(reduced_df)\u001b[38;5;132;01m}\u001b[39;00m\u001b[38;5;124m\"\u001b[39m)\n",
      "Cell \u001b[1;32mIn[47], line 14\u001b[0m, in \u001b[0;36mreduce_similar_questions\u001b[1;34m(df, similarity_threshold)\u001b[0m\n\u001b[0;32m     11\u001b[0m tfidf_matrix \u001b[38;5;241m=\u001b[39m vectorizer\u001b[38;5;241m.\u001b[39mfit_transform(df[\u001b[38;5;124m'\u001b[39m\u001b[38;5;124mcombined_text\u001b[39m\u001b[38;5;124m'\u001b[39m])\n\u001b[0;32m     13\u001b[0m \u001b[38;5;66;03m# Calculate cosine similarity\u001b[39;00m\n\u001b[1;32m---> 14\u001b[0m cosine_sim \u001b[38;5;241m=\u001b[39m \u001b[43mcosine_similarity\u001b[49m\u001b[43m(\u001b[49m\u001b[43mtfidf_matrix\u001b[49m\u001b[43m,\u001b[49m\u001b[43m \u001b[49m\u001b[43mtfidf_matrix\u001b[49m\u001b[43m)\u001b[49m\n\u001b[0;32m     16\u001b[0m \u001b[38;5;66;03m# Create a set to keep track of indices to remove\u001b[39;00m\n\u001b[0;32m     17\u001b[0m indices_to_remove \u001b[38;5;241m=\u001b[39m \u001b[38;5;28mset\u001b[39m()\n",
      "File \u001b[1;32m~\\.virtualenvs\\movie_finder-CH9R3uu6\\Lib\\site-packages\\sklearn\\utils\\_param_validation.py:213\u001b[0m, in \u001b[0;36mvalidate_params.<locals>.decorator.<locals>.wrapper\u001b[1;34m(*args, **kwargs)\u001b[0m\n\u001b[0;32m    207\u001b[0m \u001b[38;5;28;01mtry\u001b[39;00m:\n\u001b[0;32m    208\u001b[0m     \u001b[38;5;28;01mwith\u001b[39;00m config_context(\n\u001b[0;32m    209\u001b[0m         skip_parameter_validation\u001b[38;5;241m=\u001b[39m(\n\u001b[0;32m    210\u001b[0m             prefer_skip_nested_validation \u001b[38;5;129;01mor\u001b[39;00m global_skip_validation\n\u001b[0;32m    211\u001b[0m         )\n\u001b[0;32m    212\u001b[0m     ):\n\u001b[1;32m--> 213\u001b[0m         \u001b[38;5;28;01mreturn\u001b[39;00m \u001b[43mfunc\u001b[49m\u001b[43m(\u001b[49m\u001b[38;5;241;43m*\u001b[39;49m\u001b[43margs\u001b[49m\u001b[43m,\u001b[49m\u001b[43m \u001b[49m\u001b[38;5;241;43m*\u001b[39;49m\u001b[38;5;241;43m*\u001b[39;49m\u001b[43mkwargs\u001b[49m\u001b[43m)\u001b[49m\n\u001b[0;32m    214\u001b[0m \u001b[38;5;28;01mexcept\u001b[39;00m InvalidParameterError \u001b[38;5;28;01mas\u001b[39;00m e:\n\u001b[0;32m    215\u001b[0m     \u001b[38;5;66;03m# When the function is just a wrapper around an estimator, we allow\u001b[39;00m\n\u001b[0;32m    216\u001b[0m     \u001b[38;5;66;03m# the function to delegate validation to the estimator, but we replace\u001b[39;00m\n\u001b[0;32m    217\u001b[0m     \u001b[38;5;66;03m# the name of the estimator by the name of the function in the error\u001b[39;00m\n\u001b[0;32m    218\u001b[0m     \u001b[38;5;66;03m# message to avoid confusion.\u001b[39;00m\n\u001b[0;32m    219\u001b[0m     msg \u001b[38;5;241m=\u001b[39m re\u001b[38;5;241m.\u001b[39msub(\n\u001b[0;32m    220\u001b[0m         \u001b[38;5;124mr\u001b[39m\u001b[38;5;124m\"\u001b[39m\u001b[38;5;124mparameter of \u001b[39m\u001b[38;5;124m\\\u001b[39m\u001b[38;5;124mw+ must be\u001b[39m\u001b[38;5;124m\"\u001b[39m,\n\u001b[0;32m    221\u001b[0m         \u001b[38;5;124mf\u001b[39m\u001b[38;5;124m\"\u001b[39m\u001b[38;5;124mparameter of \u001b[39m\u001b[38;5;132;01m{\u001b[39;00mfunc\u001b[38;5;241m.\u001b[39m\u001b[38;5;18m__qualname__\u001b[39m\u001b[38;5;132;01m}\u001b[39;00m\u001b[38;5;124m must be\u001b[39m\u001b[38;5;124m\"\u001b[39m,\n\u001b[0;32m    222\u001b[0m         \u001b[38;5;28mstr\u001b[39m(e),\n\u001b[0;32m    223\u001b[0m     )\n",
      "File \u001b[1;32m~\\.virtualenvs\\movie_finder-CH9R3uu6\\Lib\\site-packages\\sklearn\\metrics\\pairwise.py:1687\u001b[0m, in \u001b[0;36mcosine_similarity\u001b[1;34m(X, Y, dense_output)\u001b[0m\n\u001b[0;32m   1684\u001b[0m \u001b[38;5;28;01melse\u001b[39;00m:\n\u001b[0;32m   1685\u001b[0m     Y_normalized \u001b[38;5;241m=\u001b[39m normalize(Y, copy\u001b[38;5;241m=\u001b[39m\u001b[38;5;28;01mTrue\u001b[39;00m)\n\u001b[1;32m-> 1687\u001b[0m K \u001b[38;5;241m=\u001b[39m \u001b[43msafe_sparse_dot\u001b[49m\u001b[43m(\u001b[49m\u001b[43mX_normalized\u001b[49m\u001b[43m,\u001b[49m\u001b[43m \u001b[49m\u001b[43mY_normalized\u001b[49m\u001b[38;5;241;43m.\u001b[39;49m\u001b[43mT\u001b[49m\u001b[43m,\u001b[49m\u001b[43m \u001b[49m\u001b[43mdense_output\u001b[49m\u001b[38;5;241;43m=\u001b[39;49m\u001b[43mdense_output\u001b[49m\u001b[43m)\u001b[49m\n\u001b[0;32m   1689\u001b[0m \u001b[38;5;28;01mreturn\u001b[39;00m K\n",
      "File \u001b[1;32m~\\.virtualenvs\\movie_finder-CH9R3uu6\\Lib\\site-packages\\sklearn\\utils\\extmath.py:213\u001b[0m, in \u001b[0;36msafe_sparse_dot\u001b[1;34m(a, b, dense_output)\u001b[0m\n\u001b[0;32m    205\u001b[0m     ret \u001b[38;5;241m=\u001b[39m a \u001b[38;5;241m@\u001b[39m b\n\u001b[0;32m    207\u001b[0m \u001b[38;5;28;01mif\u001b[39;00m (\n\u001b[0;32m    208\u001b[0m     sparse\u001b[38;5;241m.\u001b[39missparse(a)\n\u001b[0;32m    209\u001b[0m     \u001b[38;5;129;01mand\u001b[39;00m sparse\u001b[38;5;241m.\u001b[39missparse(b)\n\u001b[0;32m    210\u001b[0m     \u001b[38;5;129;01mand\u001b[39;00m dense_output\n\u001b[0;32m    211\u001b[0m     \u001b[38;5;129;01mand\u001b[39;00m \u001b[38;5;28mhasattr\u001b[39m(ret, \u001b[38;5;124m\"\u001b[39m\u001b[38;5;124mtoarray\u001b[39m\u001b[38;5;124m\"\u001b[39m)\n\u001b[0;32m    212\u001b[0m ):\n\u001b[1;32m--> 213\u001b[0m     \u001b[38;5;28;01mreturn\u001b[39;00m \u001b[43mret\u001b[49m\u001b[38;5;241;43m.\u001b[39;49m\u001b[43mtoarray\u001b[49m\u001b[43m(\u001b[49m\u001b[43m)\u001b[49m\n\u001b[0;32m    214\u001b[0m \u001b[38;5;28;01mreturn\u001b[39;00m ret\n",
      "File \u001b[1;32m~\\.virtualenvs\\movie_finder-CH9R3uu6\\Lib\\site-packages\\scipy\\sparse\\_compressed.py:1181\u001b[0m, in \u001b[0;36m_cs_matrix.toarray\u001b[1;34m(self, order, out)\u001b[0m\n\u001b[0;32m   1179\u001b[0m \u001b[38;5;28;01mif\u001b[39;00m out \u001b[38;5;129;01mis\u001b[39;00m \u001b[38;5;28;01mNone\u001b[39;00m \u001b[38;5;129;01mand\u001b[39;00m order \u001b[38;5;129;01mis\u001b[39;00m \u001b[38;5;28;01mNone\u001b[39;00m:\n\u001b[0;32m   1180\u001b[0m     order \u001b[38;5;241m=\u001b[39m \u001b[38;5;28mself\u001b[39m\u001b[38;5;241m.\u001b[39m_swap(\u001b[38;5;124m'\u001b[39m\u001b[38;5;124mcf\u001b[39m\u001b[38;5;124m'\u001b[39m)[\u001b[38;5;241m0\u001b[39m]\n\u001b[1;32m-> 1181\u001b[0m out \u001b[38;5;241m=\u001b[39m \u001b[38;5;28;43mself\u001b[39;49m\u001b[38;5;241;43m.\u001b[39;49m\u001b[43m_process_toarray_args\u001b[49m\u001b[43m(\u001b[49m\u001b[43morder\u001b[49m\u001b[43m,\u001b[49m\u001b[43m \u001b[49m\u001b[43mout\u001b[49m\u001b[43m)\u001b[49m\n\u001b[0;32m   1182\u001b[0m \u001b[38;5;28;01mif\u001b[39;00m \u001b[38;5;129;01mnot\u001b[39;00m (out\u001b[38;5;241m.\u001b[39mflags\u001b[38;5;241m.\u001b[39mc_contiguous \u001b[38;5;129;01mor\u001b[39;00m out\u001b[38;5;241m.\u001b[39mflags\u001b[38;5;241m.\u001b[39mf_contiguous):\n\u001b[0;32m   1183\u001b[0m     \u001b[38;5;28;01mraise\u001b[39;00m \u001b[38;5;167;01mValueError\u001b[39;00m(\u001b[38;5;124m'\u001b[39m\u001b[38;5;124mOutput array must be C or F contiguous\u001b[39m\u001b[38;5;124m'\u001b[39m)\n",
      "File \u001b[1;32m~\\.virtualenvs\\movie_finder-CH9R3uu6\\Lib\\site-packages\\scipy\\sparse\\_base.py:1301\u001b[0m, in \u001b[0;36m_spbase._process_toarray_args\u001b[1;34m(self, order, out)\u001b[0m\n\u001b[0;32m   1299\u001b[0m     \u001b[38;5;28;01mreturn\u001b[39;00m out\n\u001b[0;32m   1300\u001b[0m \u001b[38;5;28;01melse\u001b[39;00m:\n\u001b[1;32m-> 1301\u001b[0m     \u001b[38;5;28;01mreturn\u001b[39;00m \u001b[43mnp\u001b[49m\u001b[38;5;241;43m.\u001b[39;49m\u001b[43mzeros\u001b[49m\u001b[43m(\u001b[49m\u001b[38;5;28;43mself\u001b[39;49m\u001b[38;5;241;43m.\u001b[39;49m\u001b[43mshape\u001b[49m\u001b[43m,\u001b[49m\u001b[43m \u001b[49m\u001b[43mdtype\u001b[49m\u001b[38;5;241;43m=\u001b[39;49m\u001b[38;5;28;43mself\u001b[39;49m\u001b[38;5;241;43m.\u001b[39;49m\u001b[43mdtype\u001b[49m\u001b[43m,\u001b[49m\u001b[43m \u001b[49m\u001b[43morder\u001b[49m\u001b[38;5;241;43m=\u001b[39;49m\u001b[43morder\u001b[49m\u001b[43m)\u001b[49m\n",
      "\u001b[1;31mMemoryError\u001b[0m: Unable to allocate 73.7 GiB for an array with shape (99448, 99448) and data type float64"
     ]
    }
   ],
   "source": [
    "import numpy as np\n",
    "from sklearn.feature_extraction.text import TfidfVectorizer\n",
    "from sklearn.metrics.pairwise import cosine_similarity\n",
    "\n",
    "def reduce_similar_questions(df, similarity_threshold=0.8):\n",
    "    # Combine Description and Patient columns\n",
    "    df['combined_text'] = df['Description'] + ' ' + df['Patient']\n",
    "    \n",
    "    # Create TF-IDF vectors\n",
    "    vectorizer = TfidfVectorizer(stop_words='english')\n",
    "    tfidf_matrix = vectorizer.fit_transform(df['combined_text'])\n",
    "    \n",
    "    # Calculate cosine similarity\n",
    "    cosine_sim = cosine_similarity(tfidf_matrix, tfidf_matrix)\n",
    "    \n",
    "    # Create a set to keep track of indices to remove\n",
    "    indices_to_remove = set()\n",
    "    \n",
    "    for i in range(len(df)):\n",
    "        if i not in indices_to_remove:\n",
    "            # Find similar questions\n",
    "            similar_indices = np.where(cosine_sim[i] > similarity_threshold)[0]\n",
    "            \n",
    "            # Add all but the current index to the remove set\n",
    "            indices_to_remove.update(similar_indices[similar_indices != i])\n",
    "    \n",
    "    # Keep only the rows that are not in indices_to_remove\n",
    "    reduced_df = df.drop(index=list(indices_to_remove))\n",
    "    \n",
    "    return reduced_df\n",
    "\n",
    "# Example usage:\n",
    "# Assuming your data is in a CSV file named 'medical_dataset.csv'\n",
    "df = pd.read_csv('../data/data.csv')\n",
    "reduced_df = reduce_similar_questions(df)\n",
    "\n",
    "print(f\"Original dataset size: {len(df)}\")\n",
    "print(f\"Reduced dataset size: {len(reduced_df)}\")\n",
    "\n",
    "# Save the reduced dataset\n",
    "reduced_df.to_csv('../data/reduced_medical_dataset.csv', index=False)"
   ]
  },
  {
   "cell_type": "code",
   "execution_count": 49,
   "id": "0bb3dbf1-6275-42ae-af27-99ce0efcd0fd",
   "metadata": {},
   "outputs": [
    {
     "name": "stdout",
     "output_type": "stream",
     "text": [
      "Original dataset size: 99448\n",
      "Reduced dataset size: 99137\n"
     ]
    }
   ],
   "source": [
    "import pandas as pd\n",
    "import numpy as np\n",
    "from sklearn.feature_extraction.text import TfidfVectorizer\n",
    "from sklearn.metrics.pairwise import cosine_similarity\n",
    "\n",
    "def reduce_similar_questions(df, similarity_threshold=0.8, chunk_size=1000):\n",
    "    df['combined_text'] = df['Description'] + ' ' + df['Patient']\n",
    "    \n",
    "    vectorizer = TfidfVectorizer(stop_words='english')\n",
    "    tfidf_matrix = vectorizer.fit_transform(df['combined_text'])\n",
    "    \n",
    "    indices_to_keep = set(range(len(df)))\n",
    "    \n",
    "    for i in range(0, len(df), chunk_size):\n",
    "        chunk = tfidf_matrix[i:i+chunk_size]\n",
    "        \n",
    "        # Calculate cosine similarity for the chunk\n",
    "        chunk_sim = cosine_similarity(chunk, tfidf_matrix)\n",
    "        \n",
    "        for j, sim_row in enumerate(chunk_sim):\n",
    "            if i+j in indices_to_keep:\n",
    "                # Find similar questions\n",
    "                similar_indices = np.where(sim_row > similarity_threshold)[0]\n",
    "                \n",
    "                # Keep the current index, remove others\n",
    "                indices_to_keep -= set(similar_indices) - {i+j}\n",
    "    \n",
    "    # Keep only the rows that are in indices_to_keep\n",
    "    reduced_df = df.iloc[list(indices_to_keep)]\n",
    "    \n",
    "    return reduced_df\n",
    "\n",
    "# Example usage:\n",
    "df = pd.read_csv('../data/data.csv')\n",
    "reduced_df = reduce_similar_questions(df, chunk_size=1000)  # Adjust chunk_size as needed\n",
    "\n",
    "print(f\"Original dataset size: {len(df)}\")\n",
    "print(f\"Reduced dataset size: {len(reduced_df)}\")\n",
    "\n",
    "# Save the reduced dataset\n",
    "reduced_df.to_csv('reduced_medical_dataset.csv', index=False)"
   ]
  },
  {
   "cell_type": "code",
   "execution_count": 50,
   "id": "61787c46-38a6-4558-83bb-153aef5a9970",
   "metadata": {},
   "outputs": [],
   "source": [
    "def reduce_similar_description(df, similarity_threshold=0.8, chunk_size=1000):\n",
    "    \n",
    "    vectorizer = TfidfVectorizer(stop_words='english')\n",
    "    tfidf_matrix = vectorizer.fit_transform(df['Description'])\n",
    "    \n",
    "    indices_to_keep = set(range(len(df)))\n",
    "    \n",
    "    for i in range(0, len(df), chunk_size):\n",
    "        chunk = tfidf_matrix[i:i+chunk_size]\n",
    "        \n",
    "        # Calculate cosine similarity for the chunk\n",
    "        chunk_sim = cosine_similarity(chunk, tfidf_matrix)\n",
    "        \n",
    "        for j, sim_row in enumerate(chunk_sim):\n",
    "            if i+j in indices_to_keep:\n",
    "                # Find similar questions\n",
    "                similar_indices = np.where(sim_row > similarity_threshold)[0]\n",
    "                \n",
    "                # Keep the current index, remove others\n",
    "                indices_to_keep -= set(similar_indices) - {i+j}\n",
    "    \n",
    "    # Keep only the rows that are in indices_to_keep\n",
    "    reduced_df = df.iloc[list(indices_to_keep)]\n",
    "    \n",
    "    return reduced_df"
   ]
  },
  {
   "cell_type": "code",
   "execution_count": 51,
   "id": "5fcd7a3c-b983-48ea-a85e-385ba9fa8576",
   "metadata": {},
   "outputs": [],
   "source": [
    "reduced_df_v2 = reduce_similar_description(reduced_df)"
   ]
  },
  {
   "cell_type": "code",
   "execution_count": 52,
   "id": "cf83861d-90e4-4da2-bce5-50e28698226e",
   "metadata": {},
   "outputs": [
    {
     "name": "stdout",
     "output_type": "stream",
     "text": [
      "Original dataset size: 99137\n",
      "Reduced dataset size: 83174\n"
     ]
    }
   ],
   "source": [
    "print(f\"Original dataset size: {len(reduced_df)}\")\n",
    "print(f\"Reduced dataset size: {len(reduced_df_v2)}\")"
   ]
  },
  {
   "cell_type": "code",
   "execution_count": 53,
   "id": "f7888649-1b43-4a6a-83ec-885a4f114739",
   "metadata": {},
   "outputs": [],
   "source": [
    "reduced_df_v2.to_csv('../data/deduplicated_data.csv', index=False)"
   ]
  },
  {
   "cell_type": "code",
   "execution_count": 6,
   "id": "660a2ccf-8332-4c48-87b5-d80601f69ddd",
   "metadata": {},
   "outputs": [],
   "source": [
    "deduplicated_df = pd.read_csv('../data/deduplicated_data.csv')"
   ]
  },
  {
   "cell_type": "code",
   "execution_count": 35,
   "id": "cf41be97-9456-423a-9f94-eff2910a3049",
   "metadata": {},
   "outputs": [],
   "source": [
    "sampled_df = df.sample(n=1000, random_state=42)\n",
    "\n",
    "sampled_df = sampled_df.reset_index(drop=True)\n",
    "sampled_df['id'] = sampled_df.index\n",
    "\n",
    "sampled_df = sampled_df[['id'] + [col for col in sampled_df.columns if col != 'id']]\n",
    "sampled_df['id'] = sampled_df.index + 1"
   ]
  },
  {
   "cell_type": "code",
   "execution_count": 71,
   "id": "25b5fb31-ef02-4ca6-a93d-138dcaa27e4a",
   "metadata": {
    "scrolled": true
   },
   "outputs": [
    {
     "name": "stdout",
     "output_type": "stream",
     "text": [
      "id                                                             5\n",
      "Description    Q. I am experiencing erectile dysfunction. Wha...\n",
      "Patient        Hi doctor, I am a 47 year old male. Recently, ...\n",
      "Doctor         Hello. Thanks. Take care. For more information...\n",
      "Name: 4, dtype: object\n"
     ]
    }
   ],
   "source": [
    "print(sampled_df.iloc[4])"
   ]
  },
  {
   "cell_type": "code",
   "execution_count": 56,
   "id": "75980ea9-3471-4dd5-a969-ca314f3ed074",
   "metadata": {},
   "outputs": [],
   "source": [
    "# Merge the dataframes on the common columns\n",
    "merged_df = pd.merge(deduplicated_df, sampled_df[['Description', 'Patient', 'Doctor', 'id']], \n",
    "                     on=['Description', 'Patient', 'Doctor'], \n",
    "                     how='left')\n",
    "\n",
    "# Update the original df with the new 'id' column\n",
    "deduplicated_df['id'] = merged_df['id']\n",
    "\n",
    "# Fill NaN values in the 'id' column with null\n",
    "deduplicated_df['id'] = deduplicated_df['id'].fillna(10000)"
   ]
  },
  {
   "cell_type": "code",
   "execution_count": 26,
   "id": "bb9643a9-32f6-4c5b-a6c7-329031efdeb6",
   "metadata": {},
   "outputs": [],
   "source": [
    "index = minsearch.Index(\n",
    "    text_fields=['Description','Patient', 'Doctor'],\n",
    "    keyword_fields=[\"id\"]\n",
    ")"
   ]
  },
  {
   "cell_type": "code",
   "execution_count": 7,
   "id": "314415a3-0cd9-48be-b9dd-0dbe4cef7f45",
   "metadata": {},
   "outputs": [],
   "source": [
    "documents = deduplicated_df.to_dict(orient='records')"
   ]
  },
  {
   "cell_type": "code",
   "execution_count": 58,
   "id": "b7ddf939-1a4a-4b5a-b252-27c3195c7750",
   "metadata": {},
   "outputs": [
    {
     "data": {
      "text/plain": [
       "<minsearch.Index at 0x223789b5040>"
      ]
     },
     "execution_count": 58,
     "metadata": {},
     "output_type": "execute_result"
    }
   ],
   "source": [
    "index.fit(documents)"
   ]
  },
  {
   "cell_type": "code",
   "execution_count": 29,
   "id": "56d2c57b-7020-4f52-b31f-bd0f792ed651",
   "metadata": {},
   "outputs": [],
   "source": [
    "def minsearch_search(query):\n",
    "    boost = {'Description': 2}\n",
    "\n",
    "    results = index.search(\n",
    "        query=query,\n",
    "        boost_dict=boost,\n",
    "        num_results=10\n",
    "    )\n",
    "\n",
    "    return results"
   ]
  },
  {
   "cell_type": "markdown",
   "id": "d2d69993-5c41-45d3-87b2-9180fa949d27",
   "metadata": {},
   "source": [
    "### elastic_search"
   ]
  },
  {
   "cell_type": "code",
   "execution_count": 9,
   "id": "87a89ba5-e99c-4525-92d5-35d8a3e0d538",
   "metadata": {},
   "outputs": [
    {
     "name": "stderr",
     "output_type": "stream",
     "text": [
      "C:\\Users\\ext_peterl\\AppData\\Local\\Temp\\ipykernel_71380\\2782205471.py:33: DeprecationWarning: Passing transport options in the API method is deprecated. Use 'Elasticsearch.options()' instead.\n",
      "  es.indices.create(index=INDEX_NAME, body=index_settings, ignore=400)\n"
     ]
    },
    {
     "name": "stdout",
     "output_type": "stream",
     "text": [
      "Starting bulk indexing of 83174 documents...\n"
     ]
    },
    {
     "name": "stderr",
     "output_type": "stream",
     "text": [
      "Indexing Progress: 100%|██████████████████████████████████████████████████████████| 83174/83174 [00:04<00:00, 17124.22it/s]\n"
     ]
    },
    {
     "name": "stdout",
     "output_type": "stream",
     "text": [
      "Indexed 83174 documents in 5.02 seconds\n"
     ]
    }
   ],
   "source": [
    "import json\n",
    "import time\n",
    "from elasticsearch import Elasticsearch, helpers\n",
    "from concurrent.futures import ThreadPoolExecutor, as_completed\n",
    "from tqdm import tqdm\n",
    "\n",
    "# Initialize Elasticsearch client\n",
    "es = Elasticsearch(['http://localhost:9200'], request_timeout=30)\n",
    "\n",
    "# Index and document settings\n",
    "INDEX_NAME = 'my_index'\n",
    "es.indices.delete(index=INDEX_NAME, ignore_unavailable=True)\n",
    "BATCH_SIZE = 10000\n",
    "\n",
    "# Index settings as provided\n",
    "index_settings = {\n",
    "    \"settings\": {\n",
    "        \"number_of_shards\": 1,\n",
    "        \"number_of_replicas\": 0\n",
    "    },\n",
    "    \"mappings\": {\n",
    "        \"properties\": {\n",
    "            \"Description\": {\"type\": \"text\"},\n",
    "            \"Patient\": {\"type\": \"text\"},\n",
    "            \"Doctor\": {\"type\": \"text\"},\n",
    "            \"id\": {\"type\": \"keyword\"}\n",
    "        }\n",
    "    }\n",
    "}\n",
    "\n",
    "def create_index():\n",
    "    \"\"\"Create the index with provided settings.\"\"\"\n",
    "    es.indices.create(index=INDEX_NAME, body=index_settings, ignore=400)\n",
    "\n",
    "def optimize_for_indexing():\n",
    "    \"\"\"Apply settings to optimize for bulk indexing.\"\"\"\n",
    "    es.indices.put_settings(index=INDEX_NAME, body={\n",
    "        \"settings\": {\n",
    "            \"refresh_interval\": \"30s\"\n",
    "        }\n",
    "    })\n",
    "\n",
    "def restore_settings():\n",
    "    \"\"\"Restore normal operating settings.\"\"\"\n",
    "    es.indices.put_settings(index=INDEX_NAME, body={\n",
    "        \"settings\": {\n",
    "            \"refresh_interval\": \"1s\"\n",
    "        }\n",
    "    })\n",
    "\n",
    "def create_actions(data):\n",
    "    \"\"\"Create actions for bulk indexing from JSON data.\"\"\"\n",
    "    for item in data:\n",
    "        yield {\n",
    "            \"_index\": INDEX_NAME,\n",
    "            \"_source\": item\n",
    "        }\n",
    "\n",
    "def bulk_index(actions):\n",
    "    \"\"\"Perform bulk indexing.\"\"\"\n",
    "    try:\n",
    "        return helpers.bulk(es, actions)\n",
    "    except Exception as e:\n",
    "        print(f\"Error in bulk indexing: {e}\")\n",
    "        return 0, []\n",
    "\n",
    "def parallel_bulk(actions, thread_count=4):\n",
    "    \"\"\"Perform parallel bulk indexing with progress bar.\"\"\"\n",
    "    total_actions = len(actions)\n",
    "    with ThreadPoolExecutor(max_workers=thread_count) as executor:\n",
    "        futures = []\n",
    "        for i in range(0, total_actions, BATCH_SIZE):\n",
    "            batch = actions[i:i + BATCH_SIZE]\n",
    "            future = executor.submit(bulk_index, batch)\n",
    "            futures.append(future)\n",
    "\n",
    "        total_indexed = 0\n",
    "        with tqdm(total=total_actions, desc=\"Indexing Progress\") as pbar:\n",
    "            for future in as_completed(futures):\n",
    "                count, _ = future.result()\n",
    "                total_indexed += count\n",
    "                pbar.update(count)\n",
    "\n",
    "    return total_indexed\n",
    "\n",
    "def main():\n",
    "    create_index()\n",
    "    optimize_for_indexing()\n",
    "\n",
    "    actions = list(create_actions(documents))\n",
    "\n",
    "    print(f\"Starting bulk indexing of {len(actions)} documents...\")\n",
    "    start_time = time.time()\n",
    "    total_indexed = parallel_bulk(actions)\n",
    "    end_time = time.time()\n",
    "\n",
    "    print(f\"Indexed {total_indexed} documents in {end_time - start_time:.2f} seconds\")\n",
    "\n",
    "    restore_settings()\n",
    "\n",
    "if __name__ == \"__main__\":\n",
    "    main()"
   ]
  },
  {
   "cell_type": "code",
   "execution_count": 10,
   "id": "5f5bc729-4f18-46b6-9441-2aa8b0ba2599",
   "metadata": {},
   "outputs": [],
   "source": [
    "def elastic_search(query):\n",
    "    search_query = {\n",
    "        \"size\": 5,\n",
    "        \"query\": {\n",
    "            \"bool\": {\n",
    "                \"must\": {\n",
    "                    \"multi_match\": {\n",
    "                        \"query\": query,\n",
    "                        \"fields\": [\"description^2\", \"Patient\", \"Doctor\"],\n",
    "                        \"type\": \"best_fields\"\n",
    "                    }\n",
    "                }\n",
    "            }\n",
    "        }\n",
    "    }\n",
    "\n",
    "    response = es.search(index=INDEX_NAME, body=search_query)\n",
    "\n",
    "    result_docs = []\n",
    "\n",
    "    for hit in response['hits']['hits']:\n",
    "        result_docs.append(hit['_source'])\n",
    "\n",
    "    return result_docs"
   ]
  },
  {
   "cell_type": "code",
   "execution_count": 9,
   "id": "b3e2d285-d484-48f6-aa97-b6d1b14bfee3",
   "metadata": {},
   "outputs": [
    {
     "data": {
      "text/html": [
       "<div>\n",
       "<style scoped>\n",
       "    .dataframe tbody tr th:only-of-type {\n",
       "        vertical-align: middle;\n",
       "    }\n",
       "\n",
       "    .dataframe tbody tr th {\n",
       "        vertical-align: top;\n",
       "    }\n",
       "\n",
       "    .dataframe thead th {\n",
       "        text-align: right;\n",
       "    }\n",
       "</style>\n",
       "<table border=\"1\" class=\"dataframe\">\n",
       "  <thead>\n",
       "    <tr style=\"text-align: right;\">\n",
       "      <th></th>\n",
       "      <th>Description</th>\n",
       "      <th>Patient</th>\n",
       "      <th>Doctor</th>\n",
       "    </tr>\n",
       "  </thead>\n",
       "  <tbody>\n",
       "    <tr>\n",
       "      <th>0</th>\n",
       "      <td>Q. What does abutment of the nerve root mean?</td>\n",
       "      <td>Hi doctor,I am just wondering what is abutting...</td>\n",
       "      <td>Hi. I have gone through your query with dilige...</td>\n",
       "    </tr>\n",
       "    <tr>\n",
       "      <th>1</th>\n",
       "      <td>Q. What should I do to reduce my weight gained...</td>\n",
       "      <td>Hi doctor, I am a 22-year-old female who was d...</td>\n",
       "      <td>Hi. You have really done well with the hypothy...</td>\n",
       "    </tr>\n",
       "    <tr>\n",
       "      <th>2</th>\n",
       "      <td>Q. I have started to get lots of acne on my fa...</td>\n",
       "      <td>Hi doctor! I used to have clear skin but since...</td>\n",
       "      <td>Hi there Acne has multifactorial etiology. Onl...</td>\n",
       "    </tr>\n",
       "    <tr>\n",
       "      <th>3</th>\n",
       "      <td>Q. Why do I have uncomfortable feeling between...</td>\n",
       "      <td>Hello doctor,I am having an uncomfortable feel...</td>\n",
       "      <td>Hello. The popping and discomfort what you fel...</td>\n",
       "    </tr>\n",
       "    <tr>\n",
       "      <th>4</th>\n",
       "      <td>Q. My symptoms after intercourse threatns me e...</td>\n",
       "      <td>Hello doctor,Before two years had sex with a c...</td>\n",
       "      <td>Hello. The HIV test uses a finger prick blood ...</td>\n",
       "    </tr>\n",
       "  </tbody>\n",
       "</table>\n",
       "</div>"
      ],
      "text/plain": [
       "                                         Description  \\\n",
       "0      Q. What does abutment of the nerve root mean?   \n",
       "1  Q. What should I do to reduce my weight gained...   \n",
       "2  Q. I have started to get lots of acne on my fa...   \n",
       "3  Q. Why do I have uncomfortable feeling between...   \n",
       "4  Q. My symptoms after intercourse threatns me e...   \n",
       "\n",
       "                                             Patient  \\\n",
       "0  Hi doctor,I am just wondering what is abutting...   \n",
       "1  Hi doctor, I am a 22-year-old female who was d...   \n",
       "2  Hi doctor! I used to have clear skin but since...   \n",
       "3  Hello doctor,I am having an uncomfortable feel...   \n",
       "4  Hello doctor,Before two years had sex with a c...   \n",
       "\n",
       "                                              Doctor  \n",
       "0  Hi. I have gone through your query with dilige...  \n",
       "1  Hi. You have really done well with the hypothy...  \n",
       "2  Hi there Acne has multifactorial etiology. Onl...  \n",
       "3  Hello. The popping and discomfort what you fel...  \n",
       "4  Hello. The HIV test uses a finger prick blood ...  "
      ]
     },
     "execution_count": 9,
     "metadata": {},
     "output_type": "execute_result"
    }
   ],
   "source": [
    "df.head()"
   ]
  },
  {
   "cell_type": "code",
   "execution_count": 10,
   "id": "d3dc5ff5-3fee-48ce-b47e-6214a8085c47",
   "metadata": {},
   "outputs": [
    {
     "data": {
      "text/plain": [
       "{'Description': 'Q. What does abutment of the nerve root mean?',\n",
       " 'Patient': 'Hi doctor,I am just wondering what is abutting and abutment of the nerve root means in a back issue. Please explain. What treatment is required for\\xa0annular bulging and tear?',\n",
       " 'Doctor': 'Hi. I have gone through your query with diligence and would like you to know that I am here to help you. For further information consult a neurologist online -->'}"
      ]
     },
     "execution_count": 10,
     "metadata": {},
     "output_type": "execute_result"
    }
   ],
   "source": [
    "documents[0]"
   ]
  },
  {
   "cell_type": "code",
<<<<<<< HEAD
   "execution_count": 14,
=======
   "execution_count": 7,
>>>>>>> 576ef31f491c0f5e624624c65d99091e38c0a6e4
   "id": "a77b5899-f539-44e5-a38f-88c8fb6a7de7",
   "metadata": {},
   "outputs": [],
   "source": [
    "df_ground_truth = pd.read_csv('../data/ground-truth-retrieval.csv')"
   ]
  },
  {
   "cell_type": "code",
   "execution_count": 8,
   "id": "3fb47793-ee63-48aa-b75f-86af97648ba6",
   "metadata": {},
   "outputs": [
    {
     "data": {
      "text/html": [
       "<div>\n",
       "<style scoped>\n",
       "    .dataframe tbody tr th:only-of-type {\n",
       "        vertical-align: middle;\n",
       "    }\n",
       "\n",
       "    .dataframe tbody tr th {\n",
       "        vertical-align: top;\n",
       "    }\n",
       "\n",
       "    .dataframe thead th {\n",
       "        text-align: right;\n",
       "    }\n",
       "</style>\n",
       "<table border=\"1\" class=\"dataframe\">\n",
       "  <thead>\n",
       "    <tr style=\"text-align: right;\">\n",
       "      <th></th>\n",
       "      <th>id</th>\n",
       "      <th>question</th>\n",
       "    </tr>\n",
       "  </thead>\n",
       "  <tbody>\n",
       "    <tr>\n",
       "      <th>0</th>\n",
       "      <td>1</td>\n",
       "      <td>What causes a maroon dot like the one I have u...</td>\n",
       "    </tr>\n",
       "    <tr>\n",
       "      <th>1</th>\n",
       "      <td>1</td>\n",
       "      <td>Is there a way to treat the maroon dot at home...</td>\n",
       "    </tr>\n",
       "    <tr>\n",
       "      <th>2</th>\n",
       "      <td>1</td>\n",
       "      <td>Could any medications I am taking be affecting...</td>\n",
       "    </tr>\n",
       "    <tr>\n",
       "      <th>3</th>\n",
       "      <td>1</td>\n",
       "      <td>Are there specific symptoms I should watch out...</td>\n",
       "    </tr>\n",
       "    <tr>\n",
       "      <th>4</th>\n",
       "      <td>1</td>\n",
       "      <td>What tests should I expect the dermatologist t...</td>\n",
       "    </tr>\n",
       "  </tbody>\n",
       "</table>\n",
       "</div>"
      ],
      "text/plain": [
       "   id                                           question\n",
       "0   1  What causes a maroon dot like the one I have u...\n",
       "1   1  Is there a way to treat the maroon dot at home...\n",
       "2   1  Could any medications I am taking be affecting...\n",
       "3   1  Are there specific symptoms I should watch out...\n",
       "4   1  What tests should I expect the dermatologist t..."
      ]
     },
     "execution_count": 8,
     "metadata": {},
     "output_type": "execute_result"
    }
   ],
   "source": [
    "df_ground_truth.head()"
   ]
  },
  {
   "cell_type": "code",
<<<<<<< HEAD
   "execution_count": 15,
=======
   "execution_count": 9,
>>>>>>> 576ef31f491c0f5e624624c65d99091e38c0a6e4
   "id": "b9821a00-0574-423e-8553-1ae4f8e3ba0c",
   "metadata": {},
   "outputs": [],
   "source": [
    "ground_truth = df_ground_truth.to_dict(orient='records')"
   ]
  },
  {
   "cell_type": "code",
<<<<<<< HEAD
   "execution_count": 16,
=======
   "execution_count": 10,
>>>>>>> 576ef31f491c0f5e624624c65d99091e38c0a6e4
   "id": "ac6f5a8f-3898-4a3c-8670-fa5f4db86a54",
   "metadata": {},
   "outputs": [
    {
     "data": {
      "text/plain": [
       "{'id': 1,\n",
       " 'question': 'What causes a maroon dot like the one I have under my skin, and could it be something serious?'}"
      ]
     },
<<<<<<< HEAD
     "execution_count": 16,
=======
     "execution_count": 10,
>>>>>>> 576ef31f491c0f5e624624c65d99091e38c0a6e4
     "metadata": {},
     "output_type": "execute_result"
    }
   ],
   "source": [
    "ground_truth[0]"
   ]
  },
  {
   "cell_type": "code",
<<<<<<< HEAD
   "execution_count": 17,
   "id": "0717c40f-643f-4a9b-85ed-755bee3c65e3",
   "metadata": {},
   "outputs": [],
   "source": [
    "def hit_rate(relevance_total):\n",
    "    cnt = 0\n",
    "    for result in relevance_total:\n",
    "        if True in result:\n",
    "            cnt += 1\n",
    "\n",
    "    return cnt/len(relevance_total)"
   ]
  },
  {
   "cell_type": "code",
   "execution_count": 18,
   "id": "9b8a1cef-364f-4b84-a508-fd09f59f64df",
   "metadata": {},
   "outputs": [],
   "source": [
    "def mrr(relevance_total):\n",
    "    total_score = 0.0\n",
    "\n",
    "    for result in relevance_total:\n",
    "        for i in range(len(result)):\n",
    "            if result[i] == True:\n",
    "                total_score = total_score + (1 / (i+1))\n",
    "\n",
    "    return total_score/len(relevance_total)"
   ]
  },
  {
   "cell_type": "code",
   "execution_count": 19,
   "id": "a8a77b05-ecf5-4b5c-b057-e8ad215908c4",
   "metadata": {},
   "outputs": [],
   "source": [
    "def evaluate(ground_truth, search_function):\n",
    "    relevance_total = []\n",
    "\n",
    "    for q in tqdm(ground_truth):\n",
    "        doc_id = q['id']\n",
    "        results = search_function(q)\n",
    "        relevance = [d['id'] == doc_id for d in results]\n",
    "        relevance_total.append(relevance)\n",
    "\n",
    "    return {\n",
    "        'hit_rate': hit_rate(relevance_total),\n",
    "        'mrr': mrr(relevance_total)\n",
    "    }"
   ]
  },
  {
   "cell_type": "code",
   "execution_count": 60,
   "id": "65f77770-f774-4e40-86f4-e542a673a4ee",
   "metadata": {},
   "outputs": [
    {
     "name": "stderr",
     "output_type": "stream",
     "text": [
      "100%|██████████████████████████████████████████████████████████████████████████████| 5000/5000 [05:37<00:00, 14.81it/s]\n"
     ]
    },
    {
     "data": {
      "text/plain": [
       "{'hit_rate': 0.2578, 'mrr': 0.20076333333333402}"
      ]
     },
     "execution_count": 60,
     "metadata": {},
     "output_type": "execute_result"
    }
   ],
   "source": [
    "evaluate(ground_truth, lambda x: elastic_search(x['question']))"
   ]
  },
  {
   "cell_type": "code",
   "execution_count": 73,
   "id": "feac1326-f4f5-48bb-ab7a-55e16ca5ffaa",
   "metadata": {},
   "outputs": [
    {
     "name": "stdout",
     "output_type": "stream",
     "text": [
      "I went to the dr. last night for paranychia. They drained it and gave me an antibiotic and antibiotic cream. I woke up this morning and the inside of my elbow hurt. I figured out that it s probably the cubital nodes swollen. They are very sore to the touch and pretty large. Should I be concerned?\n"
     ]
    }
   ],
   "source": [
    "print(sampled_df.iloc[3]['Patient'])"
   ]
  },
  {
   "cell_type": "code",
   "execution_count": 76,
   "id": "41c0e85b-412b-44ad-a788-0d207235e673",
   "metadata": {
    "scrolled": true
   },
   "outputs": [
    {
     "data": {
      "text/plain": [
       "[{'Description': 'What could cause sore & enlarged cubital nodes?',\n",
       "  'Patient': 'I went to the dr. last night for paranychia. They drained it and gave me an antibiotic and antibiotic cream. I woke up this morning and the inside of my elbow hurt. I figured out that it s probably the cubital nodes swollen. They are very sore to the touch and pretty large. Should I be concerned?',\n",
       "  'Doctor': 'Hello, Your symptoms seem to be related to swollen lymph nodes. It is a common condition after an infection. I suggest using anti-inflammatory medications such as Acetaminophen to relieve the pain. I also suggest to continue the antibiotic to treat the infection. Hope I have answered your query. Let me know if I can assist you further. Regards, Dr. Dorina Gurabardhi, General & Family Physician',\n",
       "  'combined_text': 'What could cause sore & enlarged cubital nodes? I went to the dr. last night for paranychia. They drained it and gave me an antibiotic and antibiotic cream. I woke up this morning and the inside of my elbow hurt. I figured out that it s probably the cubital nodes swollen. They are very sore to the touch and pretty large. Should I be concerned?',\n",
       "  'id': 4.0},\n",
       " {'Description': 'Q. I had circumcision two months ago. How long will it take for the swelling to subside?',\n",
       "  'Patient': 'Hello doctor, I had circumcision two months ago and still have swelling around my penis. I did a CBC and urine test last week, and all came back normal. The doctor last month said all the incision have healed. Will swelling last this long? How long will it take for the swelling to disappear? Should I be concerned? Will night erections affect healing?',\n",
       "  'Doctor': 'Hello. The healing looks fine (attachment removed to protect patient identity). The swelling is mostly an extra skin that is bunching up in a non-erect position. When you have an erection, it might be less prominent. If all excess skin were removed, sometimes there would be pain during erection due to the stretching of the skin. I think things will be fine in about another month. Night erections will not affect healing.',\n",
       "  'combined_text': 'Q. I had circumcision two months ago. How long will it take for the swelling to subside? Hello doctor, I had circumcision two months ago and still have swelling around my penis. I did a CBC and urine test last week, and all came back normal. The doctor last month said all the incision have healed. Will swelling last this long? How long will it take for the swelling to disappear? Should I be concerned? Will night erections affect healing?',\n",
       "  'id': 10000.0},\n",
       " {'Description': 'Diagnosed with DVT & PE, underwent Coumadin therapy, swelling & soreness of the ankle/heel. Reason? How long should i expect this foot pain?',\n",
       "  'Patient': 'I was diagnosed with DVT & PE 2 weeks ago. After 9 days of Coumadin therapy I have swelling & soreness of the ankle/heel area. X-rays confirmed soft tissue swelling. Why has this happened & howllong should I expect this foot pain? I have been using a cane but today started using a walker. Thanks in advance for your reply.',\n",
       "  'Doctor': 'Hello and welcome to HCM,Swelling and pain in the ankle/ heel region with ahistory of DVT suggests that these symptoms are most probably due to DVT itself.Coumadin therapy will dissolve the deep vein thrombus and/ or pulmonary emboli if present.Pain can be relived by analgesics.However, a doppler study of the lower limb veins is necessary to know the status of the veins, whether there is presence of any thrombus or not.Besides since you are on anticoagulant therapy, INR value should be followed up strictly.Thanks and take careDr Shailja P Wahal',\n",
       "  'combined_text': 'Diagnosed with DVT & PE, underwent Coumadin therapy, swelling & soreness of the ankle/heel. Reason? How long should i expect this foot pain? I was diagnosed with DVT & PE 2 weeks ago. After 9 days of Coumadin therapy I have swelling & soreness of the ankle/heel area. X-rays confirmed soft tissue swelling. Why has this happened & howllong should I expect this foot pain? I have been using a cane but today started using a walker. Thanks in advance for your reply.',\n",
       "  'id': 10000.0},\n",
       " {'Description': 'What is the cause and treatment for grinding sound in the knees?',\n",
       "  'Patient': 'I have these horrific grinding sounds in both of my knees whenver I bend them or espcially when i walk up stairs, the sound is unbearble to my wife. My right knee is the one that gives me the problems. It swells up for days and my range of motion is very limited during this tim.',\n",
       "  'Doctor': 'Hello,For how long has this been happening? For how long does the swelling last? How old are you and what is your job? Did you have any traumatic event before, can you remember? I suggest you to visit a doctor, an orthopedic or a rheumatologist. Wish you good health.Hope I have answered your query. Let me know if I can assist you further.Regards,Dr. Emilda Belortaja',\n",
       "  'combined_text': 'What is the cause and treatment for grinding sound in the knees? I have these horrific grinding sounds in both of my knees whenver I bend them or espcially when i walk up stairs, the sound is unbearble to my wife. My right knee is the one that gives me the problems. It swells up for days and my range of motion is very limited during this tim.',\n",
       "  'id': 10000.0},\n",
       " {'Description': 'Swollen testes with moderate discomfort on sitting, walking after bilateral inguinal hernia repair. How long will it persist?',\n",
       "  'Patient': 'I have swelling of testes (no bruising), following bilateral inguinal hernia repair (with mesh, using the tension-free method) 7 days ago. It appears to become more pronounced further into the day, with my my testes at time 2-3 times the normal size. It is resulting in a moderate discomfort when sitting, standing and walking. How long could I expect this to last for?',\n",
       "  'Doctor': 'HelloThanks for your query,based on the facts that you have posted it appears that you have undergone surgery for Bilateral Inguinal Hernia 7 days ago and now has testicular swelling.It is common to have testicular swelling after hernia surgery which gets resolved  within 2-3 weeks.You need to take broad spectrum antibiotic like Cefexine along with anti inflammatory drug like Diclofenac twice daily.Dr.Patil.',\n",
       "  'combined_text': 'Swollen testes with moderate discomfort on sitting, walking after bilateral inguinal hernia repair. How long will it persist? I have swelling of testes (no bruising), following bilateral inguinal hernia repair (with mesh, using the tension-free method) 7 days ago. It appears to become more pronounced further into the day, with my my testes at time 2-3 times the normal size. It is resulting in a moderate discomfort when sitting, standing and walking. How long could I expect this to last for?',\n",
       "  'id': 10000.0}]"
      ]
     },
     "execution_count": 76,
     "metadata": {},
     "output_type": "execute_result"
    }
   ],
   "source": [
    "elastic_search(\n",
    "'How long should I expect the soreness and swelling around my cubital nodes to last?'\n",
    ")"
   ]
  },
  {
   "cell_type": "markdown",
   "id": "7877477a-2c85-41c5-a63f-377b02e9aa63",
   "metadata": {},
   "source": [
    "### LLM-as-a-Judge"
   ]
  },
  {
   "cell_type": "code",
   "execution_count": 1,
   "id": "14f729e7-b9ca-496c-93e5-f3cc803615ba",
   "metadata": {},
   "outputs": [],
   "source": [
    "import pandas as pd\n",
    "\n",
    "df = pd.read_csv('../data/ground-truth-retrieval.csv')"
   ]
  },
  {
   "cell_type": "code",
   "execution_count": 2,
   "id": "d0ab4b0e-548b-4b55-9a42-f6965d1d545c",
   "metadata": {},
   "outputs": [
    {
     "data": {
      "text/html": [
       "<div>\n",
       "<style scoped>\n",
       "    .dataframe tbody tr th:only-of-type {\n",
       "        vertical-align: middle;\n",
       "    }\n",
       "\n",
       "    .dataframe tbody tr th {\n",
       "        vertical-align: top;\n",
       "    }\n",
       "\n",
       "    .dataframe thead th {\n",
       "        text-align: right;\n",
       "    }\n",
       "</style>\n",
       "<table border=\"1\" class=\"dataframe\">\n",
       "  <thead>\n",
       "    <tr style=\"text-align: right;\">\n",
       "      <th></th>\n",
       "      <th>id</th>\n",
       "      <th>question</th>\n",
       "    </tr>\n",
       "  </thead>\n",
       "  <tbody>\n",
       "    <tr>\n",
       "      <th>0</th>\n",
       "      <td>1</td>\n",
       "      <td>What causes a maroon dot like the one I have u...</td>\n",
       "    </tr>\n",
       "    <tr>\n",
       "      <th>1</th>\n",
       "      <td>1</td>\n",
       "      <td>Is there a way to treat the maroon dot at home...</td>\n",
       "    </tr>\n",
       "    <tr>\n",
       "      <th>2</th>\n",
       "      <td>1</td>\n",
       "      <td>Could any medications I am taking be affecting...</td>\n",
       "    </tr>\n",
       "    <tr>\n",
       "      <th>3</th>\n",
       "      <td>1</td>\n",
       "      <td>Are there specific symptoms I should watch out...</td>\n",
       "    </tr>\n",
       "    <tr>\n",
       "      <th>4</th>\n",
       "      <td>1</td>\n",
       "      <td>What tests should I expect the dermatologist t...</td>\n",
       "    </tr>\n",
       "  </tbody>\n",
       "</table>\n",
       "</div>"
      ],
      "text/plain": [
       "   id                                           question\n",
       "0   1  What causes a maroon dot like the one I have u...\n",
       "1   1  Is there a way to treat the maroon dot at home...\n",
       "2   1  Could any medications I am taking be affecting...\n",
       "3   1  Are there specific symptoms I should watch out...\n",
       "4   1  What tests should I expect the dermatologist t..."
      ]
     },
     "execution_count": 2,
     "metadata": {},
     "output_type": "execute_result"
    }
   ],
   "source": [
    "df.head()"
   ]
  },
  {
   "cell_type": "code",
   "execution_count": 5,
   "id": "53781483-b85f-454e-ab28-ddc24df3f7e1",
   "metadata": {},
   "outputs": [],
   "source": [
    "from openai import OpenAI\n",
    "\n",
    "client = OpenAI(api_key='')"
   ]
  },
  {
   "cell_type": "code",
   "execution_count": 14,
   "id": "360ed9a5-6a79-4ce5-9a58-06056cced127",
   "metadata": {},
   "outputs": [],
   "source": [
    "def build_prompt(query, search_results):\n",
    "    prompt_template = \"\"\"\n",
    "You are a knowledgeable and empathetic medical assistant specializing in providing detailed and accurate information based on real patient-doctor conversations. \n",
    "You must interpret the given context to address the user's question effectively.\n",
    "Your responses should be clear, concise, and consider the medical and emotional aspects of the situation. \n",
    "Use the context provided to ensure that your answer is grounded in the information retrieved, avoiding speculation or providing advice outside of the context.\n",
    "\n",
    "Question: {question}\n",
    "\n",
    "Context:\n",
    "{context}\n",
    "\n",
    "Instructions:\n",
    "1. Analyze the context carefully to identify relevant information related to the user's question.\n",
    "2. Provide an informative and empathetic response, ensuring it aligns with the retrieved context.\n",
    "3. If the context does not directly answer the question, use general medical knowledge cautiously to give a helpful but non-definitive response.\n",
    "4. Prioritize the clarity and accuracy of information, using language accessible to a general audience.\n",
    "5. If necessary, indicate when it would be appropriate for the user to seek further medical consultation.\n",
    "\"\"\".strip()\n",
    "\n",
    "    context = \"\"\n",
    "    \n",
    "    for doc in search_results:\n",
    "        context = context + f\"Description: {doc['Description']}\\nPatient: {doc['Patient']}\\nDoctor: {doc['Doctor']}\\n\\n\"\n",
    "    \n",
    "    prompt = prompt_template.format(question=query, context=context).strip()\n",
    "    return prompt"
   ]
  },
  {
   "cell_type": "code",
   "execution_count": 11,
   "id": "a17f81fe-5796-4636-a2f5-f8e3ff2195b1",
   "metadata": {},
   "outputs": [],
   "source": [
    "def llm(prompt):\n",
    "    response = client.chat.completions.create(\n",
    "        model='gpt-4o-mini',\n",
    "        messages=[{\"role\": \"user\", \"content\": prompt}]\n",
    "    )\n",
    "    \n",
    "    return response.choices[0].message.content"
   ]
  },
  {
   "cell_type": "code",
   "execution_count": 12,
   "id": "aeaf537f-a165-413a-9da2-d22b1735eddc",
   "metadata": {},
   "outputs": [],
   "source": [
    "def rag(query):\n",
    "    search_results = elastic_search(query)\n",
    "    prompt = build_prompt(query, search_results)\n",
    "    answer = llm(prompt)\n",
    "    return answer"
   ]
  },
  {
   "cell_type": "code",
   "execution_count": 15,
   "id": "923fbdc5-b6f4-46c6-b228-6b3dd29013e2",
   "metadata": {},
   "outputs": [],
   "source": [
    "ground_truth = df.to_dict(orient='records')"
   ]
  },
  {
   "cell_type": "code",
   "execution_count": 16,
   "id": "507c803d-e695-48b6-8167-e1c0ab073dbf",
   "metadata": {},
   "outputs": [
    {
     "data": {
      "text/plain": [
       "{'id': 1,\n",
       " 'question': 'What causes a maroon dot like the one I have under my skin, and could it be something serious?'}"
      ]
     },
     "execution_count": 16,
     "metadata": {},
     "output_type": "execute_result"
    }
   ],
   "source": [
    "ground_truth[0]"
   ]
  },
  {
   "cell_type": "code",
   "execution_count": 17,
   "id": "1f3f7d0f-a291-4636-859e-53bcf9d5e592",
   "metadata": {},
   "outputs": [
    {
     "name": "stderr",
     "output_type": "stream",
     "text": [
      " 10%|███████▊                                                                         | 481/5000 [33:57<5:19:06,  4.24s/it]\n"
     ]
    },
    {
     "ename": "KeyboardInterrupt",
     "evalue": "",
     "output_type": "error",
     "traceback": [
      "\u001b[1;31m---------------------------------------------------------------------------\u001b[0m",
      "\u001b[1;31mKeyboardInterrupt\u001b[0m                         Traceback (most recent call last)",
      "Cell \u001b[1;32mIn[17], line 7\u001b[0m\n\u001b[0;32m      4\u001b[0m \u001b[38;5;28;01mif\u001b[39;00m i \u001b[38;5;129;01min\u001b[39;00m answers:\n\u001b[0;32m      5\u001b[0m     \u001b[38;5;28;01mcontinue\u001b[39;00m\n\u001b[1;32m----> 7\u001b[0m answer_llm \u001b[38;5;241m=\u001b[39m \u001b[43mrag\u001b[49m\u001b[43m(\u001b[49m\u001b[43mrec\u001b[49m\u001b[43m[\u001b[49m\u001b[38;5;124;43m'\u001b[39;49m\u001b[38;5;124;43mquestion\u001b[39;49m\u001b[38;5;124;43m'\u001b[39;49m\u001b[43m]\u001b[49m\u001b[43m)\u001b[49m\n\u001b[0;32m      9\u001b[0m answers[i] \u001b[38;5;241m=\u001b[39m {\n\u001b[0;32m     10\u001b[0m     \u001b[38;5;124m'\u001b[39m\u001b[38;5;124manswer_llm\u001b[39m\u001b[38;5;124m'\u001b[39m: answer_llm,\n\u001b[0;32m     11\u001b[0m     \u001b[38;5;124m'\u001b[39m\u001b[38;5;124mid\u001b[39m\u001b[38;5;124m'\u001b[39m: rec[\u001b[38;5;124m'\u001b[39m\u001b[38;5;124mid\u001b[39m\u001b[38;5;124m'\u001b[39m],\n\u001b[0;32m     12\u001b[0m     \u001b[38;5;124m'\u001b[39m\u001b[38;5;124mquestion\u001b[39m\u001b[38;5;124m'\u001b[39m: rec[\u001b[38;5;124m'\u001b[39m\u001b[38;5;124mquestion\u001b[39m\u001b[38;5;124m'\u001b[39m]\n\u001b[0;32m     13\u001b[0m }\n",
      "Cell \u001b[1;32mIn[12], line 2\u001b[0m, in \u001b[0;36mrag\u001b[1;34m(query)\u001b[0m\n\u001b[0;32m      1\u001b[0m \u001b[38;5;28;01mdef\u001b[39;00m \u001b[38;5;21mrag\u001b[39m(query):\n\u001b[1;32m----> 2\u001b[0m     search_results \u001b[38;5;241m=\u001b[39m \u001b[43melastic_search\u001b[49m\u001b[43m(\u001b[49m\u001b[43mquery\u001b[49m\u001b[43m)\u001b[49m\n\u001b[0;32m      3\u001b[0m     prompt \u001b[38;5;241m=\u001b[39m build_prompt(query, search_results)\n\u001b[0;32m      4\u001b[0m     answer \u001b[38;5;241m=\u001b[39m llm(prompt)\n",
      "Cell \u001b[1;32mIn[10], line 17\u001b[0m, in \u001b[0;36melastic_search\u001b[1;34m(query)\u001b[0m\n\u001b[0;32m      1\u001b[0m \u001b[38;5;28;01mdef\u001b[39;00m \u001b[38;5;21melastic_search\u001b[39m(query):\n\u001b[0;32m      2\u001b[0m     search_query \u001b[38;5;241m=\u001b[39m {\n\u001b[0;32m      3\u001b[0m         \u001b[38;5;124m\"\u001b[39m\u001b[38;5;124msize\u001b[39m\u001b[38;5;124m\"\u001b[39m: \u001b[38;5;241m5\u001b[39m,\n\u001b[0;32m      4\u001b[0m         \u001b[38;5;124m\"\u001b[39m\u001b[38;5;124mquery\u001b[39m\u001b[38;5;124m\"\u001b[39m: {\n\u001b[1;32m   (...)\u001b[0m\n\u001b[0;32m     14\u001b[0m         }\n\u001b[0;32m     15\u001b[0m     }\n\u001b[1;32m---> 17\u001b[0m     response \u001b[38;5;241m=\u001b[39m \u001b[43mes\u001b[49m\u001b[38;5;241;43m.\u001b[39;49m\u001b[43msearch\u001b[49m\u001b[43m(\u001b[49m\u001b[43mindex\u001b[49m\u001b[38;5;241;43m=\u001b[39;49m\u001b[43mINDEX_NAME\u001b[49m\u001b[43m,\u001b[49m\u001b[43m \u001b[49m\u001b[43mbody\u001b[49m\u001b[38;5;241;43m=\u001b[39;49m\u001b[43msearch_query\u001b[49m\u001b[43m)\u001b[49m\n\u001b[0;32m     19\u001b[0m     result_docs \u001b[38;5;241m=\u001b[39m []\n\u001b[0;32m     21\u001b[0m     \u001b[38;5;28;01mfor\u001b[39;00m hit \u001b[38;5;129;01min\u001b[39;00m response[\u001b[38;5;124m'\u001b[39m\u001b[38;5;124mhits\u001b[39m\u001b[38;5;124m'\u001b[39m][\u001b[38;5;124m'\u001b[39m\u001b[38;5;124mhits\u001b[39m\u001b[38;5;124m'\u001b[39m]:\n",
      "File \u001b[1;32m~\\.virtualenvs\\movie_finder-CH9R3uu6\\Lib\\site-packages\\elasticsearch\\_sync\\client\\utils.py:446\u001b[0m, in \u001b[0;36m_rewrite_parameters.<locals>.wrapper.<locals>.wrapped\u001b[1;34m(*args, **kwargs)\u001b[0m\n\u001b[0;32m    443\u001b[0m         \u001b[38;5;28;01mexcept\u001b[39;00m \u001b[38;5;167;01mKeyError\u001b[39;00m:\n\u001b[0;32m    444\u001b[0m             \u001b[38;5;28;01mpass\u001b[39;00m\n\u001b[1;32m--> 446\u001b[0m \u001b[38;5;28;01mreturn\u001b[39;00m \u001b[43mapi\u001b[49m\u001b[43m(\u001b[49m\u001b[38;5;241;43m*\u001b[39;49m\u001b[43margs\u001b[49m\u001b[43m,\u001b[49m\u001b[43m \u001b[49m\u001b[38;5;241;43m*\u001b[39;49m\u001b[38;5;241;43m*\u001b[39;49m\u001b[43mkwargs\u001b[49m\u001b[43m)\u001b[49m\n",
      "File \u001b[1;32m~\\.virtualenvs\\movie_finder-CH9R3uu6\\Lib\\site-packages\\elasticsearch\\_sync\\client\\__init__.py:4149\u001b[0m, in \u001b[0;36mElasticsearch.search\u001b[1;34m(self, index, aggregations, aggs, allow_no_indices, allow_partial_search_results, analyze_wildcard, analyzer, batched_reduce_size, ccs_minimize_roundtrips, collapse, default_operator, df, docvalue_fields, error_trace, expand_wildcards, explain, ext, fields, filter_path, force_synthetic_source, from_, highlight, human, ignore_throttled, ignore_unavailable, include_named_queries_score, indices_boost, knn, lenient, max_concurrent_shard_requests, min_compatible_shard_node, min_score, pit, post_filter, pre_filter_shard_size, preference, pretty, profile, q, query, rank, request_cache, rescore, rest_total_hits_as_int, retriever, routing, runtime_mappings, script_fields, scroll, search_after, search_type, seq_no_primary_term, size, slice, sort, source, source_excludes, source_includes, stats, stored_fields, suggest, suggest_field, suggest_mode, suggest_size, suggest_text, terminate_after, timeout, track_scores, track_total_hits, typed_keys, version, body)\u001b[0m\n\u001b[0;32m   4147\u001b[0m \u001b[38;5;28;01mif\u001b[39;00m __body \u001b[38;5;129;01mis\u001b[39;00m \u001b[38;5;129;01mnot\u001b[39;00m \u001b[38;5;28;01mNone\u001b[39;00m:\n\u001b[0;32m   4148\u001b[0m     __headers[\u001b[38;5;124m\"\u001b[39m\u001b[38;5;124mcontent-type\u001b[39m\u001b[38;5;124m\"\u001b[39m] \u001b[38;5;241m=\u001b[39m \u001b[38;5;124m\"\u001b[39m\u001b[38;5;124mapplication/json\u001b[39m\u001b[38;5;124m\"\u001b[39m\n\u001b[1;32m-> 4149\u001b[0m \u001b[38;5;28;01mreturn\u001b[39;00m \u001b[38;5;28;43mself\u001b[39;49m\u001b[38;5;241;43m.\u001b[39;49m\u001b[43mperform_request\u001b[49m\u001b[43m(\u001b[49m\u001b[43m  \u001b[49m\u001b[38;5;66;43;03m# type: ignore[return-value]\u001b[39;49;00m\n\u001b[0;32m   4150\u001b[0m \u001b[43m    \u001b[49m\u001b[38;5;124;43m\"\u001b[39;49m\u001b[38;5;124;43mPOST\u001b[39;49m\u001b[38;5;124;43m\"\u001b[39;49m\u001b[43m,\u001b[49m\n\u001b[0;32m   4151\u001b[0m \u001b[43m    \u001b[49m\u001b[43m__path\u001b[49m\u001b[43m,\u001b[49m\n\u001b[0;32m   4152\u001b[0m \u001b[43m    \u001b[49m\u001b[43mparams\u001b[49m\u001b[38;5;241;43m=\u001b[39;49m\u001b[43m__query\u001b[49m\u001b[43m,\u001b[49m\n\u001b[0;32m   4153\u001b[0m \u001b[43m    \u001b[49m\u001b[43mheaders\u001b[49m\u001b[38;5;241;43m=\u001b[39;49m\u001b[43m__headers\u001b[49m\u001b[43m,\u001b[49m\n\u001b[0;32m   4154\u001b[0m \u001b[43m    \u001b[49m\u001b[43mbody\u001b[49m\u001b[38;5;241;43m=\u001b[39;49m\u001b[43m__body\u001b[49m\u001b[43m,\u001b[49m\n\u001b[0;32m   4155\u001b[0m \u001b[43m    \u001b[49m\u001b[43mendpoint_id\u001b[49m\u001b[38;5;241;43m=\u001b[39;49m\u001b[38;5;124;43m\"\u001b[39;49m\u001b[38;5;124;43msearch\u001b[39;49m\u001b[38;5;124;43m\"\u001b[39;49m\u001b[43m,\u001b[49m\n\u001b[0;32m   4156\u001b[0m \u001b[43m    \u001b[49m\u001b[43mpath_parts\u001b[49m\u001b[38;5;241;43m=\u001b[39;49m\u001b[43m__path_parts\u001b[49m\u001b[43m,\u001b[49m\n\u001b[0;32m   4157\u001b[0m \u001b[43m\u001b[49m\u001b[43m)\u001b[49m\n",
      "File \u001b[1;32m~\\.virtualenvs\\movie_finder-CH9R3uu6\\Lib\\site-packages\\elasticsearch\\_sync\\client\\_base.py:271\u001b[0m, in \u001b[0;36mBaseClient.perform_request\u001b[1;34m(self, method, path, params, headers, body, endpoint_id, path_parts)\u001b[0m\n\u001b[0;32m    255\u001b[0m \u001b[38;5;28;01mdef\u001b[39;00m \u001b[38;5;21mperform_request\u001b[39m(\n\u001b[0;32m    256\u001b[0m     \u001b[38;5;28mself\u001b[39m,\n\u001b[0;32m    257\u001b[0m     method: \u001b[38;5;28mstr\u001b[39m,\n\u001b[1;32m   (...)\u001b[0m\n\u001b[0;32m    264\u001b[0m     path_parts: Optional[Mapping[\u001b[38;5;28mstr\u001b[39m, Any]] \u001b[38;5;241m=\u001b[39m \u001b[38;5;28;01mNone\u001b[39;00m,\n\u001b[0;32m    265\u001b[0m ) \u001b[38;5;241m-\u001b[39m\u001b[38;5;241m>\u001b[39m ApiResponse[Any]:\n\u001b[0;32m    266\u001b[0m     \u001b[38;5;28;01mwith\u001b[39;00m \u001b[38;5;28mself\u001b[39m\u001b[38;5;241m.\u001b[39m_otel\u001b[38;5;241m.\u001b[39mspan(\n\u001b[0;32m    267\u001b[0m         method,\n\u001b[0;32m    268\u001b[0m         endpoint_id\u001b[38;5;241m=\u001b[39mendpoint_id,\n\u001b[0;32m    269\u001b[0m         path_parts\u001b[38;5;241m=\u001b[39mpath_parts \u001b[38;5;129;01mor\u001b[39;00m {},\n\u001b[0;32m    270\u001b[0m     ) \u001b[38;5;28;01mas\u001b[39;00m otel_span:\n\u001b[1;32m--> 271\u001b[0m         response \u001b[38;5;241m=\u001b[39m \u001b[38;5;28;43mself\u001b[39;49m\u001b[38;5;241;43m.\u001b[39;49m\u001b[43m_perform_request\u001b[49m\u001b[43m(\u001b[49m\n\u001b[0;32m    272\u001b[0m \u001b[43m            \u001b[49m\u001b[43mmethod\u001b[49m\u001b[43m,\u001b[49m\n\u001b[0;32m    273\u001b[0m \u001b[43m            \u001b[49m\u001b[43mpath\u001b[49m\u001b[43m,\u001b[49m\n\u001b[0;32m    274\u001b[0m \u001b[43m            \u001b[49m\u001b[43mparams\u001b[49m\u001b[38;5;241;43m=\u001b[39;49m\u001b[43mparams\u001b[49m\u001b[43m,\u001b[49m\n\u001b[0;32m    275\u001b[0m \u001b[43m            \u001b[49m\u001b[43mheaders\u001b[49m\u001b[38;5;241;43m=\u001b[39;49m\u001b[43mheaders\u001b[49m\u001b[43m,\u001b[49m\n\u001b[0;32m    276\u001b[0m \u001b[43m            \u001b[49m\u001b[43mbody\u001b[49m\u001b[38;5;241;43m=\u001b[39;49m\u001b[43mbody\u001b[49m\u001b[43m,\u001b[49m\n\u001b[0;32m    277\u001b[0m \u001b[43m            \u001b[49m\u001b[43motel_span\u001b[49m\u001b[38;5;241;43m=\u001b[39;49m\u001b[43motel_span\u001b[49m\u001b[43m,\u001b[49m\n\u001b[0;32m    278\u001b[0m \u001b[43m        \u001b[49m\u001b[43m)\u001b[49m\n\u001b[0;32m    279\u001b[0m         otel_span\u001b[38;5;241m.\u001b[39mset_elastic_cloud_metadata(response\u001b[38;5;241m.\u001b[39mmeta\u001b[38;5;241m.\u001b[39mheaders)\n\u001b[0;32m    280\u001b[0m         \u001b[38;5;28;01mreturn\u001b[39;00m response\n",
      "File \u001b[1;32m~\\.virtualenvs\\movie_finder-CH9R3uu6\\Lib\\site-packages\\elasticsearch\\_sync\\client\\_base.py:316\u001b[0m, in \u001b[0;36mBaseClient._perform_request\u001b[1;34m(self, method, path, params, headers, body, otel_span)\u001b[0m\n\u001b[0;32m    313\u001b[0m \u001b[38;5;28;01melse\u001b[39;00m:\n\u001b[0;32m    314\u001b[0m     target \u001b[38;5;241m=\u001b[39m path\n\u001b[1;32m--> 316\u001b[0m meta, resp_body \u001b[38;5;241m=\u001b[39m \u001b[38;5;28;43mself\u001b[39;49m\u001b[38;5;241;43m.\u001b[39;49m\u001b[43mtransport\u001b[49m\u001b[38;5;241;43m.\u001b[39;49m\u001b[43mperform_request\u001b[49m\u001b[43m(\u001b[49m\n\u001b[0;32m    317\u001b[0m \u001b[43m    \u001b[49m\u001b[43mmethod\u001b[49m\u001b[43m,\u001b[49m\n\u001b[0;32m    318\u001b[0m \u001b[43m    \u001b[49m\u001b[43mtarget\u001b[49m\u001b[43m,\u001b[49m\n\u001b[0;32m    319\u001b[0m \u001b[43m    \u001b[49m\u001b[43mheaders\u001b[49m\u001b[38;5;241;43m=\u001b[39;49m\u001b[43mrequest_headers\u001b[49m\u001b[43m,\u001b[49m\n\u001b[0;32m    320\u001b[0m \u001b[43m    \u001b[49m\u001b[43mbody\u001b[49m\u001b[38;5;241;43m=\u001b[39;49m\u001b[43mbody\u001b[49m\u001b[43m,\u001b[49m\n\u001b[0;32m    321\u001b[0m \u001b[43m    \u001b[49m\u001b[43mrequest_timeout\u001b[49m\u001b[38;5;241;43m=\u001b[39;49m\u001b[38;5;28;43mself\u001b[39;49m\u001b[38;5;241;43m.\u001b[39;49m\u001b[43m_request_timeout\u001b[49m\u001b[43m,\u001b[49m\n\u001b[0;32m    322\u001b[0m \u001b[43m    \u001b[49m\u001b[43mmax_retries\u001b[49m\u001b[38;5;241;43m=\u001b[39;49m\u001b[38;5;28;43mself\u001b[39;49m\u001b[38;5;241;43m.\u001b[39;49m\u001b[43m_max_retries\u001b[49m\u001b[43m,\u001b[49m\n\u001b[0;32m    323\u001b[0m \u001b[43m    \u001b[49m\u001b[43mretry_on_status\u001b[49m\u001b[38;5;241;43m=\u001b[39;49m\u001b[38;5;28;43mself\u001b[39;49m\u001b[38;5;241;43m.\u001b[39;49m\u001b[43m_retry_on_status\u001b[49m\u001b[43m,\u001b[49m\n\u001b[0;32m    324\u001b[0m \u001b[43m    \u001b[49m\u001b[43mretry_on_timeout\u001b[49m\u001b[38;5;241;43m=\u001b[39;49m\u001b[38;5;28;43mself\u001b[39;49m\u001b[38;5;241;43m.\u001b[39;49m\u001b[43m_retry_on_timeout\u001b[49m\u001b[43m,\u001b[49m\n\u001b[0;32m    325\u001b[0m \u001b[43m    \u001b[49m\u001b[43mclient_meta\u001b[49m\u001b[38;5;241;43m=\u001b[39;49m\u001b[38;5;28;43mself\u001b[39;49m\u001b[38;5;241;43m.\u001b[39;49m\u001b[43m_client_meta\u001b[49m\u001b[43m,\u001b[49m\n\u001b[0;32m    326\u001b[0m \u001b[43m    \u001b[49m\u001b[43motel_span\u001b[49m\u001b[38;5;241;43m=\u001b[39;49m\u001b[43motel_span\u001b[49m\u001b[43m,\u001b[49m\n\u001b[0;32m    327\u001b[0m \u001b[43m\u001b[49m\u001b[43m)\u001b[49m\n\u001b[0;32m    329\u001b[0m \u001b[38;5;66;03m# HEAD with a 404 is returned as a normal response\u001b[39;00m\n\u001b[0;32m    330\u001b[0m \u001b[38;5;66;03m# since this is used as an 'exists' functionality.\u001b[39;00m\n\u001b[0;32m    331\u001b[0m \u001b[38;5;28;01mif\u001b[39;00m \u001b[38;5;129;01mnot\u001b[39;00m (method \u001b[38;5;241m==\u001b[39m \u001b[38;5;124m\"\u001b[39m\u001b[38;5;124mHEAD\u001b[39m\u001b[38;5;124m\"\u001b[39m \u001b[38;5;129;01mand\u001b[39;00m meta\u001b[38;5;241m.\u001b[39mstatus \u001b[38;5;241m==\u001b[39m \u001b[38;5;241m404\u001b[39m) \u001b[38;5;129;01mand\u001b[39;00m (\n\u001b[0;32m    332\u001b[0m     \u001b[38;5;129;01mnot\u001b[39;00m \u001b[38;5;241m200\u001b[39m \u001b[38;5;241m<\u001b[39m\u001b[38;5;241m=\u001b[39m meta\u001b[38;5;241m.\u001b[39mstatus \u001b[38;5;241m<\u001b[39m \u001b[38;5;241m299\u001b[39m\n\u001b[0;32m    333\u001b[0m     \u001b[38;5;129;01mand\u001b[39;00m (\n\u001b[1;32m   (...)\u001b[0m\n\u001b[0;32m    337\u001b[0m     )\n\u001b[0;32m    338\u001b[0m ):\n",
      "File \u001b[1;32m~\\.virtualenvs\\movie_finder-CH9R3uu6\\Lib\\site-packages\\elastic_transport\\_transport.py:342\u001b[0m, in \u001b[0;36mTransport.perform_request\u001b[1;34m(self, method, target, body, headers, max_retries, retry_on_status, retry_on_timeout, request_timeout, client_meta, otel_span)\u001b[0m\n\u001b[0;32m    340\u001b[0m \u001b[38;5;28;01mtry\u001b[39;00m:\n\u001b[0;32m    341\u001b[0m     otel_span\u001b[38;5;241m.\u001b[39mset_node_metadata(node\u001b[38;5;241m.\u001b[39mhost, node\u001b[38;5;241m.\u001b[39mport, node\u001b[38;5;241m.\u001b[39mbase_url, target)\n\u001b[1;32m--> 342\u001b[0m     resp \u001b[38;5;241m=\u001b[39m \u001b[43mnode\u001b[49m\u001b[38;5;241;43m.\u001b[39;49m\u001b[43mperform_request\u001b[49m\u001b[43m(\u001b[49m\n\u001b[0;32m    343\u001b[0m \u001b[43m        \u001b[49m\u001b[43mmethod\u001b[49m\u001b[43m,\u001b[49m\n\u001b[0;32m    344\u001b[0m \u001b[43m        \u001b[49m\u001b[43mtarget\u001b[49m\u001b[43m,\u001b[49m\n\u001b[0;32m    345\u001b[0m \u001b[43m        \u001b[49m\u001b[43mbody\u001b[49m\u001b[38;5;241;43m=\u001b[39;49m\u001b[43mrequest_body\u001b[49m\u001b[43m,\u001b[49m\n\u001b[0;32m    346\u001b[0m \u001b[43m        \u001b[49m\u001b[43mheaders\u001b[49m\u001b[38;5;241;43m=\u001b[39;49m\u001b[43mrequest_headers\u001b[49m\u001b[43m,\u001b[49m\n\u001b[0;32m    347\u001b[0m \u001b[43m        \u001b[49m\u001b[43mrequest_timeout\u001b[49m\u001b[38;5;241;43m=\u001b[39;49m\u001b[43mrequest_timeout\u001b[49m\u001b[43m,\u001b[49m\n\u001b[0;32m    348\u001b[0m \u001b[43m    \u001b[49m\u001b[43m)\u001b[49m\n\u001b[0;32m    349\u001b[0m     _logger\u001b[38;5;241m.\u001b[39minfo(\n\u001b[0;32m    350\u001b[0m         \u001b[38;5;124m\"\u001b[39m\u001b[38;5;132;01m%s\u001b[39;00m\u001b[38;5;124m \u001b[39m\u001b[38;5;132;01m%s\u001b[39;00m\u001b[38;5;132;01m%s\u001b[39;00m\u001b[38;5;124m [status:\u001b[39m\u001b[38;5;132;01m%s\u001b[39;00m\u001b[38;5;124m duration:\u001b[39m\u001b[38;5;132;01m%.3f\u001b[39;00m\u001b[38;5;124ms]\u001b[39m\u001b[38;5;124m\"\u001b[39m\n\u001b[0;32m    351\u001b[0m         \u001b[38;5;241m%\u001b[39m (\n\u001b[1;32m   (...)\u001b[0m\n\u001b[0;32m    357\u001b[0m         )\n\u001b[0;32m    358\u001b[0m     )\n\u001b[0;32m    360\u001b[0m     \u001b[38;5;28;01mif\u001b[39;00m method \u001b[38;5;241m!=\u001b[39m \u001b[38;5;124m\"\u001b[39m\u001b[38;5;124mHEAD\u001b[39m\u001b[38;5;124m\"\u001b[39m:\n",
      "File \u001b[1;32m~\\.virtualenvs\\movie_finder-CH9R3uu6\\Lib\\site-packages\\elastic_transport\\_node\\_http_urllib3.py:167\u001b[0m, in \u001b[0;36mUrllib3HttpNode.perform_request\u001b[1;34m(self, method, target, body, headers, request_timeout)\u001b[0m\n\u001b[0;32m    164\u001b[0m \u001b[38;5;28;01melse\u001b[39;00m:\n\u001b[0;32m    165\u001b[0m     body_to_send \u001b[38;5;241m=\u001b[39m \u001b[38;5;28;01mNone\u001b[39;00m\n\u001b[1;32m--> 167\u001b[0m response \u001b[38;5;241m=\u001b[39m \u001b[38;5;28;43mself\u001b[39;49m\u001b[38;5;241;43m.\u001b[39;49m\u001b[43mpool\u001b[49m\u001b[38;5;241;43m.\u001b[39;49m\u001b[43murlopen\u001b[49m\u001b[43m(\u001b[49m\n\u001b[0;32m    168\u001b[0m \u001b[43m    \u001b[49m\u001b[43mmethod\u001b[49m\u001b[43m,\u001b[49m\n\u001b[0;32m    169\u001b[0m \u001b[43m    \u001b[49m\u001b[43mtarget\u001b[49m\u001b[43m,\u001b[49m\n\u001b[0;32m    170\u001b[0m \u001b[43m    \u001b[49m\u001b[43mbody\u001b[49m\u001b[38;5;241;43m=\u001b[39;49m\u001b[43mbody_to_send\u001b[49m\u001b[43m,\u001b[49m\n\u001b[0;32m    171\u001b[0m \u001b[43m    \u001b[49m\u001b[43mretries\u001b[49m\u001b[38;5;241;43m=\u001b[39;49m\u001b[43mRetry\u001b[49m\u001b[43m(\u001b[49m\u001b[38;5;28;43;01mFalse\u001b[39;49;00m\u001b[43m)\u001b[49m\u001b[43m,\u001b[49m\n\u001b[0;32m    172\u001b[0m \u001b[43m    \u001b[49m\u001b[43mheaders\u001b[49m\u001b[38;5;241;43m=\u001b[39;49m\u001b[43mrequest_headers\u001b[49m\u001b[43m,\u001b[49m\n\u001b[0;32m    173\u001b[0m \u001b[43m    \u001b[49m\u001b[38;5;241;43m*\u001b[39;49m\u001b[38;5;241;43m*\u001b[39;49m\u001b[43mkw\u001b[49m\u001b[43m,\u001b[49m\u001b[43m  \u001b[49m\u001b[38;5;66;43;03m# type: ignore[arg-type]\u001b[39;49;00m\n\u001b[0;32m    174\u001b[0m \u001b[43m\u001b[49m\u001b[43m)\u001b[49m\n\u001b[0;32m    175\u001b[0m response_headers \u001b[38;5;241m=\u001b[39m HttpHeaders(response\u001b[38;5;241m.\u001b[39mheaders)\n\u001b[0;32m    176\u001b[0m data \u001b[38;5;241m=\u001b[39m response\u001b[38;5;241m.\u001b[39mdata\n",
      "File \u001b[1;32m~\\.virtualenvs\\movie_finder-CH9R3uu6\\Lib\\site-packages\\urllib3\\connectionpool.py:789\u001b[0m, in \u001b[0;36mHTTPConnectionPool.urlopen\u001b[1;34m(self, method, url, body, headers, retries, redirect, assert_same_host, timeout, pool_timeout, release_conn, chunked, body_pos, preload_content, decode_content, **response_kw)\u001b[0m\n\u001b[0;32m    786\u001b[0m response_conn \u001b[38;5;241m=\u001b[39m conn \u001b[38;5;28;01mif\u001b[39;00m \u001b[38;5;129;01mnot\u001b[39;00m release_conn \u001b[38;5;28;01melse\u001b[39;00m \u001b[38;5;28;01mNone\u001b[39;00m\n\u001b[0;32m    788\u001b[0m \u001b[38;5;66;03m# Make the request on the HTTPConnection object\u001b[39;00m\n\u001b[1;32m--> 789\u001b[0m response \u001b[38;5;241m=\u001b[39m \u001b[38;5;28;43mself\u001b[39;49m\u001b[38;5;241;43m.\u001b[39;49m\u001b[43m_make_request\u001b[49m\u001b[43m(\u001b[49m\n\u001b[0;32m    790\u001b[0m \u001b[43m    \u001b[49m\u001b[43mconn\u001b[49m\u001b[43m,\u001b[49m\n\u001b[0;32m    791\u001b[0m \u001b[43m    \u001b[49m\u001b[43mmethod\u001b[49m\u001b[43m,\u001b[49m\n\u001b[0;32m    792\u001b[0m \u001b[43m    \u001b[49m\u001b[43murl\u001b[49m\u001b[43m,\u001b[49m\n\u001b[0;32m    793\u001b[0m \u001b[43m    \u001b[49m\u001b[43mtimeout\u001b[49m\u001b[38;5;241;43m=\u001b[39;49m\u001b[43mtimeout_obj\u001b[49m\u001b[43m,\u001b[49m\n\u001b[0;32m    794\u001b[0m \u001b[43m    \u001b[49m\u001b[43mbody\u001b[49m\u001b[38;5;241;43m=\u001b[39;49m\u001b[43mbody\u001b[49m\u001b[43m,\u001b[49m\n\u001b[0;32m    795\u001b[0m \u001b[43m    \u001b[49m\u001b[43mheaders\u001b[49m\u001b[38;5;241;43m=\u001b[39;49m\u001b[43mheaders\u001b[49m\u001b[43m,\u001b[49m\n\u001b[0;32m    796\u001b[0m \u001b[43m    \u001b[49m\u001b[43mchunked\u001b[49m\u001b[38;5;241;43m=\u001b[39;49m\u001b[43mchunked\u001b[49m\u001b[43m,\u001b[49m\n\u001b[0;32m    797\u001b[0m \u001b[43m    \u001b[49m\u001b[43mretries\u001b[49m\u001b[38;5;241;43m=\u001b[39;49m\u001b[43mretries\u001b[49m\u001b[43m,\u001b[49m\n\u001b[0;32m    798\u001b[0m \u001b[43m    \u001b[49m\u001b[43mresponse_conn\u001b[49m\u001b[38;5;241;43m=\u001b[39;49m\u001b[43mresponse_conn\u001b[49m\u001b[43m,\u001b[49m\n\u001b[0;32m    799\u001b[0m \u001b[43m    \u001b[49m\u001b[43mpreload_content\u001b[49m\u001b[38;5;241;43m=\u001b[39;49m\u001b[43mpreload_content\u001b[49m\u001b[43m,\u001b[49m\n\u001b[0;32m    800\u001b[0m \u001b[43m    \u001b[49m\u001b[43mdecode_content\u001b[49m\u001b[38;5;241;43m=\u001b[39;49m\u001b[43mdecode_content\u001b[49m\u001b[43m,\u001b[49m\n\u001b[0;32m    801\u001b[0m \u001b[43m    \u001b[49m\u001b[38;5;241;43m*\u001b[39;49m\u001b[38;5;241;43m*\u001b[39;49m\u001b[43mresponse_kw\u001b[49m\u001b[43m,\u001b[49m\n\u001b[0;32m    802\u001b[0m \u001b[43m\u001b[49m\u001b[43m)\u001b[49m\n\u001b[0;32m    804\u001b[0m \u001b[38;5;66;03m# Everything went great!\u001b[39;00m\n\u001b[0;32m    805\u001b[0m clean_exit \u001b[38;5;241m=\u001b[39m \u001b[38;5;28;01mTrue\u001b[39;00m\n",
      "File \u001b[1;32m~\\.virtualenvs\\movie_finder-CH9R3uu6\\Lib\\site-packages\\urllib3\\connectionpool.py:536\u001b[0m, in \u001b[0;36mHTTPConnectionPool._make_request\u001b[1;34m(self, conn, method, url, body, headers, retries, timeout, chunked, response_conn, preload_content, decode_content, enforce_content_length)\u001b[0m\n\u001b[0;32m    534\u001b[0m \u001b[38;5;66;03m# Receive the response from the server\u001b[39;00m\n\u001b[0;32m    535\u001b[0m \u001b[38;5;28;01mtry\u001b[39;00m:\n\u001b[1;32m--> 536\u001b[0m     response \u001b[38;5;241m=\u001b[39m \u001b[43mconn\u001b[49m\u001b[38;5;241;43m.\u001b[39;49m\u001b[43mgetresponse\u001b[49m\u001b[43m(\u001b[49m\u001b[43m)\u001b[49m\n\u001b[0;32m    537\u001b[0m \u001b[38;5;28;01mexcept\u001b[39;00m (BaseSSLError, \u001b[38;5;167;01mOSError\u001b[39;00m) \u001b[38;5;28;01mas\u001b[39;00m e:\n\u001b[0;32m    538\u001b[0m     \u001b[38;5;28mself\u001b[39m\u001b[38;5;241m.\u001b[39m_raise_timeout(err\u001b[38;5;241m=\u001b[39me, url\u001b[38;5;241m=\u001b[39murl, timeout_value\u001b[38;5;241m=\u001b[39mread_timeout)\n",
      "File \u001b[1;32m~\\.virtualenvs\\movie_finder-CH9R3uu6\\Lib\\site-packages\\urllib3\\connection.py:507\u001b[0m, in \u001b[0;36mHTTPConnection.getresponse\u001b[1;34m(self)\u001b[0m\n\u001b[0;32m    504\u001b[0m \u001b[38;5;28;01mfrom\u001b[39;00m \u001b[38;5;21;01m.\u001b[39;00m\u001b[38;5;21;01mresponse\u001b[39;00m \u001b[38;5;28;01mimport\u001b[39;00m HTTPResponse\n\u001b[0;32m    506\u001b[0m \u001b[38;5;66;03m# Get the response from http.client.HTTPConnection\u001b[39;00m\n\u001b[1;32m--> 507\u001b[0m httplib_response \u001b[38;5;241m=\u001b[39m \u001b[38;5;28;43msuper\u001b[39;49m\u001b[43m(\u001b[49m\u001b[43m)\u001b[49m\u001b[38;5;241;43m.\u001b[39;49m\u001b[43mgetresponse\u001b[49m\u001b[43m(\u001b[49m\u001b[43m)\u001b[49m\n\u001b[0;32m    509\u001b[0m \u001b[38;5;28;01mtry\u001b[39;00m:\n\u001b[0;32m    510\u001b[0m     assert_header_parsing(httplib_response\u001b[38;5;241m.\u001b[39mmsg)\n",
      "File \u001b[1;32m~\\AppData\\Local\\Programs\\Python\\Python312\\Lib\\http\\client.py:1428\u001b[0m, in \u001b[0;36mHTTPConnection.getresponse\u001b[1;34m(self)\u001b[0m\n\u001b[0;32m   1426\u001b[0m \u001b[38;5;28;01mtry\u001b[39;00m:\n\u001b[0;32m   1427\u001b[0m     \u001b[38;5;28;01mtry\u001b[39;00m:\n\u001b[1;32m-> 1428\u001b[0m         \u001b[43mresponse\u001b[49m\u001b[38;5;241;43m.\u001b[39;49m\u001b[43mbegin\u001b[49m\u001b[43m(\u001b[49m\u001b[43m)\u001b[49m\n\u001b[0;32m   1429\u001b[0m     \u001b[38;5;28;01mexcept\u001b[39;00m \u001b[38;5;167;01mConnectionError\u001b[39;00m:\n\u001b[0;32m   1430\u001b[0m         \u001b[38;5;28mself\u001b[39m\u001b[38;5;241m.\u001b[39mclose()\n",
      "File \u001b[1;32m~\\AppData\\Local\\Programs\\Python\\Python312\\Lib\\http\\client.py:331\u001b[0m, in \u001b[0;36mHTTPResponse.begin\u001b[1;34m(self)\u001b[0m\n\u001b[0;32m    329\u001b[0m \u001b[38;5;66;03m# read until we get a non-100 response\u001b[39;00m\n\u001b[0;32m    330\u001b[0m \u001b[38;5;28;01mwhile\u001b[39;00m \u001b[38;5;28;01mTrue\u001b[39;00m:\n\u001b[1;32m--> 331\u001b[0m     version, status, reason \u001b[38;5;241m=\u001b[39m \u001b[38;5;28;43mself\u001b[39;49m\u001b[38;5;241;43m.\u001b[39;49m\u001b[43m_read_status\u001b[49m\u001b[43m(\u001b[49m\u001b[43m)\u001b[49m\n\u001b[0;32m    332\u001b[0m     \u001b[38;5;28;01mif\u001b[39;00m status \u001b[38;5;241m!=\u001b[39m CONTINUE:\n\u001b[0;32m    333\u001b[0m         \u001b[38;5;28;01mbreak\u001b[39;00m\n",
      "File \u001b[1;32m~\\AppData\\Local\\Programs\\Python\\Python312\\Lib\\http\\client.py:292\u001b[0m, in \u001b[0;36mHTTPResponse._read_status\u001b[1;34m(self)\u001b[0m\n\u001b[0;32m    291\u001b[0m \u001b[38;5;28;01mdef\u001b[39;00m \u001b[38;5;21m_read_status\u001b[39m(\u001b[38;5;28mself\u001b[39m):\n\u001b[1;32m--> 292\u001b[0m     line \u001b[38;5;241m=\u001b[39m \u001b[38;5;28mstr\u001b[39m(\u001b[38;5;28;43mself\u001b[39;49m\u001b[38;5;241;43m.\u001b[39;49m\u001b[43mfp\u001b[49m\u001b[38;5;241;43m.\u001b[39;49m\u001b[43mreadline\u001b[49m\u001b[43m(\u001b[49m\u001b[43m_MAXLINE\u001b[49m\u001b[43m \u001b[49m\u001b[38;5;241;43m+\u001b[39;49m\u001b[43m \u001b[49m\u001b[38;5;241;43m1\u001b[39;49m\u001b[43m)\u001b[49m, \u001b[38;5;124m\"\u001b[39m\u001b[38;5;124miso-8859-1\u001b[39m\u001b[38;5;124m\"\u001b[39m)\n\u001b[0;32m    293\u001b[0m     \u001b[38;5;28;01mif\u001b[39;00m \u001b[38;5;28mlen\u001b[39m(line) \u001b[38;5;241m>\u001b[39m _MAXLINE:\n\u001b[0;32m    294\u001b[0m         \u001b[38;5;28;01mraise\u001b[39;00m LineTooLong(\u001b[38;5;124m\"\u001b[39m\u001b[38;5;124mstatus line\u001b[39m\u001b[38;5;124m\"\u001b[39m)\n",
      "File \u001b[1;32m~\\AppData\\Local\\Programs\\Python\\Python312\\Lib\\socket.py:720\u001b[0m, in \u001b[0;36mSocketIO.readinto\u001b[1;34m(self, b)\u001b[0m\n\u001b[0;32m    718\u001b[0m \u001b[38;5;28;01mwhile\u001b[39;00m \u001b[38;5;28;01mTrue\u001b[39;00m:\n\u001b[0;32m    719\u001b[0m     \u001b[38;5;28;01mtry\u001b[39;00m:\n\u001b[1;32m--> 720\u001b[0m         \u001b[38;5;28;01mreturn\u001b[39;00m \u001b[38;5;28;43mself\u001b[39;49m\u001b[38;5;241;43m.\u001b[39;49m\u001b[43m_sock\u001b[49m\u001b[38;5;241;43m.\u001b[39;49m\u001b[43mrecv_into\u001b[49m\u001b[43m(\u001b[49m\u001b[43mb\u001b[49m\u001b[43m)\u001b[49m\n\u001b[0;32m    721\u001b[0m     \u001b[38;5;28;01mexcept\u001b[39;00m timeout:\n\u001b[0;32m    722\u001b[0m         \u001b[38;5;28mself\u001b[39m\u001b[38;5;241m.\u001b[39m_timeout_occurred \u001b[38;5;241m=\u001b[39m \u001b[38;5;28;01mTrue\u001b[39;00m\n",
      "\u001b[1;31mKeyboardInterrupt\u001b[0m: "
     ]
    }
   ],
   "source": [
    "answers = {}\n",
    "\n",
    "for i, rec in enumerate(tqdm(ground_truth)):\n",
    "    if i in answers:\n",
    "        continue\n",
    "\n",
    "    answer_llm = rag(rec['question'])\n",
    "\n",
    "    answers[i] = {\n",
    "        'answer_llm': answer_llm,\n",
    "        'id': rec['id'],\n",
    "        'question': rec['question']\n",
    "    }"
   ]
  },
  {
   "cell_type": "code",
   "execution_count": 18,
   "id": "c9b9ba4c-a0e4-420b-9ac7-fec8530cf5ff",
   "metadata": {},
   "outputs": [
    {
     "data": {
      "text/plain": [
       "{'answer_llm': 'It sounds like you are experiencing some concerning symptoms with a maroon dot underneath your skin that oozed blood. From the context, it appears that this could potentially be related to an injury to a blood vessel or a local injury. The significant bleeding you mentioned, especially if it happens multiple times, raises some concern for underlying issues, such as an abnormality in blood coagulation.\\n\\nCommon causes for such a maroonish dot could include:\\n\\n- **Injury**: If something sharp penetrated the skin, it could have damaged a blood vessel, leading to the bleeding.\\n- **Sebaceous Cyst**: In some cases, a cyst could form under the skin that may become inflamed and bleed.\\n- **Capillary Hemangioma**: A benign vascular tumor that can appear as a red or maroon spot.\\n\\nGiven that the area has not healed and is still troubling you, it is very wise that you have scheduled an appointment with a dermatologist. They will be able to examine the area properly and could perform necessary tests to rule out any serious conditions.\\n\\nAt this point, it is best to avoid attempting any home remedies that could exacerbate the situation. Persistent symptoms such as these should be evaluated in person by a healthcare professional. If you notice any additional symptoms like increased redness, swelling, or pain, or if you develop new spots, be sure to inform your doctor. \\n\\nTake care, and I hope you find relief soon.',\n",
       " 'id': 1,\n",
       " 'question': 'What causes a maroon dot like the one I have under my skin, and could it be something serious?'}"
      ]
     },
     "execution_count": 18,
     "metadata": {},
     "output_type": "execute_result"
    }
   ],
   "source": [
    "answers[0]"
   ]
  },
  {
   "cell_type": "code",
   "execution_count": 19,
   "id": "f942f400-94d5-4e1e-b4fa-c1bafd9220ae",
   "metadata": {},
   "outputs": [],
   "source": [
    "df_result = pd.DataFrame(answers)"
   ]
  },
  {
   "cell_type": "code",
   "execution_count": 24,
   "id": "2d901606-36d1-4e16-a758-d220f42e1594",
   "metadata": {},
   "outputs": [],
   "source": [
    "df_result = df_result.transpose()[['question', 'answer_llm', 'id']]"
   ]
  },
  {
   "cell_type": "code",
   "execution_count": 25,
   "id": "1b42e0ea-b0bf-460c-aa88-f41f8caae33c",
   "metadata": {},
   "outputs": [
    {
     "data": {
      "text/html": [
       "<div>\n",
       "<style scoped>\n",
       "    .dataframe tbody tr th:only-of-type {\n",
       "        vertical-align: middle;\n",
       "    }\n",
       "\n",
       "    .dataframe tbody tr th {\n",
       "        vertical-align: top;\n",
       "    }\n",
       "\n",
       "    .dataframe thead th {\n",
       "        text-align: right;\n",
       "    }\n",
       "</style>\n",
       "<table border=\"1\" class=\"dataframe\">\n",
       "  <thead>\n",
       "    <tr style=\"text-align: right;\">\n",
       "      <th></th>\n",
       "      <th>question</th>\n",
       "      <th>answer_llm</th>\n",
       "      <th>id</th>\n",
       "    </tr>\n",
       "  </thead>\n",
       "  <tbody>\n",
       "    <tr>\n",
       "      <th>0</th>\n",
       "      <td>What causes a maroon dot like the one I have u...</td>\n",
       "      <td>It sounds like you are experiencing some conce...</td>\n",
       "      <td>1</td>\n",
       "    </tr>\n",
       "    <tr>\n",
       "      <th>1</th>\n",
       "      <td>Is there a way to treat the maroon dot at home...</td>\n",
       "      <td>Based on the context provided, it sounds like ...</td>\n",
       "      <td>1</td>\n",
       "    </tr>\n",
       "    <tr>\n",
       "      <th>2</th>\n",
       "      <td>Could any medications I am taking be affecting...</td>\n",
       "      <td>It’s important to consider that medications ca...</td>\n",
       "      <td>1</td>\n",
       "    </tr>\n",
       "    <tr>\n",
       "      <th>3</th>\n",
       "      <td>Are there specific symptoms I should watch out...</td>\n",
       "      <td>Based on your context, there are several sympt...</td>\n",
       "      <td>1</td>\n",
       "    </tr>\n",
       "    <tr>\n",
       "      <th>4</th>\n",
       "      <td>What tests should I expect the dermatologist t...</td>\n",
       "      <td>When you visit a dermatologist to address your...</td>\n",
       "      <td>1</td>\n",
       "    </tr>\n",
       "  </tbody>\n",
       "</table>\n",
       "</div>"
      ],
      "text/plain": [
       "                                            question  \\\n",
       "0  What causes a maroon dot like the one I have u...   \n",
       "1  Is there a way to treat the maroon dot at home...   \n",
       "2  Could any medications I am taking be affecting...   \n",
       "3  Are there specific symptoms I should watch out...   \n",
       "4  What tests should I expect the dermatologist t...   \n",
       "\n",
       "                                          answer_llm id  \n",
       "0  It sounds like you are experiencing some conce...  1  \n",
       "1  Based on the context provided, it sounds like ...  1  \n",
       "2  It’s important to consider that medications ca...  1  \n",
       "3  Based on your context, there are several sympt...  1  \n",
       "4  When you visit a dermatologist to address your...  1  "
      ]
     },
     "execution_count": 25,
     "metadata": {},
     "output_type": "execute_result"
    }
   ],
   "source": [
    "df_result.head()"
   ]
  },
  {
   "cell_type": "code",
   "execution_count": 26,
   "id": "7d82755a-c04d-4784-b515-e5bd3a8390c5",
   "metadata": {},
   "outputs": [],
   "source": [
    "prompt_judge_template = \"\"\"\n",
    "You are an expert evaluator for a Retrieval-Augmented Generation (RAG) system.\n",
    "Your task is to analyze the relevance of the generated answer to the given question.\n",
    "Based on the relevance of the generated answer, you will classify it\n",
    "as \"NON_RELEVANT\", \"PARTLY_RELEVANT\", or \"RELEVANT\".\n",
    "\n",
    "Here is the data for evaluation:\n",
    "\n",
    "Question: {question}\n",
    "Generated Answer: {answer_llm}\n",
    "\n",
    "Please analyze the content and context of the generated answer in relation to the question\n",
    "and provide your evaluation in parsable JSON without using code blocks:\n",
    "\n",
    "{{\n",
    "  \"Relevance\": \"NON_RELEVANT\" | \"PARTLY_RELEVANT\" | \"RELEVANT\",\n",
    "  \"Explanation\": \"[Provide a brief explanation for your evaluation]\"\n",
    "}}\n",
    "\"\"\".strip()"
   ]
  },
  {
   "cell_type": "code",
   "execution_count": 37,
   "id": "6c937a5e-2a5c-489a-b652-cea46636cdd1",
   "metadata": {},
   "outputs": [],
   "source": [
    "df_result.to_csv('../data/results_gpt4o_mini.csv', index=False)"
   ]
  },
  {
   "cell_type": "code",
   "execution_count": 27,
   "id": "0e279478-42a0-45b7-ab22-4f2113392d87",
   "metadata": {},
   "outputs": [],
   "source": [
    "samples = df_result.to_dict(orient='records')"
   ]
  },
  {
   "cell_type": "code",
   "execution_count": 28,
   "id": "96f01989-9975-4b6c-8f1c-47d377eb16a9",
   "metadata": {},
   "outputs": [
    {
     "name": "stderr",
     "output_type": "stream",
     "text": [
      "100%|████████████████████████████████████████████████████████████████████████████████████| 481/481 [13:17<00:00,  1.66s/it]\n"
     ]
    }
   ],
   "source": [
    "evaluations = []\n",
    "\n",
    "for record in tqdm(samples):\n",
    "    prompt = prompt_judge_template.format(**record)\n",
    "    evaluation = llm(prompt)\n",
    "    evaluations.append(evaluation)"
   ]
  },
  {
   "cell_type": "code",
   "execution_count": 29,
   "id": "fa9d685b-2ca8-48ab-9445-c4656daa17d7",
   "metadata": {},
   "outputs": [],
   "source": [
    "json_evaluations = []\n",
    "\n",
    "for str_eval in evaluations:\n",
    "    json_eval = json.loads(str_eval)\n",
    "    json_evaluations.append(json_eval)"
   ]
  },
  {
   "cell_type": "code",
   "execution_count": 30,
   "id": "516421cb-ca57-4cf8-b653-2717391ac0e6",
   "metadata": {},
   "outputs": [],
   "source": [
    "df_evaluations = pd.DataFrame(json_evaluations)"
   ]
  },
  {
   "cell_type": "code",
   "execution_count": 31,
   "id": "77af8d63-5bcd-4f35-879d-b44779af8512",
   "metadata": {},
   "outputs": [
    {
     "data": {
      "text/plain": [
       "Relevance\n",
       "RELEVANT           441\n",
       "PARTLY_RELEVANT     40\n",
       "Name: count, dtype: int64"
      ]
     },
     "execution_count": 31,
     "metadata": {},
     "output_type": "execute_result"
    }
   ],
   "source": [
    "df_evaluations.Relevance.value_counts()"
   ]
  },
  {
   "cell_type": "code",
   "execution_count": 36,
   "id": "fa1717c6-c0fa-404e-b79f-7aab27c3bbc3",
   "metadata": {},
   "outputs": [
    {
     "data": {
      "text/plain": [
       "'The generated answer directly addresses the question about how medications may affect bleeding. It discusses the possible impacts of medications on bleeding and blood coagulation, confirming that some medications can influence these factors. The suggestion to consult with a dermatologist about medications is pertinent, reinforcing the importance of professional medical advice in relation to the symptoms described.'"
      ]
     },
     "execution_count": 36,
     "metadata": {},
     "output_type": "execute_result"
    }
   ],
   "source": [
    "df_evaluations.iloc[2]['Explanation']"
   ]
  },
  {
   "cell_type": "code",
   "execution_count": 35,
   "id": "6c5344cd-b92a-4898-887b-20e143c5e076",
   "metadata": {
    "scrolled": true
   },
   "outputs": [
    {
     "data": {
      "text/html": [
       "<div>\n",
       "<style scoped>\n",
       "    .dataframe tbody tr th:only-of-type {\n",
       "        vertical-align: middle;\n",
       "    }\n",
       "\n",
       "    .dataframe tbody tr th {\n",
       "        vertical-align: top;\n",
       "    }\n",
       "\n",
       "    .dataframe thead th {\n",
       "        text-align: right;\n",
       "    }\n",
       "</style>\n",
       "<table border=\"1\" class=\"dataframe\">\n",
       "  <thead>\n",
       "    <tr style=\"text-align: right;\">\n",
       "      <th></th>\n",
       "      <th>Relevance</th>\n",
       "      <th>Explanation</th>\n",
       "    </tr>\n",
       "  </thead>\n",
       "  <tbody>\n",
       "    <tr>\n",
       "      <th>9</th>\n",
       "      <td>PARTLY_RELEVANT</td>\n",
       "      <td>The generated answer discusses steps to addres...</td>\n",
       "    </tr>\n",
       "    <tr>\n",
       "      <th>22</th>\n",
       "      <td>PARTLY_RELEVANT</td>\n",
       "      <td>The generated answer addresses the question by...</td>\n",
       "    </tr>\n",
       "    <tr>\n",
       "      <th>24</th>\n",
       "      <td>PARTLY_RELEVANT</td>\n",
       "      <td>The generated answer addresses medication opti...</td>\n",
       "    </tr>\n",
       "    <tr>\n",
       "      <th>31</th>\n",
       "      <td>PARTLY_RELEVANT</td>\n",
       "      <td>The generated answer provides some insights re...</td>\n",
       "    </tr>\n",
       "    <tr>\n",
       "      <th>32</th>\n",
       "      <td>PARTLY_RELEVANT</td>\n",
       "      <td>The generated answer discusses home treatments...</td>\n",
       "    </tr>\n",
       "    <tr>\n",
       "      <th>33</th>\n",
       "      <td>PARTLY_RELEVANT</td>\n",
       "      <td>The generated answer discusses how diet can af...</td>\n",
       "    </tr>\n",
       "    <tr>\n",
       "      <th>71</th>\n",
       "      <td>PARTLY_RELEVANT</td>\n",
       "      <td>The generated answer provides useful informati...</td>\n",
       "    </tr>\n",
       "    <tr>\n",
       "      <th>102</th>\n",
       "      <td>PARTLY_RELEVANT</td>\n",
       "      <td>The generated answer provides information abou...</td>\n",
       "    </tr>\n",
       "    <tr>\n",
       "      <th>119</th>\n",
       "      <td>PARTLY_RELEVANT</td>\n",
       "      <td>The generated answer provides some alternative...</td>\n",
       "    </tr>\n",
       "    <tr>\n",
       "      <th>120</th>\n",
       "      <td>PARTLY_RELEVANT</td>\n",
       "      <td>The generated answer addresses the question ab...</td>\n",
       "    </tr>\n",
       "    <tr>\n",
       "      <th>129</th>\n",
       "      <td>PARTLY_RELEVANT</td>\n",
       "      <td>The generated answer discusses the use of turm...</td>\n",
       "    </tr>\n",
       "    <tr>\n",
       "      <th>142</th>\n",
       "      <td>PARTLY_RELEVANT</td>\n",
       "      <td>The generated answer acknowledges the question...</td>\n",
       "    </tr>\n",
       "    <tr>\n",
       "      <th>195</th>\n",
       "      <td>PARTLY_RELEVANT</td>\n",
       "      <td>The generated answer acknowledges the presence...</td>\n",
       "    </tr>\n",
       "    <tr>\n",
       "      <th>206</th>\n",
       "      <td>PARTLY_RELEVANT</td>\n",
       "      <td>The generated answer addresses the question by...</td>\n",
       "    </tr>\n",
       "    <tr>\n",
       "      <th>231</th>\n",
       "      <td>PARTLY_RELEVANT</td>\n",
       "      <td>The generated answer acknowledges the request ...</td>\n",
       "    </tr>\n",
       "    <tr>\n",
       "      <th>246</th>\n",
       "      <td>PARTLY_RELEVANT</td>\n",
       "      <td>The generated answer touches on the topic of i...</td>\n",
       "    </tr>\n",
       "    <tr>\n",
       "      <th>267</th>\n",
       "      <td>PARTLY_RELEVANT</td>\n",
       "      <td>The generated answer discusses healing times f...</td>\n",
       "    </tr>\n",
       "    <tr>\n",
       "      <th>268</th>\n",
       "      <td>PARTLY_RELEVANT</td>\n",
       "      <td>The generated answer provides a list of good s...</td>\n",
       "    </tr>\n",
       "    <tr>\n",
       "      <th>282</th>\n",
       "      <td>PARTLY_RELEVANT</td>\n",
       "      <td>The generated answer acknowledges the preferen...</td>\n",
       "    </tr>\n",
       "    <tr>\n",
       "      <th>293</th>\n",
       "      <td>PARTLY_RELEVANT</td>\n",
       "      <td>The generated answer provides context about de...</td>\n",
       "    </tr>\n",
       "    <tr>\n",
       "      <th>309</th>\n",
       "      <td>PARTLY_RELEVANT</td>\n",
       "      <td>The generated answer provides some relevant in...</td>\n",
       "    </tr>\n",
       "    <tr>\n",
       "      <th>312</th>\n",
       "      <td>PARTLY_RELEVANT</td>\n",
       "      <td>The generated answer discusses the relationshi...</td>\n",
       "    </tr>\n",
       "    <tr>\n",
       "      <th>315</th>\n",
       "      <td>PARTLY_RELEVANT</td>\n",
       "      <td>The generated answer touches on relevant medic...</td>\n",
       "    </tr>\n",
       "    <tr>\n",
       "      <th>316</th>\n",
       "      <td>PARTLY_RELEVANT</td>\n",
       "      <td>The generated answer addresses the main questi...</td>\n",
       "    </tr>\n",
       "    <tr>\n",
       "      <th>345</th>\n",
       "      <td>PARTLY_RELEVANT</td>\n",
       "      <td>The answer does provide dietary recommendation...</td>\n",
       "    </tr>\n",
       "    <tr>\n",
       "      <th>348</th>\n",
       "      <td>PARTLY_RELEVANT</td>\n",
       "      <td>The generated answer discusses general dietary...</td>\n",
       "    </tr>\n",
       "    <tr>\n",
       "      <th>355</th>\n",
       "      <td>PARTLY_RELEVANT</td>\n",
       "      <td>The generated answer acknowledges the question...</td>\n",
       "    </tr>\n",
       "    <tr>\n",
       "      <th>356</th>\n",
       "      <td>PARTLY_RELEVANT</td>\n",
       "      <td>The generated answer explains the importance o...</td>\n",
       "    </tr>\n",
       "    <tr>\n",
       "      <th>406</th>\n",
       "      <td>PARTLY_RELEVANT</td>\n",
       "      <td>The generated answer addresses the question ab...</td>\n",
       "    </tr>\n",
       "    <tr>\n",
       "      <th>409</th>\n",
       "      <td>PARTLY_RELEVANT</td>\n",
       "      <td>The generated answer primarily discusses the f...</td>\n",
       "    </tr>\n",
       "    <tr>\n",
       "      <th>410</th>\n",
       "      <td>PARTLY_RELEVANT</td>\n",
       "      <td>The generated answer addresses the possibility...</td>\n",
       "    </tr>\n",
       "    <tr>\n",
       "      <th>411</th>\n",
       "      <td>PARTLY_RELEVANT</td>\n",
       "      <td>The generated answer acknowledges the question...</td>\n",
       "    </tr>\n",
       "    <tr>\n",
       "      <th>424</th>\n",
       "      <td>PARTLY_RELEVANT</td>\n",
       "      <td>The generated answer addresses the concern abo...</td>\n",
       "    </tr>\n",
       "    <tr>\n",
       "      <th>434</th>\n",
       "      <td>PARTLY_RELEVANT</td>\n",
       "      <td>The generated answer addresses concerns regard...</td>\n",
       "    </tr>\n",
       "    <tr>\n",
       "      <th>436</th>\n",
       "      <td>PARTLY_RELEVANT</td>\n",
       "      <td>The generated answer provides information abou...</td>\n",
       "    </tr>\n",
       "    <tr>\n",
       "      <th>448</th>\n",
       "      <td>PARTLY_RELEVANT</td>\n",
       "      <td>The generated answer addresses the duration an...</td>\n",
       "    </tr>\n",
       "    <tr>\n",
       "      <th>459</th>\n",
       "      <td>PARTLY_RELEVANT</td>\n",
       "      <td>The generated answer touches upon the need for...</td>\n",
       "    </tr>\n",
       "    <tr>\n",
       "      <th>460</th>\n",
       "      <td>PARTLY_RELEVANT</td>\n",
       "      <td>The generated answer provides general informat...</td>\n",
       "    </tr>\n",
       "    <tr>\n",
       "      <th>469</th>\n",
       "      <td>PARTLY_RELEVANT</td>\n",
       "      <td>The generated answer provides general suggesti...</td>\n",
       "    </tr>\n",
       "    <tr>\n",
       "      <th>474</th>\n",
       "      <td>PARTLY_RELEVANT</td>\n",
       "      <td>While the generated answer provides some infor...</td>\n",
       "    </tr>\n",
       "  </tbody>\n",
       "</table>\n",
       "</div>"
      ],
      "text/plain": [
       "           Relevance                                        Explanation\n",
       "9    PARTLY_RELEVANT  The generated answer discusses steps to addres...\n",
       "22   PARTLY_RELEVANT  The generated answer addresses the question by...\n",
       "24   PARTLY_RELEVANT  The generated answer addresses medication opti...\n",
       "31   PARTLY_RELEVANT  The generated answer provides some insights re...\n",
       "32   PARTLY_RELEVANT  The generated answer discusses home treatments...\n",
       "33   PARTLY_RELEVANT  The generated answer discusses how diet can af...\n",
       "71   PARTLY_RELEVANT  The generated answer provides useful informati...\n",
       "102  PARTLY_RELEVANT  The generated answer provides information abou...\n",
       "119  PARTLY_RELEVANT  The generated answer provides some alternative...\n",
       "120  PARTLY_RELEVANT  The generated answer addresses the question ab...\n",
       "129  PARTLY_RELEVANT  The generated answer discusses the use of turm...\n",
       "142  PARTLY_RELEVANT  The generated answer acknowledges the question...\n",
       "195  PARTLY_RELEVANT  The generated answer acknowledges the presence...\n",
       "206  PARTLY_RELEVANT  The generated answer addresses the question by...\n",
       "231  PARTLY_RELEVANT  The generated answer acknowledges the request ...\n",
       "246  PARTLY_RELEVANT  The generated answer touches on the topic of i...\n",
       "267  PARTLY_RELEVANT  The generated answer discusses healing times f...\n",
       "268  PARTLY_RELEVANT  The generated answer provides a list of good s...\n",
       "282  PARTLY_RELEVANT  The generated answer acknowledges the preferen...\n",
       "293  PARTLY_RELEVANT  The generated answer provides context about de...\n",
       "309  PARTLY_RELEVANT  The generated answer provides some relevant in...\n",
       "312  PARTLY_RELEVANT  The generated answer discusses the relationshi...\n",
       "315  PARTLY_RELEVANT  The generated answer touches on relevant medic...\n",
       "316  PARTLY_RELEVANT  The generated answer addresses the main questi...\n",
       "345  PARTLY_RELEVANT  The answer does provide dietary recommendation...\n",
       "348  PARTLY_RELEVANT  The generated answer discusses general dietary...\n",
       "355  PARTLY_RELEVANT  The generated answer acknowledges the question...\n",
       "356  PARTLY_RELEVANT  The generated answer explains the importance o...\n",
       "406  PARTLY_RELEVANT  The generated answer addresses the question ab...\n",
       "409  PARTLY_RELEVANT  The generated answer primarily discusses the f...\n",
       "410  PARTLY_RELEVANT  The generated answer addresses the possibility...\n",
       "411  PARTLY_RELEVANT  The generated answer acknowledges the question...\n",
       "424  PARTLY_RELEVANT  The generated answer addresses the concern abo...\n",
       "434  PARTLY_RELEVANT  The generated answer addresses concerns regard...\n",
       "436  PARTLY_RELEVANT  The generated answer provides information abou...\n",
       "448  PARTLY_RELEVANT  The generated answer addresses the duration an...\n",
       "459  PARTLY_RELEVANT  The generated answer touches upon the need for...\n",
       "460  PARTLY_RELEVANT  The generated answer provides general informat...\n",
       "469  PARTLY_RELEVANT  The generated answer provides general suggesti...\n",
       "474  PARTLY_RELEVANT  While the generated answer provides some infor..."
      ]
     },
     "execution_count": 35,
     "metadata": {},
     "output_type": "execute_result"
    }
   ],
   "source": [
    "df_evaluations[df_evaluations.Relevance == 'PARTLY_RELEVANT']"
   ]
  },
  {
   "cell_type": "code",
   "execution_count": null,
   "id": "eb60c86e-8ce1-446e-af30-7b4334ea7ba9",
=======
   "execution_count": null,
   "id": "0717c40f-643f-4a9b-85ed-755bee3c65e3",
   "metadata": {},
   "outputs": [],
   "source": [
    "def hit_rate(relevance_total):\n",
    "    cnt = 0\n",
    "    for result in relevance_total:\n",
    "        if True in result:\n",
    "            cnt += 1\n",
    "\n",
    "    return cnt/len(relevance_total)"
   ]
  },
  {
   "cell_type": "code",
   "execution_count": null,
   "id": "9b8a1cef-364f-4b84-a508-fd09f59f64df",
   "metadata": {},
   "outputs": [],
   "source": [
    "def mrr(relevance_total):\n",
    "    total_score = 0.0\n",
    "\n",
    "    for result in relevance_total:\n",
    "        for i in range(len(result)):\n",
    "            if result[i] == True:\n",
    "                total_score = total_score + (1 / (i+1))\n",
    "\n",
    "    return total_score/len(relevance_total)"
   ]
  },
  {
   "cell_type": "code",
   "execution_count": null,
   "id": "a8a77b05-ecf5-4b5c-b057-e8ad215908c4",
   "metadata": {},
   "outputs": [],
   "source": [
    "def evaluate(ground_truth, search_function):\n",
    "    relevance_total = []\n",
    "\n",
    "    for q in tqdm(ground_truth):\n",
    "        doc_id = q['document']\n",
    "        results = search_function(q)\n",
    "        relevance = [d['id'] == doc_id for d in results]\n",
    "        relevance_total.append(relevance)\n",
    "\n",
    "    return {\n",
    "        'hit_rate': hit_rate(relevance_total),\n",
    "        'mrr': mrr(relevance_total)\n",
    "    }"
   ]
  },
  {
   "cell_type": "code",
   "execution_count": null,
   "id": "e4e9a6fa-e9a5-4ded-9306-2aace5be2f70",
>>>>>>> 576ef31f491c0f5e624624c65d99091e38c0a6e4
   "metadata": {},
   "outputs": [],
   "source": []
  }
 ],
 "metadata": {
  "kernelspec": {
   "display_name": "Python 3 (ipykernel)",
   "language": "python",
   "name": "python3"
  },
  "language_info": {
   "codemirror_mode": {
    "name": "ipython",
    "version": 3
   },
   "file_extension": ".py",
   "mimetype": "text/x-python",
   "name": "python",
   "nbconvert_exporter": "python",
   "pygments_lexer": "ipython3",
   "version": "3.12.6"
  }
 },
 "nbformat": 4,
 "nbformat_minor": 5
}
