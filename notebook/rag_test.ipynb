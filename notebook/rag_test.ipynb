{
 "cells": [
  {
   "cell_type": "code",
   "execution_count": 2,
   "id": "a33277df-1cce-4df6-b89c-d6fa508d2f15",
   "metadata": {},
   "outputs": [
    {
     "data": {
      "application/vnd.jupyter.widget-view+json": {
       "model_id": "af3d45b8b7504087abdbf252d340ac20",
       "version_major": 2,
       "version_minor": 0
      },
      "text/plain": [
       "VBox(children=(HTML(value='<center> <img\\nsrc=https://huggingface.co/front/assets/huggingface_logo-noborder.sv…"
      ]
     },
     "metadata": {},
     "output_type": "display_data"
    }
   ],
   "source": [
    "from huggingface_hub import login\n",
    "login()"
   ]
  },
  {
   "cell_type": "code",
   "execution_count": 2,
   "id": "b636a696-c931-40bc-bebd-7c28751bc977",
   "metadata": {},
   "outputs": [],
   "source": [
    "from datasets import load_dataset\n",
    "\n",
    "ds = load_dataset(\"ruslanmv/ai-medical-chatbot\", split=\"train\")"
   ]
  },
  {
   "cell_type": "code",
   "execution_count": 4,
   "id": "c148283d-3140-4dce-8bf8-9839254dd76b",
   "metadata": {},
   "outputs": [
    {
     "data": {
      "text/plain": [
       "Dataset({\n",
       "    features: ['Description', 'Patient', 'Doctor'],\n",
       "    num_rows: 256916\n",
       "})"
      ]
     },
     "execution_count": 4,
     "metadata": {},
     "output_type": "execute_result"
    }
   ],
   "source": [
    "ds"
   ]
  },
  {
   "cell_type": "code",
   "execution_count": 5,
   "id": "cd2f685a-9ac8-4b6f-b601-503c7459d1cd",
   "metadata": {},
   "outputs": [
    {
     "data": {
      "text/plain": [
       "{'Description': 'Q. What does abutment of the nerve root mean?',\n",
       " 'Patient': 'Hi doctor,I am just wondering what is abutting and abutment of the nerve root means in a back issue. Please explain. What treatment is required for\\xa0annular bulging and tear?',\n",
       " 'Doctor': 'Hi. I have gone through your query with diligence and would like you to know that I am here to help you. For further information consult a neurologist online -->'}"
      ]
     },
     "execution_count": 5,
     "metadata": {},
     "output_type": "execute_result"
    }
   ],
   "source": [
    "ds[0]"
   ]
  },
  {
   "cell_type": "code",
   "execution_count": 3,
   "id": "e1f37a59-c504-436c-9a7f-85c67b673ddd",
   "metadata": {},
   "outputs": [],
   "source": [
    "import pandas as pd\n",
    "\n",
    "df = ds.to_pandas()"
   ]
  },
  {
   "cell_type": "code",
   "execution_count": 7,
   "id": "092b098e-f3cc-4b4b-84f0-c00d4ee1d942",
   "metadata": {},
   "outputs": [
    {
     "name": "stdout",
     "output_type": "stream",
     "text": [
      "<class 'pandas.core.frame.DataFrame'>\n",
      "RangeIndex: 256916 entries, 0 to 256915\n",
      "Data columns (total 3 columns):\n",
      " #   Column       Non-Null Count   Dtype \n",
      "---  ------       --------------   ----- \n",
      " 0   Description  256916 non-null  object\n",
      " 1   Patient      256916 non-null  object\n",
      " 2   Doctor       256916 non-null  object\n",
      "dtypes: object(3)\n",
      "memory usage: 5.9+ MB\n"
     ]
    }
   ],
   "source": [
    "df.info()"
   ]
  },
  {
   "cell_type": "code",
   "execution_count": 9,
   "id": "0e01b2e6-b396-43f5-9ce2-d846ac5a28cc",
   "metadata": {},
   "outputs": [
    {
     "data": {
      "text/html": [
       "<div>\n",
       "<style scoped>\n",
       "    .dataframe tbody tr th:only-of-type {\n",
       "        vertical-align: middle;\n",
       "    }\n",
       "\n",
       "    .dataframe tbody tr th {\n",
       "        vertical-align: top;\n",
       "    }\n",
       "\n",
       "    .dataframe thead th {\n",
       "        text-align: right;\n",
       "    }\n",
       "</style>\n",
       "<table border=\"1\" class=\"dataframe\">\n",
       "  <thead>\n",
       "    <tr style=\"text-align: right;\">\n",
       "      <th></th>\n",
       "      <th>Description</th>\n",
       "      <th>Patient</th>\n",
       "      <th>Doctor</th>\n",
       "    </tr>\n",
       "  </thead>\n",
       "  <tbody>\n",
       "    <tr>\n",
       "      <th>0</th>\n",
       "      <td>Q. What does abutment of the nerve root mean?</td>\n",
       "      <td>Hi doctor,I am just wondering what is abutting...</td>\n",
       "      <td>Hi. I have gone through your query with dilige...</td>\n",
       "    </tr>\n",
       "    <tr>\n",
       "      <th>1</th>\n",
       "      <td>Q. What should I do to reduce my weight gained...</td>\n",
       "      <td>Hi doctor, I am a 22-year-old female who was d...</td>\n",
       "      <td>Hi. You have really done well with the hypothy...</td>\n",
       "    </tr>\n",
       "    <tr>\n",
       "      <th>2</th>\n",
       "      <td>Q. I have started to get lots of acne on my fa...</td>\n",
       "      <td>Hi doctor! I used to have clear skin but since...</td>\n",
       "      <td>Hi there Acne has multifactorial etiology. Onl...</td>\n",
       "    </tr>\n",
       "    <tr>\n",
       "      <th>3</th>\n",
       "      <td>Q. Why do I have uncomfortable feeling between...</td>\n",
       "      <td>Hello doctor,I am having an uncomfortable feel...</td>\n",
       "      <td>Hello. The popping and discomfort what you fel...</td>\n",
       "    </tr>\n",
       "    <tr>\n",
       "      <th>4</th>\n",
       "      <td>Q. My symptoms after intercourse threatns me e...</td>\n",
       "      <td>Hello doctor,Before two years had sex with a c...</td>\n",
       "      <td>Hello. The HIV test uses a finger prick blood ...</td>\n",
       "    </tr>\n",
       "  </tbody>\n",
       "</table>\n",
       "</div>"
      ],
      "text/plain": [
       "                                         Description  \\\n",
       "0      Q. What does abutment of the nerve root mean?   \n",
       "1  Q. What should I do to reduce my weight gained...   \n",
       "2  Q. I have started to get lots of acne on my fa...   \n",
       "3  Q. Why do I have uncomfortable feeling between...   \n",
       "4  Q. My symptoms after intercourse threatns me e...   \n",
       "\n",
       "                                             Patient  \\\n",
       "0  Hi doctor,I am just wondering what is abutting...   \n",
       "1  Hi doctor, I am a 22-year-old female who was d...   \n",
       "2  Hi doctor! I used to have clear skin but since...   \n",
       "3  Hello doctor,I am having an uncomfortable feel...   \n",
       "4  Hello doctor,Before two years had sex with a c...   \n",
       "\n",
       "                                              Doctor  \n",
       "0  Hi. I have gone through your query with dilige...  \n",
       "1  Hi. You have really done well with the hypothy...  \n",
       "2  Hi there Acne has multifactorial etiology. Onl...  \n",
       "3  Hello. The popping and discomfort what you fel...  \n",
       "4  Hello. The HIV test uses a finger prick blood ...  "
      ]
     },
     "execution_count": 9,
     "metadata": {},
     "output_type": "execute_result"
    }
   ],
   "source": [
    "df.head()"
   ]
  },
  {
   "cell_type": "code",
   "execution_count": 15,
   "id": "86f5e57c-026c-451c-ae35-4b2676f57870",
   "metadata": {
    "scrolled": true
   },
   "outputs": [
    {
     "data": {
      "text/html": [
       "<div>\n",
       "<style scoped>\n",
       "    .dataframe tbody tr th:only-of-type {\n",
       "        vertical-align: middle;\n",
       "    }\n",
       "\n",
       "    .dataframe tbody tr th {\n",
       "        vertical-align: top;\n",
       "    }\n",
       "\n",
       "    .dataframe thead th {\n",
       "        text-align: right;\n",
       "    }\n",
       "</style>\n",
       "<table border=\"1\" class=\"dataframe\">\n",
       "  <thead>\n",
       "    <tr style=\"text-align: right;\">\n",
       "      <th></th>\n",
       "      <th>Description</th>\n",
       "      <th>Patient</th>\n",
       "      <th>Doctor</th>\n",
       "    </tr>\n",
       "  </thead>\n",
       "  <tbody>\n",
       "    <tr>\n",
       "      <th>16542</th>\n",
       "      <td>Q. Why have I not got my periods yet?</td>\n",
       "      <td>Hello doctor, My fiancee got her periods one a...</td>\n",
       "      <td>Hi. Mostly pill is effective if taken within 7...</td>\n",
       "    </tr>\n",
       "    <tr>\n",
       "      <th>26693</th>\n",
       "      <td>Q. Is it possible to get pregnant without pene...</td>\n",
       "      <td>Hello doctor, I and my fiancee messed up. Beca...</td>\n",
       "      <td>Hello. Well, in this case I see that her guilt...</td>\n",
       "    </tr>\n",
       "    <tr>\n",
       "      <th>26940</th>\n",
       "      <td>Q. How can I gain weight?</td>\n",
       "      <td>Hello doctor, I want to gain weight. Please help.</td>\n",
       "      <td>Hello. I just read your query. You did not men...</td>\n",
       "    </tr>\n",
       "    <tr>\n",
       "      <th>27505</th>\n",
       "      <td>Q. What is the treatment for chalazion?</td>\n",
       "      <td>Hello doctor,I have a red bump under my low ey...</td>\n",
       "      <td>Hello. You are right it is a chalazion (attach...</td>\n",
       "    </tr>\n",
       "    <tr>\n",
       "      <th>27772</th>\n",
       "      <td>Q. What is the cause for increased bilirubin l...</td>\n",
       "      <td>Hello doctor,I am a 50-year-old male, slim, an...</td>\n",
       "      <td>Hello. You do not have any complaints. 1. Tota...</td>\n",
       "    </tr>\n",
       "    <tr>\n",
       "      <th>...</th>\n",
       "      <td>...</td>\n",
       "      <td>...</td>\n",
       "      <td>...</td>\n",
       "    </tr>\n",
       "    <tr>\n",
       "      <th>256882</th>\n",
       "      <td>Suggest better treatment for hair fall</td>\n",
       "      <td>I am a girl......23 years old......My height i...</td>\n",
       "      <td>Hello, I have gone through your query and woul...</td>\n",
       "    </tr>\n",
       "    <tr>\n",
       "      <th>256884</th>\n",
       "      <td>Suggest treatment for alopecia areata</td>\n",
       "      <td>hello sir,i am suffering from alopacia areata,...</td>\n",
       "      <td>Hello, I have gone through your query and intr...</td>\n",
       "    </tr>\n",
       "    <tr>\n",
       "      <th>256885</th>\n",
       "      <td>Suggest treatment for hair fall</td>\n",
       "      <td>doctor please i need ur help.im 26 years old f...</td>\n",
       "      <td>Hello, I have gone through your query and woul...</td>\n",
       "    </tr>\n",
       "    <tr>\n",
       "      <th>256892</th>\n",
       "      <td>What causes hair fall and thinning?</td>\n",
       "      <td>My Endo prescribed Armour in December. It s be...</td>\n",
       "      <td>Hello, I have gone through your query and woul...</td>\n",
       "    </tr>\n",
       "    <tr>\n",
       "      <th>256906</th>\n",
       "      <td>Suggest treatment for hair loss</td>\n",
       "      <td>I began taking Cerazette contraceptive pill in...</td>\n",
       "      <td>Hi, Female pattern hair loss can't be reversed...</td>\n",
       "    </tr>\n",
       "  </tbody>\n",
       "</table>\n",
       "<p>17788 rows × 3 columns</p>\n",
       "</div>"
      ],
      "text/plain": [
       "                                              Description  \\\n",
       "16542               Q. Why have I not got my periods yet?   \n",
       "26693   Q. Is it possible to get pregnant without pene...   \n",
       "26940                           Q. How can I gain weight?   \n",
       "27505             Q. What is the treatment for chalazion?   \n",
       "27772   Q. What is the cause for increased bilirubin l...   \n",
       "...                                                   ...   \n",
       "256882             Suggest better treatment for hair fall   \n",
       "256884              Suggest treatment for alopecia areata   \n",
       "256885                    Suggest treatment for hair fall   \n",
       "256892                What causes hair fall and thinning?   \n",
       "256906                    Suggest treatment for hair loss   \n",
       "\n",
       "                                                  Patient  \\\n",
       "16542   Hello doctor, My fiancee got her periods one a...   \n",
       "26693   Hello doctor, I and my fiancee messed up. Beca...   \n",
       "26940   Hello doctor, I want to gain weight. Please help.   \n",
       "27505   Hello doctor,I have a red bump under my low ey...   \n",
       "27772   Hello doctor,I am a 50-year-old male, slim, an...   \n",
       "...                                                   ...   \n",
       "256882  I am a girl......23 years old......My height i...   \n",
       "256884  hello sir,i am suffering from alopacia areata,...   \n",
       "256885  doctor please i need ur help.im 26 years old f...   \n",
       "256892  My Endo prescribed Armour in December. It s be...   \n",
       "256906  I began taking Cerazette contraceptive pill in...   \n",
       "\n",
       "                                                   Doctor  \n",
       "16542   Hi. Mostly pill is effective if taken within 7...  \n",
       "26693   Hello. Well, in this case I see that her guilt...  \n",
       "26940   Hello. I just read your query. You did not men...  \n",
       "27505   Hello. You are right it is a chalazion (attach...  \n",
       "27772   Hello. You do not have any complaints. 1. Tota...  \n",
       "...                                                   ...  \n",
       "256882  Hello, I have gone through your query and woul...  \n",
       "256884  Hello, I have gone through your query and intr...  \n",
       "256885  Hello, I have gone through your query and woul...  \n",
       "256892  Hello, I have gone through your query and woul...  \n",
       "256906  Hi, Female pattern hair loss can't be reversed...  \n",
       "\n",
       "[17788 rows x 3 columns]"
      ]
     },
     "execution_count": 15,
     "metadata": {},
     "output_type": "execute_result"
    }
   ],
   "source": [
    "df[df.duplicated(subset='Description')]"
   ]
  },
  {
   "cell_type": "code",
   "execution_count": 4,
   "id": "f7a2365b-f77e-428c-a797-1db8f3d5601f",
   "metadata": {},
   "outputs": [],
   "source": [
    "df = df.drop_duplicates(subset=['Description', 'Patient'], )"
   ]
  },
  {
   "cell_type": "code",
   "execution_count": 14,
   "id": "2c658bc3-a266-4204-b03f-308a0c5508a3",
   "metadata": {},
   "outputs": [
    {
     "name": "stdout",
     "output_type": "stream",
     "text": [
      "<class 'pandas.core.frame.DataFrame'>\n",
      "Index: 246510 entries, 0 to 256915\n",
      "Data columns (total 3 columns):\n",
      " #   Column       Non-Null Count   Dtype \n",
      "---  ------       --------------   ----- \n",
      " 0   Description  246510 non-null  object\n",
      " 1   Patient      246510 non-null  object\n",
      " 2   Doctor       246510 non-null  object\n",
      "dtypes: object(3)\n",
      "memory usage: 7.5+ MB\n"
     ]
    }
   ],
   "source": [
    "df.info()"
   ]
  },
  {
   "cell_type": "code",
   "execution_count": 23,
   "id": "fed44e4a-edd9-46fd-926a-7607aeefffa1",
   "metadata": {},
   "outputs": [
    {
     "name": "stdout",
     "output_type": "stream",
     "text": [
      "--2024-09-12 09:43:46--  https://raw.githubusercontent.com/alexeygrigorev/minsearch/main/minsearch.py\n",
      "Resolving raw.githubusercontent.com (raw.githubusercontent.com)... 185.199.110.133, 185.199.109.133, 185.199.108.133, ...\n",
      "Connecting to raw.githubusercontent.com (raw.githubusercontent.com)|185.199.110.133|:443... connected.\n",
      "HTTP request sent, awaiting response... 200 OK\n",
      "Length: 3832 (3.7K) [text/plain]\n",
      "Saving to: ‘minsearch.py’\n",
      "\n",
      "minsearch.py        100%[===================>]   3.74K  --.-KB/s    in 0s      \n",
      "\n",
      "2024-09-12 09:43:46 (46.0 MB/s) - ‘minsearch.py’ saved [3832/3832]\n",
      "\n"
     ]
    }
   ],
   "source": [
    "#!wget https://raw.githubusercontent.com/alexeygrigorev/minsearch/main/minsearch.py"
   ]
  },
  {
   "cell_type": "code",
   "execution_count": 19,
   "id": "6795ace9-b850-43e6-9e13-624a6706ed63",
   "metadata": {},
   "outputs": [],
   "source": [
    "import minsearch"
   ]
  },
  {
   "cell_type": "code",
   "execution_count": 20,
   "id": "bb9643a9-32f6-4c5b-a6c7-329031efdeb6",
   "metadata": {},
   "outputs": [],
   "source": [
    "index = minsearch.Index(\n",
    "    text_fields=['Description','Patient', 'Doctor'],\n",
    "    keyword_fields=[\"\"]\n",
    ")"
   ]
  },
  {
   "cell_type": "code",
   "execution_count": 11,
   "id": "314415a3-0cd9-48be-b9dd-0dbe4cef7f45",
   "metadata": {},
   "outputs": [],
   "source": [
    "documents = df.to_dict(orient='records')"
   ]
  },
  {
   "cell_type": "code",
   "execution_count": 22,
   "id": "b7ddf939-1a4a-4b5a-b252-27c3195c7750",
   "metadata": {},
   "outputs": [
    {
     "data": {
      "text/plain": [
       "<minsearch.Index at 0x7402fb1729c0>"
      ]
     },
     "execution_count": 22,
     "metadata": {},
     "output_type": "execute_result"
    }
   ],
   "source": [
    "index.fit(documents)"
   ]
  },
  {
   "cell_type": "code",
   "execution_count": 23,
   "id": "56d2c57b-7020-4f52-b31f-bd0f792ed651",
   "metadata": {},
   "outputs": [],
   "source": [
    "def search(query):\n",
    "    boost = {'Description': 2}\n",
    "\n",
    "    results = index.search(\n",
    "        query=query,\n",
    "        boost_dict=boost,\n",
    "        num_results=10\n",
    "    )\n",
    "\n",
    "    return results"
   ]
  },
  {
   "cell_type": "code",
   "execution_count": 24,
   "id": "efc3e7c0-0cbd-44ce-b619-d5a9cb0920b5",
   "metadata": {
    "scrolled": true
   },
   "outputs": [
    {
     "data": {
      "text/plain": [
       "[{'Description': 'What could cause low grade fever and headache?',\n",
       "  'Patient': 'My niece is 4 yrs old and has a low grade fever and a headache. She has been to the doctor and is on amoxicillin. She started out with a headache, then a low grade fever that escalated to 105 and vomiting. My concern is she has been on antibiotics for 2 days, she was tested for strep throat and that was negative. What could be causing the headache?',\n",
       "  'Doctor': 'Hi, Does she have abdominal pain or loose stools? Fever, headache and vomiting is most likely from a viral fever. Let her take some rest, take paracetamol 3 times daily even if afebrile(for headache) and drink plenty of fluids in small frequent sips. This will subside in 3-4 days. Nothing to worry if she is otherwise playful and taking feeds. Get back to doctor if fever does not subside by then, headache is sever or vomiting persists. Hope I have answered your query. Let me know if I can assist you further. Take care Regards, Dr. Muhammed Aslam TK'},\n",
       " {'Description': 'What causes headache with fever?',\n",
       "  'Patient': 'Hi my 4 year old son has had a high fever 104 and complains of an intense headache, took him to the doctor assuming its a virus, fever seemed to be gone for a day now back. Should I take him back to the doctor or does the virus just need to run its course',\n",
       "  'Doctor': 'Hi, This headache looks primarily due to viral fever only. Since, the fever has gone, the headache will also subside in next 24 hrs. You need to give child adequate rest and more fluids. I hope this has helped you. Regards Dr Deepak Patel'},\n",
       " {'Description': 'Q. I am having fever, body pain and headache. What to do?',\n",
       "  'Patient': 'Hi doctor, For the past four days, I have\\xa0body ache, headache and 102 degrees Fahrenheit fever. I am taking Augmentin 375 thrice a day and Paracetamol every three to four hours. Fever comes down to 100, but again increases to 102 once the effect of Paracetamol gets over. I feel so weak. Please suggest whether I should continue with the medicine or change the course. My weight is 90 kg. I do not have nasal block or sore throat. I only have headache and body ache.',\n",
       "  'Doctor': 'Hello. If you are having fever for three to four days and not having any improvement, then do one blood test CBC with MP (complete blood count with metabolic panel) and one urine routine test. From history it looks like you have viral fever. If the platelet count is low in the report, then you have to do a test for dengue. Also, look at white blood cell count (WBC). If it is increased, then you have to take a higher dose of antibiotic along with some other antibiotic. If it is low, then it is some other viral fever. In that case continue your medication, take Paracetamol for fever and do sponging if the fever did not subside. If you are more uncomfortable, then get admitted and take proper nursing care. In viral fever, we can give only supportive therapy as there is no definite treatment for it. Antibiotics in viral fever will just help to avoid another infection as your immunity will be low due to fever. Also, Augmentin 325 is pediatric dose (combination of Amoxicillin and Clavulanic acid). You should increase the dose of Augmentin 625. Consult your doctor, discuss with him or her and take the treatment with consent. For further information consult a general practitioner online -->'},\n",
       " {'Description': 'Suggest treatment for fever and headache',\n",
       "  'Patient': 'Dear DoctorI am 25 years old living in Bangladesh. From the past three days I have been suffering from fever between 100 and 102 and painful headaches. The headache comes first and then the fever subsequently. Once during the afternoon and once at night.',\n",
       "  'Doctor': 'Welcome to Health Care Magic. Thank you for posting your query.I can understand your concern.Fever with headache can be due to many reasons like viral fever , malaria to name a few.I would suggest you take Tab Paracetamol 650 mg - twice daily X 5 days.This will relieve you of fever and headache.I would also suggest you to go for blood tests for dengue , malaria and a total blood count including total platelet count.Do not worry much.Post any other query. We will be happy to help.Have a nice day. Regards.'},\n",
       " {'Description': 'What causes fever and headache?',\n",
       "  'Patient': 'Hello. I have a low grade fever, 100.07 last time I checked, and a headache. No other symptoms. During the summer of last year a similar occurrence happened. They though perhaps lyme but were not ever able to prove it.When I wake I typically covered in so much sweet I need to change the bed sheets and shower.',\n",
       "  'Doctor': 'thank you for your query....first answer me a few questions-how old are you?do you have cough with fever?do you have chills and rigor with fever?does the fever remain throughout the day or for some time only?where do you live?kindly provide these informations so that i can move further towards the diagnosis...anyways as of now this can be because of simple viral fever which is most common....however diseases like tuberculosis, malaria, dengue etc can be the cause...lymes can be another one of the causes....however for that, you need to undergo specific tests...as of now, take tab paracetamol 500 twice daily for 5 daysget a complete haemogram of blood doneconsult a general physician contact me with the reports....hope this was helpful...regards'},\n",
       " {'Description': 'Suggest treatment for headache and low grade fever',\n",
       "  'Patient': 'We have a 5 year old boy who is perfectly healthy; however, last night he complained of a headache which he has never had. The headache was still bothering him this morning. He has a sniffle, occasional cough and a low grade fever. His fever has increased from 99 to 101 in the last few hours. He is just laying around kind of listless. Should we have him checked by a doctor or should we give him something at home and just watch him closely.',\n",
       "  'Doctor': 'Hi,It seems that he might be having viral infection giving rise to fever and headache as well.Give him paracetamol or ibuprofen as and when required.Within 2-3 days infection will subside giving him full recovery.Give enough water and liquids.Give him light diet.Ok and take care.'},\n",
       " {'Description': 'What causes fever and headache?',\n",
       "  'Patient': 'I have a 6 year old female that has fever and headache for just over a week now. Headache that makes her cry and wakes her up from sleep. He fever is off and on and usually around 101. Her doctor found nothing wrong but did blood work that came back fine. Strep test came back negative. She is getting a molar. Her dad thinks she has allergies and gives her claritin while at his house, but she doesn t show what I think are normal allergy sings ie: watery eyes, runny nose, congestion',\n",
       "  'Doctor': 'Hello.Thank you for asking at HCM.I would suspect some infection if your daughter has fever and headache for a week, rather than allergy.Most of the infections are viral, they need rest, plenty of fluids & treatment for symptoms. They recover by themselves.So if your daughter does not improve with suggested treatment by your doctor, I would suggest you to consult your doctor again, who may suggest further investigations to rule out other infections.Hope this was helpful to you.Wish your daughter best recovery.Regards.'},\n",
       " {'Description': 'What causes intermittent low grade fever, cough and headache?',\n",
       "  'Patient': 'My son is 8.This is the fourth day that he has had intermittant low grade fever, cough, and headache... His fever runs from normal up to 100.8, The last two days his fever barely gets to 100He is also congested, and had a productive cough.. I have been treating this like a cold, but the fever is concerning me.',\n",
       "  'Doctor': \"Hi...Thank you for consulting in Health Care magic.Fever of few days without any localizing signs could as well a viral illness. Usually rather than fever, what is more important is the activity of the child, in between 2 fever episodes on the same day. If the kid is active and playing around when there is no fever, it is probably viral illness and it doesn't require antibiotics at all. Once viral fever comes it will there for 4-7 days. So do not worry about duration if the kid is active.Paracetamol can be given in the dose of 15mg/kg/dose (Maximum ceiling dose 500mg per dose) every 4-6th hourly that too only if fever is more than 100F. I suggest not using combination medicines for fever, especially with Paracetamol. Hope my answer was helpful for you.  I am happy to help any time. Further clarifications and consultations on Health care magic are welcome. If you do not have any clarifications, you can close the discussion and rate the answer. Wish your kid good health.Dr. Sumanth MBBS., DCH., DNB (Paed).,\"},\n",
       " {'Description': 'What is the treatment for headache and fever?',\n",
       "  'Patient': 'My 4yr old is complaining of a headache, stomachache, and knee pains and has a fever of 101.4. She was fine all day then all of the sudden she asked to take a nap, which she never does, and when I felt her head she was kind of warm so I took her temperature and she had a fever.',\n",
       "  'Doctor': \"Hi...Thank you for consulting in Health Care magic.Fever of few days without any localizing signs could as well a viral illness. Usually rather than fever, what is more important is the activity of the child, in between 2 fever episodes on the same day. If the kid is active and playing around when there is no fever, it is probably viral illness and it doesn't require antibiotics at all. Once viral fever comes it will there for 4-7 days. So do not worry about duration if the kid is active.Paracetamol can be given in the dose of 15mg/kg/dose (Maximum ceiling dose 500mg per dose) every 4-6th hourly that too only if fever is more than 100F. I suggest not using combination medicines for fever, especially with Paracetamol.Regards - Dr. Sumanth\"},\n",
       " {'Description': 'Q. I have chest and arm pain with fever and vomiting. What should I do?',\n",
       "  'Patient': 'Hello doctor, I am suffering from right side chest pain and right arm and also have fever and vomiting. What should I do? Is it symptoms of something big?',\n",
       "  'Doctor': 'Hello. You have mentioned that you have diabetes. Patients with diabetes need not always be present with typical chest pain in case of any sudden cardiac event; symptoms like right sided pain, and persistent vomiting should not be taken lightly. And also you did not mention about history of any 1) cough, 2) abdominal pain, and 3) burning urination In addition to a coronary cardiac event, your symptoms also suggest the possibility of any lung infection as it can lead to fever chest pain and even vomitings sometimes.And as people with diabetes have a predisposition to infections, patients with fever and vomitings should be evaluated for urinary infection also if other symptoms are present. You need to get 1) ECG. 2) Chest X-ray. 3) Complete blood picture. 4) Complete urine examination is done. Without any delay and also chest and abdomen needs to be examined for any infection. You can contact me any further queries.'}]"
      ]
     },
     "execution_count": 24,
     "metadata": {},
     "output_type": "execute_result"
    }
   ],
   "source": [
    "search('I have a headache and low fever. What should I do?')"
   ]
  },
  {
   "cell_type": "code",
   "execution_count": 5,
   "id": "adafa719-f0b8-40a2-9781-db78c9ee2eef",
   "metadata": {},
   "outputs": [],
   "source": [
    "from openai import OpenAI\n",
    "\n",
    "client = OpenAI()"
   ]
  },
  {
   "cell_type": "code",
   "execution_count": 6,
   "id": "989d9b40-ce77-4dae-ad7f-24820abc8ea7",
   "metadata": {},
   "outputs": [],
   "source": [
    "def build_prompt(query, search_results):\n",
    "    prompt_template = \"\"\"\n",
    "You are a knowledgeable and empathetic medical assistant specializing in providing detailed and accurate information based on real patient-doctor conversations. \n",
    "You must interpret the given context to address the user's question effectively.\n",
    "Your responses should be clear, concise, and consider the medical and emotional aspects of the situation. \n",
    "Use the context provided to ensure that your answer is grounded in the information retrieved, avoiding speculation or providing advice outside of the context.\n",
    "\n",
    "Question: {question}\n",
    "\n",
    "Context:\n",
    "{context}\n",
    "\n",
    "Instructions:\n",
    "1. Analyze the context carefully to identify relevant information related to the user's question.\n",
    "2. Provide an informative and empathetic response, ensuring it aligns with the retrieved context.\n",
    "3. If the context does not directly answer the question, use general medical knowledge cautiously to give a helpful but non-definitive response.\n",
    "4. Prioritize the clarity and accuracy of information, using language accessible to a general audience.\n",
    "5. If necessary, indicate when it would be appropriate for the user to seek further medical consultation.\n",
    "\"\"\".strip()\n",
    "\n",
    "    context = \"\"\n",
    "    \n",
    "    for doc in search_results:\n",
    "        context = context + f\"Description: {doc['Description']}\\nPatient: {doc['Patient']}\\nDoctor: {doc['Doctor']}\\n\\n\"\n",
    "    \n",
    "    prompt = prompt_template.format(question=query, context=context).strip()\n",
    "    return prompt"
   ]
  },
  {
   "cell_type": "code",
   "execution_count": 7,
   "id": "301d714c-dfda-4be7-a94f-4fa108f1b6be",
   "metadata": {},
   "outputs": [],
   "source": [
    "def llm(prompt):\n",
    "    response = client.chat.completions.create(\n",
    "        model='gpt-4o',\n",
    "        messages=[{\"role\": \"user\", \"content\": prompt}]\n",
    "    )\n",
    "    \n",
    "    return response.choices[0].message.content"
   ]
  },
  {
   "cell_type": "code",
   "execution_count": 28,
   "id": "6c49c7d2-cbca-42ab-9a16-c3b8ae865d91",
   "metadata": {},
   "outputs": [],
   "source": [
    "def rag(query):\n",
    "    search_results = search(query)\n",
    "    prompt = build_prompt(query, search_results)\n",
    "    answer = llm(prompt)\n",
    "    return answer"
   ]
  },
  {
   "cell_type": "code",
   "execution_count": 29,
   "id": "2ccd3258-401c-49c7-8599-8302d35708e7",
   "metadata": {},
   "outputs": [
    {
     "data": {
      "text/plain": [
       "'Hi there,\\n\\nThe symptoms of sinusitis typically include:\\n\\n1. **Facial Pain and Pressure**: You might feel pain and pressure around your forehead, eyes, nose, and cheeks.\\n2. **Nasal Congestion**: This can lead to difficulty breathing through your nose.\\n3. **Thick Nasal Discharge**: The mucus may be yellow or green.\\n4. **Loss of Smell**: Your sense of smell might be reduced or lost.\\n5. **Cough**: This can be worse at night.\\n6. **Sore Throat**: Post-nasal drip can cause throat irritation.\\n7. **Headache**: Pain associated with sinusitis can radiate to the head, leading to headaches.\\n8. **Ear Pain or Fullness**: Sensation of fullness or pain in the ear.\\n9. **Fatigue**: Feeling unusually tired or exhausted.\\n10. **Bad Breath**: Often due to the accumulation of bacteria in the sinuses.\\n\\nIn some conversations, patients reported symptoms like pain in the head, yellow mucus, and stuffiness which align with sinusitis. If you are experiencing any of these symptoms, it might be helpful to consult with an ENT specialist for a precise diagnosis and treatment plan.\\n\\nGiven your concern, if the symptoms persist or worsen, I recommend seeing a healthcare provider for an evaluation to ensure appropriate treatment.\\n\\nTake care!'"
      ]
     },
     "execution_count": 29,
     "metadata": {},
     "output_type": "execute_result"
    }
   ],
   "source": [
    "rag('Hi Doctor, I want to know the symptoms of sinusitis. I think I have it.')"
   ]
  },
  {
   "cell_type": "code",
   "execution_count": 31,
   "id": "4bbd983f-8ac0-4dee-8532-62b96b913444",
   "metadata": {},
   "outputs": [],
   "source": [
    "results = search('Hi Doctor, I want to know the symptoms of sinusitis. I think I have it.')"
   ]
  },
  {
   "cell_type": "code",
   "execution_count": 1,
   "id": "7f54fd8c-9c08-466f-82da-f07667d988dc",
   "metadata": {},
   "outputs": [],
   "source": [
    "from elasticsearch import Elasticsearch"
   ]
  },
  {
   "cell_type": "code",
   "execution_count": 8,
   "id": "28681e78-96ef-4ead-b380-75d8fd40cbb3",
   "metadata": {},
   "outputs": [],
   "source": [
    "es_client = Elasticsearch('http://localhost:9200')"
   ]
  },
  {
   "cell_type": "code",
   "execution_count": 9,
   "id": "497af5cd-9441-49a4-98aa-6e8901590d8a",
   "metadata": {},
   "outputs": [
    {
     "data": {
      "text/plain": [
       "ObjectApiResponse({'acknowledged': True, 'shards_acknowledged': True, 'index': 'health_questions'})"
      ]
     },
     "execution_count": 9,
     "metadata": {},
     "output_type": "execute_result"
    }
   ],
   "source": [
    "index_settings = {\n",
    "    \"settings\": {\n",
    "        \"number_of_shards\": 1,\n",
    "        \"number_of_replicas\": 0\n",
    "    },\n",
    "    \"mappings\": {\n",
    "        \"properties\": {\n",
    "            \"Description\": {\"type\": \"text\"},\n",
    "            \"Patient\": {\"type\": \"text\"},\n",
    "            \"Doctor\": {\"type\": \"text\"}\n",
    "        }\n",
    "    }\n",
    "}\n",
    "\n",
    "index_name = \"health_questions\"\n",
    "\n",
    "es_client.indices.create(index=index_name, body=index_settings)"
   ]
  },
  {
   "cell_type": "code",
   "execution_count": 10,
   "id": "33af4d52-76b6-4207-9c18-c4a7bc45e553",
   "metadata": {},
   "outputs": [],
   "source": [
    "from tqdm.auto import tqdm"
   ]
  },
  {
   "cell_type": "code",
   "execution_count": null,
   "id": "be083d0e-c749-4e6f-a474-522fa44b2bb3",
   "metadata": {},
   "outputs": [
    {
     "data": {
      "application/vnd.jupyter.widget-view+json": {
       "model_id": "f1599997b11545f198b53620e68d3336",
       "version_major": 2,
       "version_minor": 0
      },
      "text/plain": [
       "  0%|          | 0/246510 [00:00<?, ?it/s]"
      ]
     },
     "metadata": {},
     "output_type": "display_data"
    }
   ],
   "source": [
    "for doc in tqdm(documents):\n",
    "    es_client.index(index=index_name, document=doc)"
   ]
  },
  {
   "cell_type": "code",
   "execution_count": null,
   "id": "4de9592b-288b-4b98-af95-4755cb757027",
   "metadata": {},
   "outputs": [],
   "source": [
    "def elastic_search(query):\n",
    "    search_query = {\n",
    "        \"size\": 5,\n",
    "        \"query\": {\n",
    "            \"bool\": {\n",
    "                \"must\": {\n",
    "                    \"multi_match\": {\n",
    "                        \"query\": query,\n",
    "                        \"fields\": [\"question^3\", \"text\", \"section\"],\n",
    "                        \"type\": \"best_fields\"\n",
    "                    }\n",
    "                },\n",
    "                \"filter\": {\n",
    "                    \"term\": {\n",
    "                        \"course\": \"data-engineering-zoomcamp\"\n",
    "                    }\n",
    "                }\n",
    "            }\n",
    "        }\n",
    "    }\n",
    "\n",
    "    response = es_client.search(index=index_name, body=search_query)\n",
    "\n",
    "    result_docs = []\n",
    "\n",
    "    for hit in response['hits']['hits']:\n",
    "        result_docs.append(hit['_source'])\n",
    "\n",
    "    return result_docs"
   ]
  },
  {
   "cell_type": "markdown",
   "id": "5d1dad96-c9cd-4d39-a74a-e3e006c901d7",
   "metadata": {},
   "source": [
    "## Retrieval evaluation"
   ]
  },
  {
   "cell_type": "code",
   "execution_count": null,
   "id": "d0a645f7-42b6-4af6-b586-7fbc6edbee6b",
   "metadata": {},
   "outputs": [],
   "source": [
    "import pandas as pd"
   ]
  },
  {
   "cell_type": "code",
   "execution_count": null,
   "id": "7afa6aad-3836-4600-a536-1d5ca7a08664",
   "metadata": {},
   "outputs": [],
   "source": [
    "from openai import OpenAI\n",
    "\n",
    "client = OpenAI()"
   ]
  },
  {
   "cell_type": "code",
   "execution_count": null,
   "id": "b3e2d285-d484-48f6-aa97-b6d1b14bfee3",
   "metadata": {},
   "outputs": [],
   "source": [
    "df = "
   ]
  }
 ],
 "metadata": {
  "kernelspec": {
   "display_name": "Python 3 (ipykernel)",
   "language": "python",
   "name": "python3"
  },
  "language_info": {
   "codemirror_mode": {
    "name": "ipython",
    "version": 3
   },
   "file_extension": ".py",
   "mimetype": "text/x-python",
   "name": "python",
   "nbconvert_exporter": "python",
   "pygments_lexer": "ipython3",
   "version": "3.12.1"
  }
 },
 "nbformat": 4,
 "nbformat_minor": 5
}
