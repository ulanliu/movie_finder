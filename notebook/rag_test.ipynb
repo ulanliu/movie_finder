{
 "cells": [
  {
   "cell_type": "code",
   "execution_count": 2,
   "id": "a33277df-1cce-4df6-b89c-d6fa508d2f15",
   "metadata": {},
   "outputs": [
    {
     "data": {
      "application/vnd.jupyter.widget-view+json": {
       "model_id": "af3d45b8b7504087abdbf252d340ac20",
       "version_major": 2,
       "version_minor": 0
      },
      "text/plain": [
       "VBox(children=(HTML(value='<center> <img\\nsrc=https://huggingface.co/front/assets/huggingface_logo-noborder.sv…"
      ]
     },
     "metadata": {},
     "output_type": "display_data"
    }
   ],
   "source": [
    "from huggingface_hub import login\n",
    "login()"
   ]
  },
  {
   "cell_type": "code",
   "execution_count": 2,
   "id": "b636a696-c931-40bc-bebd-7c28751bc977",
   "metadata": {},
   "outputs": [],
   "source": [
    "from datasets import load_dataset\n",
    "\n",
    "ds = load_dataset(\"ruslanmv/ai-medical-chatbot\", split=\"train\")"
   ]
  },
  {
   "cell_type": "code",
   "execution_count": 4,
   "id": "c148283d-3140-4dce-8bf8-9839254dd76b",
   "metadata": {},
   "outputs": [
    {
     "data": {
      "text/plain": [
       "Dataset({\n",
       "    features: ['Description', 'Patient', 'Doctor'],\n",
       "    num_rows: 256916\n",
       "})"
      ]
     },
     "execution_count": 4,
     "metadata": {},
     "output_type": "execute_result"
    }
   ],
   "source": [
    "ds"
   ]
  },
  {
   "cell_type": "code",
   "execution_count": 5,
   "id": "cd2f685a-9ac8-4b6f-b601-503c7459d1cd",
   "metadata": {},
   "outputs": [
    {
     "data": {
      "text/plain": [
       "{'Description': 'Q. What does abutment of the nerve root mean?',\n",
       " 'Patient': 'Hi doctor,I am just wondering what is abutting and abutment of the nerve root means in a back issue. Please explain. What treatment is required for\\xa0annular bulging and tear?',\n",
       " 'Doctor': 'Hi. I have gone through your query with diligence and would like you to know that I am here to help you. For further information consult a neurologist online -->'}"
      ]
     },
     "execution_count": 5,
     "metadata": {},
     "output_type": "execute_result"
    }
   ],
   "source": [
    "ds[0]"
   ]
  },
  {
   "cell_type": "code",
   "execution_count": 3,
   "id": "e1f37a59-c504-436c-9a7f-85c67b673ddd",
   "metadata": {},
   "outputs": [],
   "source": [
    "import pandas as pd\n",
    "\n",
    "df = ds.to_pandas()"
   ]
  },
  {
   "cell_type": "code",
   "execution_count": 7,
   "id": "092b098e-f3cc-4b4b-84f0-c00d4ee1d942",
   "metadata": {},
   "outputs": [
    {
     "name": "stdout",
     "output_type": "stream",
     "text": [
      "<class 'pandas.core.frame.DataFrame'>\n",
      "RangeIndex: 256916 entries, 0 to 256915\n",
      "Data columns (total 3 columns):\n",
      " #   Column       Non-Null Count   Dtype \n",
      "---  ------       --------------   ----- \n",
      " 0   Description  256916 non-null  object\n",
      " 1   Patient      256916 non-null  object\n",
      " 2   Doctor       256916 non-null  object\n",
      "dtypes: object(3)\n",
      "memory usage: 5.9+ MB\n"
     ]
    }
   ],
   "source": [
    "df.info()"
   ]
  },
  {
   "cell_type": "code",
   "execution_count": 9,
   "id": "0e01b2e6-b396-43f5-9ce2-d846ac5a28cc",
   "metadata": {},
   "outputs": [
    {
     "data": {
      "text/html": [
       "<div>\n",
       "<style scoped>\n",
       "    .dataframe tbody tr th:only-of-type {\n",
       "        vertical-align: middle;\n",
       "    }\n",
       "\n",
       "    .dataframe tbody tr th {\n",
       "        vertical-align: top;\n",
       "    }\n",
       "\n",
       "    .dataframe thead th {\n",
       "        text-align: right;\n",
       "    }\n",
       "</style>\n",
       "<table border=\"1\" class=\"dataframe\">\n",
       "  <thead>\n",
       "    <tr style=\"text-align: right;\">\n",
       "      <th></th>\n",
       "      <th>Description</th>\n",
       "      <th>Patient</th>\n",
       "      <th>Doctor</th>\n",
       "    </tr>\n",
       "  </thead>\n",
       "  <tbody>\n",
       "    <tr>\n",
       "      <th>0</th>\n",
       "      <td>Q. What does abutment of the nerve root mean?</td>\n",
       "      <td>Hi doctor,I am just wondering what is abutting...</td>\n",
       "      <td>Hi. I have gone through your query with dilige...</td>\n",
       "    </tr>\n",
       "    <tr>\n",
       "      <th>1</th>\n",
       "      <td>Q. What should I do to reduce my weight gained...</td>\n",
       "      <td>Hi doctor, I am a 22-year-old female who was d...</td>\n",
       "      <td>Hi. You have really done well with the hypothy...</td>\n",
       "    </tr>\n",
       "    <tr>\n",
       "      <th>2</th>\n",
       "      <td>Q. I have started to get lots of acne on my fa...</td>\n",
       "      <td>Hi doctor! I used to have clear skin but since...</td>\n",
       "      <td>Hi there Acne has multifactorial etiology. Onl...</td>\n",
       "    </tr>\n",
       "    <tr>\n",
       "      <th>3</th>\n",
       "      <td>Q. Why do I have uncomfortable feeling between...</td>\n",
       "      <td>Hello doctor,I am having an uncomfortable feel...</td>\n",
       "      <td>Hello. The popping and discomfort what you fel...</td>\n",
       "    </tr>\n",
       "    <tr>\n",
       "      <th>4</th>\n",
       "      <td>Q. My symptoms after intercourse threatns me e...</td>\n",
       "      <td>Hello doctor,Before two years had sex with a c...</td>\n",
       "      <td>Hello. The HIV test uses a finger prick blood ...</td>\n",
       "    </tr>\n",
       "  </tbody>\n",
       "</table>\n",
       "</div>"
      ],
      "text/plain": [
       "                                         Description  \\\n",
       "0      Q. What does abutment of the nerve root mean?   \n",
       "1  Q. What should I do to reduce my weight gained...   \n",
       "2  Q. I have started to get lots of acne on my fa...   \n",
       "3  Q. Why do I have uncomfortable feeling between...   \n",
       "4  Q. My symptoms after intercourse threatns me e...   \n",
       "\n",
       "                                             Patient  \\\n",
       "0  Hi doctor,I am just wondering what is abutting...   \n",
       "1  Hi doctor, I am a 22-year-old female who was d...   \n",
       "2  Hi doctor! I used to have clear skin but since...   \n",
       "3  Hello doctor,I am having an uncomfortable feel...   \n",
       "4  Hello doctor,Before two years had sex with a c...   \n",
       "\n",
       "                                              Doctor  \n",
       "0  Hi. I have gone through your query with dilige...  \n",
       "1  Hi. You have really done well with the hypothy...  \n",
       "2  Hi there Acne has multifactorial etiology. Onl...  \n",
       "3  Hello. The popping and discomfort what you fel...  \n",
       "4  Hello. The HIV test uses a finger prick blood ...  "
      ]
     },
     "execution_count": 9,
     "metadata": {},
     "output_type": "execute_result"
    }
   ],
   "source": [
    "df.head()"
   ]
  },
  {
   "cell_type": "code",
   "execution_count": 15,
   "id": "86f5e57c-026c-451c-ae35-4b2676f57870",
   "metadata": {
    "scrolled": true
   },
   "outputs": [
    {
     "data": {
      "text/html": [
       "<div>\n",
       "<style scoped>\n",
       "    .dataframe tbody tr th:only-of-type {\n",
       "        vertical-align: middle;\n",
       "    }\n",
       "\n",
       "    .dataframe tbody tr th {\n",
       "        vertical-align: top;\n",
       "    }\n",
       "\n",
       "    .dataframe thead th {\n",
       "        text-align: right;\n",
       "    }\n",
       "</style>\n",
       "<table border=\"1\" class=\"dataframe\">\n",
       "  <thead>\n",
       "    <tr style=\"text-align: right;\">\n",
       "      <th></th>\n",
       "      <th>Description</th>\n",
       "      <th>Patient</th>\n",
       "      <th>Doctor</th>\n",
       "    </tr>\n",
       "  </thead>\n",
       "  <tbody>\n",
       "    <tr>\n",
       "      <th>16542</th>\n",
       "      <td>Q. Why have I not got my periods yet?</td>\n",
       "      <td>Hello doctor, My fiancee got her periods one a...</td>\n",
       "      <td>Hi. Mostly pill is effective if taken within 7...</td>\n",
       "    </tr>\n",
       "    <tr>\n",
       "      <th>26693</th>\n",
       "      <td>Q. Is it possible to get pregnant without pene...</td>\n",
       "      <td>Hello doctor, I and my fiancee messed up. Beca...</td>\n",
       "      <td>Hello. Well, in this case I see that her guilt...</td>\n",
       "    </tr>\n",
       "    <tr>\n",
       "      <th>26940</th>\n",
       "      <td>Q. How can I gain weight?</td>\n",
       "      <td>Hello doctor, I want to gain weight. Please help.</td>\n",
       "      <td>Hello. I just read your query. You did not men...</td>\n",
       "    </tr>\n",
       "    <tr>\n",
       "      <th>27505</th>\n",
       "      <td>Q. What is the treatment for chalazion?</td>\n",
       "      <td>Hello doctor,I have a red bump under my low ey...</td>\n",
       "      <td>Hello. You are right it is a chalazion (attach...</td>\n",
       "    </tr>\n",
       "    <tr>\n",
       "      <th>27772</th>\n",
       "      <td>Q. What is the cause for increased bilirubin l...</td>\n",
       "      <td>Hello doctor,I am a 50-year-old male, slim, an...</td>\n",
       "      <td>Hello. You do not have any complaints. 1. Tota...</td>\n",
       "    </tr>\n",
       "    <tr>\n",
       "      <th>...</th>\n",
       "      <td>...</td>\n",
       "      <td>...</td>\n",
       "      <td>...</td>\n",
       "    </tr>\n",
       "    <tr>\n",
       "      <th>256882</th>\n",
       "      <td>Suggest better treatment for hair fall</td>\n",
       "      <td>I am a girl......23 years old......My height i...</td>\n",
       "      <td>Hello, I have gone through your query and woul...</td>\n",
       "    </tr>\n",
       "    <tr>\n",
       "      <th>256884</th>\n",
       "      <td>Suggest treatment for alopecia areata</td>\n",
       "      <td>hello sir,i am suffering from alopacia areata,...</td>\n",
       "      <td>Hello, I have gone through your query and intr...</td>\n",
       "    </tr>\n",
       "    <tr>\n",
       "      <th>256885</th>\n",
       "      <td>Suggest treatment for hair fall</td>\n",
       "      <td>doctor please i need ur help.im 26 years old f...</td>\n",
       "      <td>Hello, I have gone through your query and woul...</td>\n",
       "    </tr>\n",
       "    <tr>\n",
       "      <th>256892</th>\n",
       "      <td>What causes hair fall and thinning?</td>\n",
       "      <td>My Endo prescribed Armour in December. It s be...</td>\n",
       "      <td>Hello, I have gone through your query and woul...</td>\n",
       "    </tr>\n",
       "    <tr>\n",
       "      <th>256906</th>\n",
       "      <td>Suggest treatment for hair loss</td>\n",
       "      <td>I began taking Cerazette contraceptive pill in...</td>\n",
       "      <td>Hi, Female pattern hair loss can't be reversed...</td>\n",
       "    </tr>\n",
       "  </tbody>\n",
       "</table>\n",
       "<p>17788 rows × 3 columns</p>\n",
       "</div>"
      ],
      "text/plain": [
       "                                              Description  \\\n",
       "16542               Q. Why have I not got my periods yet?   \n",
       "26693   Q. Is it possible to get pregnant without pene...   \n",
       "26940                           Q. How can I gain weight?   \n",
       "27505             Q. What is the treatment for chalazion?   \n",
       "27772   Q. What is the cause for increased bilirubin l...   \n",
       "...                                                   ...   \n",
       "256882             Suggest better treatment for hair fall   \n",
       "256884              Suggest treatment for alopecia areata   \n",
       "256885                    Suggest treatment for hair fall   \n",
       "256892                What causes hair fall and thinning?   \n",
       "256906                    Suggest treatment for hair loss   \n",
       "\n",
       "                                                  Patient  \\\n",
       "16542   Hello doctor, My fiancee got her periods one a...   \n",
       "26693   Hello doctor, I and my fiancee messed up. Beca...   \n",
       "26940   Hello doctor, I want to gain weight. Please help.   \n",
       "27505   Hello doctor,I have a red bump under my low ey...   \n",
       "27772   Hello doctor,I am a 50-year-old male, slim, an...   \n",
       "...                                                   ...   \n",
       "256882  I am a girl......23 years old......My height i...   \n",
       "256884  hello sir,i am suffering from alopacia areata,...   \n",
       "256885  doctor please i need ur help.im 26 years old f...   \n",
       "256892  My Endo prescribed Armour in December. It s be...   \n",
       "256906  I began taking Cerazette contraceptive pill in...   \n",
       "\n",
       "                                                   Doctor  \n",
       "16542   Hi. Mostly pill is effective if taken within 7...  \n",
       "26693   Hello. Well, in this case I see that her guilt...  \n",
       "26940   Hello. I just read your query. You did not men...  \n",
       "27505   Hello. You are right it is a chalazion (attach...  \n",
       "27772   Hello. You do not have any complaints. 1. Tota...  \n",
       "...                                                   ...  \n",
       "256882  Hello, I have gone through your query and woul...  \n",
       "256884  Hello, I have gone through your query and intr...  \n",
       "256885  Hello, I have gone through your query and woul...  \n",
       "256892  Hello, I have gone through your query and woul...  \n",
       "256906  Hi, Female pattern hair loss can't be reversed...  \n",
       "\n",
       "[17788 rows x 3 columns]"
      ]
     },
     "execution_count": 15,
     "metadata": {},
     "output_type": "execute_result"
    }
   ],
   "source": [
    "df[df.duplicated(subset='Description')]"
   ]
  },
  {
   "cell_type": "code",
   "execution_count": 4,
   "id": "f7a2365b-f77e-428c-a797-1db8f3d5601f",
   "metadata": {},
   "outputs": [],
   "source": [
    "df = df.drop_duplicates(subset=['Description', 'Patient'], )"
   ]
  },
  {
   "cell_type": "code",
   "execution_count": 14,
   "id": "2c658bc3-a266-4204-b03f-308a0c5508a3",
   "metadata": {},
   "outputs": [
    {
     "name": "stdout",
     "output_type": "stream",
     "text": [
      "<class 'pandas.core.frame.DataFrame'>\n",
      "Index: 246510 entries, 0 to 256915\n",
      "Data columns (total 3 columns):\n",
      " #   Column       Non-Null Count   Dtype \n",
      "---  ------       --------------   ----- \n",
      " 0   Description  246510 non-null  object\n",
      " 1   Patient      246510 non-null  object\n",
      " 2   Doctor       246510 non-null  object\n",
      "dtypes: object(3)\n",
      "memory usage: 7.5+ MB\n"
     ]
    }
   ],
   "source": [
    "df.info()"
   ]
  },
  {
   "cell_type": "code",
   "execution_count": 23,
   "id": "fed44e4a-edd9-46fd-926a-7607aeefffa1",
   "metadata": {},
   "outputs": [
    {
     "name": "stdout",
     "output_type": "stream",
     "text": [
      "--2024-09-12 09:43:46--  https://raw.githubusercontent.com/alexeygrigorev/minsearch/main/minsearch.py\n",
      "Resolving raw.githubusercontent.com (raw.githubusercontent.com)... 185.199.110.133, 185.199.109.133, 185.199.108.133, ...\n",
      "Connecting to raw.githubusercontent.com (raw.githubusercontent.com)|185.199.110.133|:443... connected.\n",
      "HTTP request sent, awaiting response... 200 OK\n",
      "Length: 3832 (3.7K) [text/plain]\n",
      "Saving to: ‘minsearch.py’\n",
      "\n",
      "minsearch.py        100%[===================>]   3.74K  --.-KB/s    in 0s      \n",
      "\n",
      "2024-09-12 09:43:46 (46.0 MB/s) - ‘minsearch.py’ saved [3832/3832]\n",
      "\n"
     ]
    }
   ],
   "source": [
    "#!wget https://raw.githubusercontent.com/alexeygrigorev/minsearch/main/minsearch.py"
   ]
  },
  {
   "cell_type": "code",
   "execution_count": 1,
   "id": "6795ace9-b850-43e6-9e13-624a6706ed63",
   "metadata": {},
   "outputs": [],
   "source": [
    "import minsearch\n",
    "import pandas as pd"
   ]
  },
  {
   "cell_type": "code",
   "execution_count": 2,
   "id": "00d23cdb-c6a4-40b6-a3db-8aad2a67f53b",
   "metadata": {},
   "outputs": [],
   "source": [
    "df = pd.read_csv('../data/data.csv')"
   ]
  },
  {
   "cell_type": "code",
   "execution_count": 3,
   "id": "bb9643a9-32f6-4c5b-a6c7-329031efdeb6",
   "metadata": {},
   "outputs": [],
   "source": [
    "index = minsearch.Index(\n",
    "    text_fields=['Description','Patient', 'Doctor'],\n",
    "    keyword_fields=[\"\"]\n",
    ")"
   ]
  },
  {
   "cell_type": "code",
   "execution_count": 4,
   "id": "314415a3-0cd9-48be-b9dd-0dbe4cef7f45",
   "metadata": {},
   "outputs": [],
   "source": [
    "documents = df.to_dict(orient='records')"
   ]
  },
  {
   "cell_type": "code",
   "execution_count": 5,
   "id": "b7ddf939-1a4a-4b5a-b252-27c3195c7750",
   "metadata": {},
   "outputs": [
    {
     "data": {
      "text/plain": [
       "<minsearch.Index at 0x799804506060>"
      ]
     },
     "execution_count": 5,
     "metadata": {},
     "output_type": "execute_result"
    }
   ],
   "source": [
    "index.fit(documents)"
   ]
  },
  {
   "cell_type": "code",
   "execution_count": 6,
   "id": "56d2c57b-7020-4f52-b31f-bd0f792ed651",
   "metadata": {},
   "outputs": [],
   "source": [
    "def search(query):\n",
    "    boost = {'Description': 2}\n",
    "\n",
    "    results = index.search(\n",
    "        query=query,\n",
    "        boost_dict=boost,\n",
    "        num_results=10\n",
    "    )\n",
    "\n",
    "    return results"
   ]
  },
  {
   "cell_type": "code",
   "execution_count": 8,
   "id": "efc3e7c0-0cbd-44ce-b619-d5a9cb0920b5",
   "metadata": {},
   "outputs": [
    {
     "data": {
      "text/plain": [
       "[{'Description': 'Suggest remedy for sprained ankle with swelling',\n",
       "  'Patient': 'Hello, I just recently sprained my ankle but it recovered about 3 days ago but I do sometimes struggle to move it side to side, I was walking today and rolled over again but this time I didn’t fall I just felt a pop noise on my ankle, I can still walk on it but I just can’t cross my legs and my ankle has also swollen again',\n",
       "  'Doctor': 'Dear patient there is need to restart treatment for sprained ankle. This time xray of the ankle anteroposterior and lateral views should be taken to rule out bony injury. Apply ankle binder for 3 weeks. keep limb elevated on 2 pillows. do ice packs application. Take tab zerodol sp twice a day for pain relief. If xray is abnormal please consult orthopaedic surgeon nearby your area.'},\n",
       " {'Description': 'Suggest treatment for sprained ankle',\n",
       "  'Patient': 'I severely sprained my ankle and fractured ankle bone in foot five weeks ago . I was in non weight bearing plaster cast for three weeks. I was not very good about using crutches and was walking tip toe which didn t hurt. Cast has been off for one week now and I can t bend my foot to walk. It is also very painful to put pressure on heel. I am in a brace now but still can t walk on foot besides on my toes. I start pt Thursday. What are your thoughts?',\n",
       "  'Doctor': 'Hi thereAfter 4 or 5 weeks of a plaster  there is always some stiffness that set in at the ankle joint simply because the ankle joint had been imobilized for a while. This is an expected Complication. now that you are in a brace you need to work towards regaining movement at your ankle joint. physiotherapists can help you with this. Do take it easy and slowly. After a significant ankle injury it can take you up to 2 years for a full recovery.'},\n",
       " {'Description': 'What to do for sprained ankle?',\n",
       "  'Patient': 'I suppose the era the canada goose wall socket learners compiled, The exact WWW.WWWW.WW Goose Jackets busy picture, My young people discussion connected seasky, Decent relate a diminishing materialized a bunch of. I suppose by means of these friends take in a drop of vino, Ask wasted time office room in your home in that, speedy stagnation, Settle that a strong head. Canada goose Freestyle VestTimberland galoshes retailer most of all those solar cells monocle marketing re stiffened in the walls making use of a fractional skin stop and Canada Goose parka north america laminated place inside that experts claim helps to keep canada goose jackets toilet the jacket canada goose jackets in with regard to that waist property. Indeed never! give for only healthy any existing hem sprained ankle direct to the point. And regardless if ground local climate remains to be to be canada goose expedition must but not necessarily quite suprisingly nominal, With each other at the same time choosing storms within the last.En aning compacted excellent skiing conditions might be selection during the night air in phoenix. Specific to the rest of the world sea-region operators, Nicely disturbed to rest, Could be educational facilities aside on online games. An playoffs within season appeared incredibly good baseball anywhere since start to finish, Finishing in different title football side to the NHL s most well known enhance. Category work ended up ready.Cover a great sit-on cycling signifies of cinrdign WWW.WWWW.WW Goose sale. Nevertheless, Majority of these kinds popular jackets has to be very expensive. jacket picture over the new n. nits may cost a hundred greenbacks new. Canada Goose ( is better known for their reliability, Best suited, Efficiency and elegance. An amazing singer. that they ll have something will fashionable you re likely to Canada Goose Jackets prepare for your forthcoming major exterior lighting quest at the chill, Select a hydrating lotion, Pushing blood through any feet to become able to work optimally. It will make feet lustrous. The background music exercises qualities contains Stereoscopic WWW.WWWW.WW Goose parka images stereo generating gps, RDS, An exact tracking, Electric Ambit, America online street, Movies game lover, In addition, Ipod. A width connected with world-wide-web artists advantage use only that men both similarly start employing match for modern components.Ought to evaluate the online privacy and canada goose trillium parka thus relation to Use in advance of when with this site. Our call time site usually means settlement develop into destined of the relation to Use, Involving individual Personal essence feel altitudes.',\n",
       "  'Doctor': \"Dear patient I'm sorry I could not understand what you wanted to ask. However if it is a sprained ankle you want to treat follow these steps1) Ice the ankle2) Wrap crape bandage 3 ) Try not to put weight on the ankleHope u feel better\"},\n",
       " {'Description': 'What can I do to heal sprained ankle?',\n",
       "  'Patient': \"I've sprained my ankle multiple times now, gone through PT and a boot, RICE, of course, but I sprained it recently and this time it is different. It's been a month and I am still unable to bear weight. I run, so recently I have been biking and the days after I bike I really cant walk. I am not sure what I should do\",\n",
       "  'Doctor': 'Hi i am Dr Ahmed Aly    thanks for using healthcaremagic site ,I had gone through your question and understand your concerns ..      In my opinion you may have some tenosynovitis from your old injury which is inflammation to your tendons and muscle origins for my patients i recommend hot massaging twice daily with topical gels ,wearing ankle support or slabbing it will help , you may need time to heel  so rest a little avoid vigorous movements and physiotherapy and even yoga are helpful in such cases . Please click THANK YOU and consider a 5 star rating with some positive feedback if the information was helpful. Hope the above information helps you,Any further clarifications feel free to ask.'},\n",
       " {'Description': 'How to treat sprained ankle?',\n",
       "  'Patient': 'My daughter has a severely sprained right ankle.  She sprained it on Sunday, went to the hospital emergency room, had an x-ray indicating NO broken bones.  However, after R.I.C.E. Since Sunday, her ankle is still swollen, bruised on both sides of the ankle and she cannot put weight on it.  Should she see a physician and see if she can get an ankle boot to help avoid more injury?',\n",
       "  'Doctor': 'Hi,Welcome to healthcare magic.After going through your query I think  your daughter  is suffering from soft tissue injury and ligament pain.Treatment of it is rest and analgesics (diclofenac three times a day after meals). It may take two to three weeks time to relief. Vitamin  B-complex and vitamin C will help promote healing. However she can get  x ray done to exclude fracture .She can see an orthopedician. Ankle boot will be helpful to avoid more injury.I think your query answered.Welcome to any follow up query.'},\n",
       " {'Description': 'What does burning sensation on sprained ankle indicate?',\n",
       "  'Patient': 'I m pretty sure I sprained my right ankle yesterday. I can put weight on it, there is little to no bruising and the swelling has gone down a little but I have a constant burning sensation on the outter side of my ankle going up my calf a little. Is this something I should worry about. I plan on going to work tomorrow.',\n",
       "  'Doctor': 'Hello,Your symptoms seem to be related to the sprained ankle. I suggest using anti-inflammatory medications such as Ibuprofen to relieve the pain. I recommend to use cold compresses for local application. I suggest to use a splint to prevent further damage of the ankle.Hope I have answered your question. Let me know if I can assist you further. Regards, Dr. Dorina Gurabardhi, General & Family Physician'},\n",
       " {'Description': 'Suggest remedy for the sprained swollen ankle',\n",
       "  'Patient': 'I sprained my ankle a couple of weeks ago and my original doctor told me to stay off of it and I tried but I m just a independent person and decoded to start doing things on my own by day 3 now its 4 weeks later and my ankle is still swollen...what do I do ?',\n",
       "  'Doctor': \"Hi Welcome to HCmI have gone thru your query regarding your sprained swollen ankle ,and I can understand your concern . In case of any injury ,if swelling and pain persists An xray is advised to ascertain the position if there is need of plastering so that further damage should not happen . You should go to a specialist for proper treatment Asap Turmeric powder a spoon in a cup of hot milk in BF and at bed time helps alleviate pain and swelling faster   . Rest and intake of proper nourishing diet  is also helpfull in early recovery .Hope this helps solves your query .Take care , All the best .Wish Get well soon .Don't hesitate to get back tf have any further query .\"},\n",
       " {'Description': 'Suggest remedy for sprained ankle',\n",
       "  'Patient': 'Yes, my daughter sprained her ankle Friday night;she went to the ER and was told that it was sprung and that a blood vessel. The ER wrapped it, but she has been in such much pain with sever burning sensation and also she has a blister on the same foot; the foot is cold to the touch. She went back to the ER again last night and on her way back again to night. What can we do for her?',\n",
       "  'Doctor': 'Hi...the treatment for sprained ankle is complete rest and a POP (Plaster of paris) cast or a crepe bandage keeping the ankle in the correct position of comfort. When the bandage or POP is too tight then the symptoms of blistering and cold limbs occur. I suggest you get back to an orthopedic surgeon and get the bandage loosened appropriately.Regards - DR. Sumanth'},\n",
       " {'Description': 'Suggest treatment for sprained ankle',\n",
       "  'Patient': \"I badly sprained my ankle on Sunday. It had an X-ray and he said it wasn't broken. I have grade 2 ligament damage. I have been trying to exercise it as advised. Everytime I walk on it, I feel sick. My gate is improving slowly but is still very limited. I have bruising and swelling all over my foot and ankle but also halfway up my shin. Is feeling so sick normal?\",\n",
       "  'Doctor': 'Dear sir /madam ligament sprain for the inflammation to settle down and to proceed for healing takes 3 weeks from onset of  injury, It is recommended to elevate your limb under pillow, ice fomentation, give rest and Creepe bandage support. Yes ankle sprain has such morbidity, Which usually settles down with time.'},\n",
       " {'Description': 'Could fever be due to sprained ankle?',\n",
       "  'Patient': 'My 6 year old daughter sprained her ankle last monday. we took her to a urgent care center, they did xray and said it was just sprained. she is still limping around and it is still a little swollen and bruised. yesterday she started with a fever. is this due to the sprain?',\n",
       "  'Doctor': \"hello,It could be. The spraines ankle could lead to fever if it was severe enough as to destroy the structures incolved. Especially if you didn't take care of it after it happened. For example, after the injury of joints the best thing to do is to insert the joint in cold water and then to rap it up with onion and salt in order to suck and remove the fluids causing edema of the joint. If this is not done the fluids coming out because of the injury will be swolled and hurting. The ankle neess to rest as well but you say your daughter continues to move around thereafter. Therefore, after aome days in this conditions with fluid in the joint space the inflamation could occur leading to fever. However this is little probable if the skin is intact (not perdorated or torn out) as microbes dont have an entry point. My asvice: try to treat the ankle with grilled onion mixed with salt and rapping it with a piece of clothing or bandages and give paracetamol to lower the temperature. If the situation does not improve then you have to see a doctor.Best!\"}]"
      ]
     },
     "execution_count": 8,
     "metadata": {},
     "output_type": "execute_result"
    }
   ],
   "source": [
    "search('I sprained my ankle. What should I do?')"
   ]
  },
  {
   "cell_type": "code",
   "execution_count": 5,
   "id": "adafa719-f0b8-40a2-9781-db78c9ee2eef",
   "metadata": {},
   "outputs": [],
   "source": [
    "from openai import OpenAI\n",
    "\n",
    "client = OpenAI(\n",
    "    base_url='http://localhost:11434/v1/',\n",
    "    api_key='ollama'\n",
    ")"
   ]
  },
  {
   "cell_type": "code",
   "execution_count": 6,
   "id": "989d9b40-ce77-4dae-ad7f-24820abc8ea7",
   "metadata": {},
   "outputs": [],
   "source": [
    "def build_prompt(query, search_results):\n",
    "    prompt_template = \"\"\"\n",
    "You are a knowledgeable and empathetic medical assistant specializing in providing detailed and accurate information based on real patient-doctor conversations. \n",
    "You must interpret the given context to address the user's question effectively.\n",
    "Your responses should be clear, concise, and consider the medical and emotional aspects of the situation. \n",
    "Use the context provided to ensure that your answer is grounded in the information retrieved, avoiding speculation or providing advice outside of the context.\n",
    "\n",
    "Question: {question}\n",
    "\n",
    "Context:\n",
    "{context}\n",
    "\n",
    "Instructions:\n",
    "1. Analyze the context carefully to identify relevant information related to the user's question.\n",
    "2. Provide an informative and empathetic response, ensuring it aligns with the retrieved context.\n",
    "3. If the context does not directly answer the question, use general medical knowledge cautiously to give a helpful but non-definitive response.\n",
    "4. Prioritize the clarity and accuracy of information, using language accessible to a general audience.\n",
    "5. If necessary, indicate when it would be appropriate for the user to seek further medical consultation.\n",
    "\"\"\".strip()\n",
    "\n",
    "    context = \"\"\n",
    "    \n",
    "    for doc in search_results:\n",
    "        context = context + f\"Description: {doc['Description']}\\nPatient: {doc['Patient']}\\nDoctor: {doc['Doctor']}\\n\\n\"\n",
    "    \n",
    "    prompt = prompt_template.format(question=query, context=context).strip()\n",
    "    return prompt"
   ]
  },
  {
   "cell_type": "code",
   "execution_count": 7,
   "id": "301d714c-dfda-4be7-a94f-4fa108f1b6be",
   "metadata": {},
   "outputs": [],
   "source": [
    "def llm(prompt):\n",
    "    response = client.chat.completions.create(\n",
    "        model='phi3',\n",
    "        messages=[{\"role\": \"user\", \"content\": prompt}]\n",
    "    )\n",
    "    \n",
    "    return response.choices[0].message.content"
   ]
  },
  {
   "cell_type": "code",
   "execution_count": 28,
   "id": "6c49c7d2-cbca-42ab-9a16-c3b8ae865d91",
   "metadata": {},
   "outputs": [],
   "source": [
    "def rag(query):\n",
    "    search_results = search(query)\n",
    "    prompt = build_prompt(query, search_results)\n",
    "    answer = llm(prompt)\n",
    "    return answer"
   ]
  },
  {
   "cell_type": "code",
   "execution_count": 29,
   "id": "2ccd3258-401c-49c7-8599-8302d35708e7",
   "metadata": {},
   "outputs": [
    {
     "data": {
      "text/plain": [
       "'Hi there,\\n\\nThe symptoms of sinusitis typically include:\\n\\n1. **Facial Pain and Pressure**: You might feel pain and pressure around your forehead, eyes, nose, and cheeks.\\n2. **Nasal Congestion**: This can lead to difficulty breathing through your nose.\\n3. **Thick Nasal Discharge**: The mucus may be yellow or green.\\n4. **Loss of Smell**: Your sense of smell might be reduced or lost.\\n5. **Cough**: This can be worse at night.\\n6. **Sore Throat**: Post-nasal drip can cause throat irritation.\\n7. **Headache**: Pain associated with sinusitis can radiate to the head, leading to headaches.\\n8. **Ear Pain or Fullness**: Sensation of fullness or pain in the ear.\\n9. **Fatigue**: Feeling unusually tired or exhausted.\\n10. **Bad Breath**: Often due to the accumulation of bacteria in the sinuses.\\n\\nIn some conversations, patients reported symptoms like pain in the head, yellow mucus, and stuffiness which align with sinusitis. If you are experiencing any of these symptoms, it might be helpful to consult with an ENT specialist for a precise diagnosis and treatment plan.\\n\\nGiven your concern, if the symptoms persist or worsen, I recommend seeing a healthcare provider for an evaluation to ensure appropriate treatment.\\n\\nTake care!'"
      ]
     },
     "execution_count": 29,
     "metadata": {},
     "output_type": "execute_result"
    }
   ],
   "source": [
    "rag('Hi Doctor, I want to know the symptoms of sinusitis. I think I have it.')"
   ]
  },
  {
   "cell_type": "code",
   "execution_count": 31,
   "id": "4bbd983f-8ac0-4dee-8532-62b96b913444",
   "metadata": {},
   "outputs": [],
   "source": [
    "results = search('Hi Doctor, I want to know the symptoms of sinusitis. I think I have it.')"
   ]
  },
  {
   "cell_type": "code",
   "execution_count": 1,
   "id": "7f54fd8c-9c08-466f-82da-f07667d988dc",
   "metadata": {},
   "outputs": [],
   "source": [
    "from elasticsearch import Elasticsearch"
   ]
  },
  {
   "cell_type": "code",
   "execution_count": 8,
   "id": "28681e78-96ef-4ead-b380-75d8fd40cbb3",
   "metadata": {},
   "outputs": [],
   "source": [
    "es_client = Elasticsearch('http://localhost:9200')"
   ]
  },
  {
   "cell_type": "code",
   "execution_count": 9,
   "id": "497af5cd-9441-49a4-98aa-6e8901590d8a",
   "metadata": {},
   "outputs": [
    {
     "data": {
      "text/plain": [
       "ObjectApiResponse({'acknowledged': True, 'shards_acknowledged': True, 'index': 'health_questions'})"
      ]
     },
     "execution_count": 9,
     "metadata": {},
     "output_type": "execute_result"
    }
   ],
   "source": [
    "index_settings = {\n",
    "    \"settings\": {\n",
    "        \"number_of_shards\": 1,\n",
    "        \"number_of_replicas\": 0\n",
    "    },\n",
    "    \"mappings\": {\n",
    "        \"properties\": {\n",
    "            \"Description\": {\"type\": \"text\"},\n",
    "            \"Patient\": {\"type\": \"text\"},\n",
    "            \"Doctor\": {\"type\": \"text\"}\n",
    "        }\n",
    "    }\n",
    "}\n",
    "\n",
    "index_name = \"health_questions\"\n",
    "\n",
    "es_client.indices.create(index=index_name, body=index_settings)"
   ]
  },
  {
   "cell_type": "code",
   "execution_count": 14,
   "id": "44fc58fa-1bf4-41d4-a749-d992c993f30f",
   "metadata": {},
   "outputs": [
    {
     "name": "stderr",
     "output_type": "stream",
     "text": [
      "/tmp/ipykernel_18975/1512487789.py:31: DeprecationWarning: Passing transport options in the API method is deprecated. Use 'Elasticsearch.options()' instead.\n",
      "  es.indices.create(index=INDEX_NAME, body=index_settings, ignore=400)\n"
     ]
    },
    {
     "name": "stdout",
     "output_type": "stream",
     "text": [
      "Starting bulk indexing of 246510 documents...\n"
     ]
    },
    {
     "name": "stderr",
     "output_type": "stream",
     "text": [
      "Indexing Progress: 100%|██████████████████████████████████████████████████████████████████████████████████████████████████████████████████████████████████████████████████| 246510/246510 [00:16<00:00, 14714.87it/s]"
     ]
    },
    {
     "name": "stdout",
     "output_type": "stream",
     "text": [
      "Indexed 246510 documents in 16.82 seconds\n"
     ]
    },
    {
     "name": "stderr",
     "output_type": "stream",
     "text": [
      "\n"
     ]
    }
   ],
   "source": [
    "import json\n",
    "import time\n",
    "from elasticsearch import Elasticsearch, helpers\n",
    "from concurrent.futures import ThreadPoolExecutor, as_completed\n",
    "from tqdm import tqdm\n",
    "\n",
    "# Initialize Elasticsearch client\n",
    "es = Elasticsearch(['http://localhost:9200'], request_timeout=30)\n",
    "\n",
    "# Index and document settings\n",
    "INDEX_NAME = 'my_index'\n",
    "BATCH_SIZE = 10000\n",
    "\n",
    "# Index settings as provided\n",
    "index_settings = {\n",
    "    \"settings\": {\n",
    "        \"number_of_shards\": 1,\n",
    "        \"number_of_replicas\": 0\n",
    "    },\n",
    "    \"mappings\": {\n",
    "        \"properties\": {\n",
    "            \"Description\": {\"type\": \"text\"},\n",
    "            \"Patient\": {\"type\": \"text\"},\n",
    "            \"Doctor\": {\"type\": \"text\"}\n",
    "        }\n",
    "    }\n",
    "}\n",
    "\n",
    "def create_index():\n",
    "    \"\"\"Create the index with provided settings.\"\"\"\n",
    "    es.indices.create(index=INDEX_NAME, body=index_settings, ignore=400)\n",
    "\n",
    "def optimize_for_indexing():\n",
    "    \"\"\"Apply settings to optimize for bulk indexing.\"\"\"\n",
    "    es.indices.put_settings(index=INDEX_NAME, body={\n",
    "        \"settings\": {\n",
    "            \"refresh_interval\": \"30s\"\n",
    "        }\n",
    "    })\n",
    "\n",
    "def restore_settings():\n",
    "    \"\"\"Restore normal operating settings.\"\"\"\n",
    "    es.indices.put_settings(index=INDEX_NAME, body={\n",
    "        \"settings\": {\n",
    "            \"refresh_interval\": \"1s\"\n",
    "        }\n",
    "    })\n",
    "\n",
    "def create_actions(data):\n",
    "    \"\"\"Create actions for bulk indexing from JSON data.\"\"\"\n",
    "    for item in data:\n",
    "        yield {\n",
    "            \"_index\": INDEX_NAME,\n",
    "            \"_source\": item\n",
    "        }\n",
    "\n",
    "def bulk_index(actions):\n",
    "    \"\"\"Perform bulk indexing.\"\"\"\n",
    "    try:\n",
    "        return helpers.bulk(es, actions)\n",
    "    except Exception as e:\n",
    "        print(f\"Error in bulk indexing: {e}\")\n",
    "        return 0, []\n",
    "\n",
    "def parallel_bulk(actions, thread_count=4):\n",
    "    \"\"\"Perform parallel bulk indexing with progress bar.\"\"\"\n",
    "    total_actions = len(actions)\n",
    "    with ThreadPoolExecutor(max_workers=thread_count) as executor:\n",
    "        futures = []\n",
    "        for i in range(0, total_actions, BATCH_SIZE):\n",
    "            batch = actions[i:i + BATCH_SIZE]\n",
    "            future = executor.submit(bulk_index, batch)\n",
    "            futures.append(future)\n",
    "\n",
    "        total_indexed = 0\n",
    "        with tqdm(total=total_actions, desc=\"Indexing Progress\") as pbar:\n",
    "            for future in as_completed(futures):\n",
    "                count, _ = future.result()\n",
    "                total_indexed += count\n",
    "                pbar.update(count)\n",
    "\n",
    "    return total_indexed\n",
    "\n",
    "def main():\n",
    "    create_index()\n",
    "    optimize_for_indexing()\n",
    "\n",
    "    actions = list(create_actions(documents))\n",
    "\n",
    "    print(f\"Starting bulk indexing of {len(actions)} documents...\")\n",
    "    start_time = time.time()\n",
    "    total_indexed = parallel_bulk(actions)\n",
    "    end_time = time.time()\n",
    "\n",
    "    print(f\"Indexed {total_indexed} documents in {end_time - start_time:.2f} seconds\")\n",
    "\n",
    "    restore_settings()\n",
    "\n",
    "if __name__ == \"__main__\":\n",
    "    main()"
   ]
  },
  {
   "cell_type": "code",
   "execution_count": 15,
   "id": "4de9592b-288b-4b98-af95-4755cb757027",
   "metadata": {},
   "outputs": [],
   "source": [
    "def elastic_search(query):\n",
    "    search_query = {\n",
    "        \"size\": 5,\n",
    "        \"query\": {\n",
    "            \"bool\": {\n",
    "                \"must\": {\n",
    "                    \"multi_match\": {\n",
    "                        \"query\": query,\n",
    "                        \"fields\": [\"description^2\", \"Patient\", \"Doctor\"],\n",
    "                        \"type\": \"best_fields\"\n",
    "                    }\n",
    "                }\n",
    "            }\n",
    "        }\n",
    "    }\n",
    "\n",
    "    response = es.search(index=INDEX_NAME, body=search_query)\n",
    "\n",
    "    result_docs = []\n",
    "\n",
    "    for hit in response['hits']['hits']:\n",
    "        result_docs.append(hit['_source'])\n",
    "\n",
    "    return result_docs"
   ]
  },
  {
   "cell_type": "code",
   "execution_count": 16,
   "id": "ea1c4e84-056b-4c61-90bd-aaeb384ef22a",
   "metadata": {
    "scrolled": true
   },
   "outputs": [
    {
     "data": {
      "text/plain": [
       "[{'Description': 'Q. I have sinusitis. Am I at high risk of getting Coronavirus infection?',\n",
       "  'Patient': 'Hello doctor, I am a sinusitis patient. But I do not face any breathing problems. And I am just 21 year old. Is Corona dangerous for sinusitis patients? Please tell me I really want to know.',\n",
       "  'Doctor': \"Hi. Corona is dangerous for each and everyone one of us. However, there are few conditions where the patient's body immunity is on the lower side. One such condition is recurrent allergy associated sinusitis. You may be completely asymptomatic, but in general patients probe for allergy and associated sinusitis do have a slightly higher risk for acquiring any infection for that matter. It is always better to take adequate care and precautionary measures must be followed at all costs failing which you not only expose yourself but expose others as well. Make sure that the sinusitis and related symptoms are treated in an effective manner. I have not gone into the treatment for sinusitis as your question was very specific regarding the lethality of Coronavirus in patients with sinusitis. I hope this helps.\"},\n",
       " {'Description': 'Q. I have increased ringing in both ears after diagnosed with post nasal drip. Why?',\n",
       "  'Patient': 'Hello doctor, I have increased ringing in both ears. I have been diagnosed with post nasal drip. The left ear feels blocked and the left side of the throat feels clogged as well. I had taken antibiotics on the prescription but that is not working. My ear testing results were normal.',\n",
       "  'Doctor': 'Hello. Your problem seems to be due to sinusitis. Sinusitis itself can cause clogged feelings in the throat or sinusitis can cause secondary pharyngitis which can cause throat problems. Do you have a headache or nose block or excessive sneezing? I will want you to send me a clear picture of your throat where I can see your tonsils and posterior pharyngeal wall. Also, please let me know the name of the medicines you have been taking and also the duration. I am enabling free follow up. Please revert back.'},\n",
       " {'Description': 'Suffer from abdominal pain and weight loss. H pylori test negative. What else?',\n",
       "  'Patient': 'have pretty severe upper abdominal pain. Have seen Gi doctor. Had endoscopy and biopsy results are normal, but It showed some irritation. Blood test for h pylori are negative. Put on PPI, eating bland diet with no relief. I am losing weight and suffer with pain every day. It has been going on since March 1, 2013. Can I have H Pylori even though my test came back negative?',\n",
       "  'Doctor': 'Hi there ~The abdominal pain and weight loss may be related to your H pylori tests coming back as negative.  I think that you have seen a GI doctor and the endoscopy and biopsy results are normal.  I am sure the GI doctor prescribed medications that were related to assumed gastritis as it is the most common cause of your symptoms.   I think you might need more investigations if the symptoms do not get better soon.  I also think that you might want to try some pain medications over the counter.  Sometimes symptoms are psychological and relieving your anxiety might make things better for you.  I believe you should find a good doctor that will help with treating your anxiety with psychotropic medications.  I hope this helps.Take care and have a lovely day!'},\n",
       " {'Description': 'What causes blood from nose with a pressure in back left of head?',\n",
       "  'Patient': 'Hi there, I am 29 years old, I am 6 foot 200 pounds. My medical history is that I have IBS and I had tubes in my ears and I once had surgery on the back left of my neck to remove a cyst that turned out to be nothing. 2 questions, every morning I wake up with a blocked nose. When i blow my nose, some blood comes out but only comes out of my left nostril. It last for two blows in a tissue and then I don t see it the rest of the day. It has been constant. Also, I have had a very dull pressure feeling in the back left of my head by my ear. This has been constant as well.',\n",
       "  'Doctor': 'Hello, Your issues are linked more likely with sinusitis (chronic sinusitis in your case). This because of the symptoms and the past issues with your middle ear. It is necessary for you to get evaluated further by an ENT Doctor and by imaging of sinuses such as CT scan in order to achieve a correct diagnosis. Hope I have answered your query. Let me know if I can assist you further. Take care. Regards, Dr. Erion Spaho, Neurologist, Surgical'},\n",
       " {'Description': 'Suggest therapy for wheezing followed by cough & tickle in the throat',\n",
       "  'Patient': \"I went to the dr today. I have been wheezing at night and waking up with a tickle in my throat.  Then I will start having a coughing fit while (almost vomiting) clear, bubbly mucus. He heard wheezing in the left lung and took a chest X-ray that appeared normal. He prescribed prednisone (20mg 3 pillsa day for 5 days) a z-PAC and robitusin DM. I will start the prednisone in the morning as I have no appetite.  All the other mess I took. I still have a persistent tickle in my throat and gag on phlegm when I lay down. Can I take a benedryl?  Will it help?  Also is it ok to take the predisione like that without weening off?  I haven't slept for days bc of this mucus choking me. Any other advise?  He was very quick with his exam and explaination. Does this seem like allergies?\",\n",
       "  'Doctor': 'Hello,Thank you for asking at HCM.I went through your history and would like to make following suggestions to you:1. If you have such complaints repeatedly, I would think of asthma. If you have such symptoms for the first time, I would not think of asthma straightway.2. Were I treating you, I would add an antihistamine (like Benadryl) in your treatment, your current treatment does not have any antihistamine. So you can take a benadryl. However, Benadryl causes sedation, I would suggest you to take levocetirizine.3. Personally I would not suggest you dextromethorphan (a content in Robitussin DM) if you have wheezing. I would instead prescribe you salbutamol or levosalbutamol.4. Your doctor is the best judge to decide whether you need steroids (Prednisone). So, if you have been prescribed them, I would suggest you to take them as suggested by your doctor. 5-day course of prednisone is considered a \"short course\" and it does not require weaning off.5. As you have musuc ticking into throat, I would also think of acute or chronic sinusitis. Some of the above medications will help the sinusitis also, I would in addition suggest you to take plenty of warm fluids during day and regular steam inhalation which will help.6. If you have been having these symptoms repeatedly, I would think of allergies and asthma. In that case, I would add montelukast to above treatment. For long term management, I would suggest you allergy testing first, which will help you identify the substances causing symptoms to you and also to know the measures to avoid them.Hope above suggestions will be helpful to you.Should you have any further query, please feel free to ask at HCM.Wish you the best of the health and a very good recovery.Thank you & Regards.'}]"
      ]
     },
     "execution_count": 16,
     "metadata": {},
     "output_type": "execute_result"
    }
   ],
   "source": [
    "elastic_search('Hi Doctor, I want to know the symptoms of sinusitis. I think I have it.')"
   ]
  },
  {
   "cell_type": "code",
   "execution_count": 17,
   "id": "f5139c52-17d0-4ce0-9977-604e14799487",
   "metadata": {
    "scrolled": true
   },
   "outputs": [
    {
     "data": {
      "text/plain": [
       "[{'Description': 'Q. I have ankle sprain followed by swelling and tingling in toes. What could it be?',\n",
       "  'Patient': 'Hello doctor, I sprang my ankle four days ago and went to the ER and they did an x-ray and of course, they could only tell me if there were any major fractures or breaks because of the swelling. Now the swelling has gone down a lot but just a little remain. Hardly there is any bruising, but it is still sore, and when I run the top of my foot (when I take the walking boot off to shower) my two middle toes tingle. I am supposed to go back in a week for a checkup. Could there be something else wrong with my ankle that would cause the tingling and still a little bit of swelling too?',\n",
       "  'Doctor': 'Hello,  Welcome to icliniq.com. Yes, you should go to the clinic and see an orthopedic surgeon because after the swelling and pain reduces they can evaluate you better to find a cause. That is if there is any major ligament injury or no, or if it has sprained. The tingling can be due to small nerves getting pinched due to the swelling. So do not worry about that it will reduce. What you need is to wear an ankle stirrup brace, which is light and it will protect your ankle in the healing phase so that the sprained ligaments heal faster. Also, if you have sprained your ankle so many times then you need to do is to strengthen the muscles of your leg, i.e. extensors and flexors of the leg so that it does not happen again. Once you strengthen these muscles it will protect your ankle joint. Also, use an elastocrepe bandage of six inches width from the toes to just below the knee to reduce the swelling. Follow up sos.'},\n",
       " {'Description': 'Can a twisted ankle lead to sprain or fracture?',\n",
       "  'Patient': 'hello yesterday at school i was playing soccer and while i was running i twisted my ankle so i put ice on it once i got home i ut more ice and i wriped it with that cloth and this morning it feels the same can you please tell me if it sprain or fractured?',\n",
       "  'Doctor': 'Hello,To differentiate if the ankle is sprained or fractured you should do an X-ray of the ankle. Meanwhile, I suggest using anti-inflammatory medications such as Acetaminophen to relieve the pain. I also suggest using cold compresses for local application to relieve the inflammation.Hope I have answered your question. Let me know if I can assist you further. Regards, Dr. Dorina Gurabardhi, General & Family Physician'},\n",
       " {'Description': 'What to do for sprained ankle?',\n",
       "  'Patient': 'I suppose the era the canada goose wall socket learners compiled, The exact WWW.WWWW.WW Goose Jackets busy picture, My young people discussion connected seasky, Decent relate a diminishing materialized a bunch of. I suppose by means of these friends take in a drop of vino, Ask wasted time office room in your home in that, speedy stagnation, Settle that a strong head. Canada goose Freestyle VestTimberland galoshes retailer most of all those solar cells monocle marketing re stiffened in the walls making use of a fractional skin stop and Canada Goose parka north america laminated place inside that experts claim helps to keep canada goose jackets toilet the jacket canada goose jackets in with regard to that waist property. Indeed never! give for only healthy any existing hem sprained ankle direct to the point. And regardless if ground local climate remains to be to be canada goose expedition must but not necessarily quite suprisingly nominal, With each other at the same time choosing storms within the last.En aning compacted excellent skiing conditions might be selection during the night air in phoenix. Specific to the rest of the world sea-region operators, Nicely disturbed to rest, Could be educational facilities aside on online games. An playoffs within season appeared incredibly good baseball anywhere since start to finish, Finishing in different title football side to the NHL s most well known enhance. Category work ended up ready.Cover a great sit-on cycling signifies of cinrdign WWW.WWWW.WW Goose sale. Nevertheless, Majority of these kinds popular jackets has to be very expensive. jacket picture over the new n. nits may cost a hundred greenbacks new. Canada Goose ( is better known for their reliability, Best suited, Efficiency and elegance. An amazing singer. that they ll have something will fashionable you re likely to Canada Goose Jackets prepare for your forthcoming major exterior lighting quest at the chill, Select a hydrating lotion, Pushing blood through any feet to become able to work optimally. It will make feet lustrous. The background music exercises qualities contains Stereoscopic WWW.WWWW.WW Goose parka images stereo generating gps, RDS, An exact tracking, Electric Ambit, America online street, Movies game lover, In addition, Ipod. A width connected with world-wide-web artists advantage use only that men both similarly start employing match for modern components.Ought to evaluate the online privacy and canada goose trillium parka thus relation to Use in advance of when with this site. Our call time site usually means settlement develop into destined of the relation to Use, Involving individual Personal essence feel altitudes.',\n",
       "  'Doctor': \"Dear patient I'm sorry I could not understand what you wanted to ask. However if it is a sprained ankle you want to treat follow these steps1) Ice the ankle2) Wrap crape bandage 3 ) Try not to put weight on the ankleHope u feel better\"},\n",
       " {'Description': 'Suggest remedy for bruises in ankle',\n",
       "  'Patient': 'I rolled my ankle last night on an uneven surface out side.my ankle has been hurting since. I worked my 8 hour shift today. (Mostly standing in one spot) but every time I step down I feel a pulling and it hurts bad.there is no swelling or bruising. So what could it be. It gurts more walking with out shoes',\n",
       "  'Doctor': 'Hi, You seem to have a sprained ankle possibly a high ankle sprain in which the ligaments connecting the two bones of the foot is sprained or torn.A routine X ray  should be done. This will need a cast for about 4 weeks and a good amount of physiotherapy after that. You could also use an air cast or walking  brace in place of the cast'},\n",
       " {'Description': 'Suggest remedy for sprained ankle with swelling',\n",
       "  'Patient': 'Hello, I just recently sprained my ankle but it recovered about 3 days ago but I do sometimes struggle to move it side to side, I was walking today and rolled over again but this time I didn’t fall I just felt a pop noise on my ankle, I can still walk on it but I just can’t cross my legs and my ankle has also swollen again',\n",
       "  'Doctor': 'Dear patient there is need to restart treatment for sprained ankle. This time xray of the ankle anteroposterior and lateral views should be taken to rule out bony injury. Apply ankle binder for 3 weeks. keep limb elevated on 2 pillows. do ice packs application. Take tab zerodol sp twice a day for pain relief. If xray is abnormal please consult orthopaedic surgeon nearby your area.'}]"
      ]
     },
     "execution_count": 17,
     "metadata": {},
     "output_type": "execute_result"
    }
   ],
   "source": [
    "elastic_search('I sprained my ankle. What should I do?')"
   ]
  },
  {
   "cell_type": "markdown",
   "id": "5d1dad96-c9cd-4d39-a74a-e3e006c901d7",
   "metadata": {},
   "source": [
    "## Retrieval evaluation"
   ]
  },
  {
   "cell_type": "code",
   "execution_count": null,
   "id": "d0a645f7-42b6-4af6-b586-7fbc6edbee6b",
   "metadata": {},
   "outputs": [],
   "source": [
    "import pandas as pd"
   ]
  },
  {
   "cell_type": "code",
   "execution_count": null,
   "id": "7afa6aad-3836-4600-a536-1d5ca7a08664",
   "metadata": {},
   "outputs": [],
   "source": [
    "from openai import OpenAI\n",
    "\n",
    "client = OpenAI()"
   ]
  },
  {
   "cell_type": "code",
   "execution_count": 9,
   "id": "b3e2d285-d484-48f6-aa97-b6d1b14bfee3",
   "metadata": {},
   "outputs": [
    {
     "data": {
      "text/html": [
       "<div>\n",
       "<style scoped>\n",
       "    .dataframe tbody tr th:only-of-type {\n",
       "        vertical-align: middle;\n",
       "    }\n",
       "\n",
       "    .dataframe tbody tr th {\n",
       "        vertical-align: top;\n",
       "    }\n",
       "\n",
       "    .dataframe thead th {\n",
       "        text-align: right;\n",
       "    }\n",
       "</style>\n",
       "<table border=\"1\" class=\"dataframe\">\n",
       "  <thead>\n",
       "    <tr style=\"text-align: right;\">\n",
       "      <th></th>\n",
       "      <th>Description</th>\n",
       "      <th>Patient</th>\n",
       "      <th>Doctor</th>\n",
       "    </tr>\n",
       "  </thead>\n",
       "  <tbody>\n",
       "    <tr>\n",
       "      <th>0</th>\n",
       "      <td>Q. What does abutment of the nerve root mean?</td>\n",
       "      <td>Hi doctor,I am just wondering what is abutting...</td>\n",
       "      <td>Hi. I have gone through your query with dilige...</td>\n",
       "    </tr>\n",
       "    <tr>\n",
       "      <th>1</th>\n",
       "      <td>Q. What should I do to reduce my weight gained...</td>\n",
       "      <td>Hi doctor, I am a 22-year-old female who was d...</td>\n",
       "      <td>Hi. You have really done well with the hypothy...</td>\n",
       "    </tr>\n",
       "    <tr>\n",
       "      <th>2</th>\n",
       "      <td>Q. I have started to get lots of acne on my fa...</td>\n",
       "      <td>Hi doctor! I used to have clear skin but since...</td>\n",
       "      <td>Hi there Acne has multifactorial etiology. Onl...</td>\n",
       "    </tr>\n",
       "    <tr>\n",
       "      <th>3</th>\n",
       "      <td>Q. Why do I have uncomfortable feeling between...</td>\n",
       "      <td>Hello doctor,I am having an uncomfortable feel...</td>\n",
       "      <td>Hello. The popping and discomfort what you fel...</td>\n",
       "    </tr>\n",
       "    <tr>\n",
       "      <th>4</th>\n",
       "      <td>Q. My symptoms after intercourse threatns me e...</td>\n",
       "      <td>Hello doctor,Before two years had sex with a c...</td>\n",
       "      <td>Hello. The HIV test uses a finger prick blood ...</td>\n",
       "    </tr>\n",
       "  </tbody>\n",
       "</table>\n",
       "</div>"
      ],
      "text/plain": [
       "                                         Description  \\\n",
       "0      Q. What does abutment of the nerve root mean?   \n",
       "1  Q. What should I do to reduce my weight gained...   \n",
       "2  Q. I have started to get lots of acne on my fa...   \n",
       "3  Q. Why do I have uncomfortable feeling between...   \n",
       "4  Q. My symptoms after intercourse threatns me e...   \n",
       "\n",
       "                                             Patient  \\\n",
       "0  Hi doctor,I am just wondering what is abutting...   \n",
       "1  Hi doctor, I am a 22-year-old female who was d...   \n",
       "2  Hi doctor! I used to have clear skin but since...   \n",
       "3  Hello doctor,I am having an uncomfortable feel...   \n",
       "4  Hello doctor,Before two years had sex with a c...   \n",
       "\n",
       "                                              Doctor  \n",
       "0  Hi. I have gone through your query with dilige...  \n",
       "1  Hi. You have really done well with the hypothy...  \n",
       "2  Hi there Acne has multifactorial etiology. Onl...  \n",
       "3  Hello. The popping and discomfort what you fel...  \n",
       "4  Hello. The HIV test uses a finger prick blood ...  "
      ]
     },
     "execution_count": 9,
     "metadata": {},
     "output_type": "execute_result"
    }
   ],
   "source": [
    "df.head()"
   ]
  },
  {
   "cell_type": "code",
   "execution_count": 10,
   "id": "d3dc5ff5-3fee-48ce-b47e-6214a8085c47",
   "metadata": {},
   "outputs": [
    {
     "data": {
      "text/plain": [
       "{'Description': 'Q. What does abutment of the nerve root mean?',\n",
       " 'Patient': 'Hi doctor,I am just wondering what is abutting and abutment of the nerve root means in a back issue. Please explain. What treatment is required for\\xa0annular bulging and tear?',\n",
       " 'Doctor': 'Hi. I have gone through your query with diligence and would like you to know that I am here to help you. For further information consult a neurologist online -->'}"
      ]
     },
     "execution_count": 10,
     "metadata": {},
     "output_type": "execute_result"
    }
   ],
   "source": [
    "documents[0]"
   ]
  },
  {
   "cell_type": "code",
   "execution_count": null,
   "id": "2dcafbc1-632f-4964-b0ec-d25f015a6043",
   "metadata": {},
   "outputs": [],
   "source": []
  }
 ],
 "metadata": {
  "kernelspec": {
   "display_name": "Python 3 (ipykernel)",
   "language": "python",
   "name": "python3"
  },
  "language_info": {
   "codemirror_mode": {
    "name": "ipython",
    "version": 3
   },
   "file_extension": ".py",
   "mimetype": "text/x-python",
   "name": "python",
   "nbconvert_exporter": "python",
   "pygments_lexer": "ipython3",
   "version": "3.12.1"
  }
 },
 "nbformat": 4,
 "nbformat_minor": 5
}
