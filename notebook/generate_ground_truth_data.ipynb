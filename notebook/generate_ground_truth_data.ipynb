{
 "cells": [
  {
   "cell_type": "code",
   "execution_count": 1,
   "id": "f6c260d7-9e56-40b8-82e7-97fc11bd11fd",
   "metadata": {},
   "outputs": [],
   "source": [
    "import pandas as pd"
   ]
  },
  {
   "cell_type": "code",
   "execution_count": 2,
   "id": "770f2717-b44c-4f0b-91ad-609555d7b01c",
   "metadata": {},
   "outputs": [],
   "source": [
    "from openai import OpenAI\n",
    "\n",
    "client = OpenAI()"
   ]
  },
  {
   "cell_type": "code",
   "execution_count": 5,
   "id": "80c3f1df-3094-44e1-991c-9d3dce4c206b",
   "metadata": {},
   "outputs": [],
   "source": [
    "df = pd.read_csv('../data/data.csv')"
   ]
  },
  {
   "cell_type": "code",
   "execution_count": 6,
   "id": "86a0d0d4-60aa-4d59-ac24-ca233b1a651c",
   "metadata": {},
   "outputs": [],
   "source": [
    "sampled_df = df.sample(n=1000, random_state=42)"
   ]
  },
  {
   "cell_type": "code",
   "execution_count": 7,
   "id": "c17c2f22-f9df-4013-9d44-92464615c5c2",
   "metadata": {},
   "outputs": [],
   "source": [
    "# Continuing from the previous example\n",
    "sampled_df = sampled_df.reset_index(drop=True)\n",
    "sampled_df['id'] = sampled_df.index"
   ]
  },
  {
   "cell_type": "code",
   "execution_count": 8,
   "id": "3edcde77-56cc-4dea-8c10-e61b6e583e1d",
   "metadata": {},
   "outputs": [],
   "source": [
    "sampled_df = sampled_df[['id'] + [col for col in sampled_df.columns if col != 'id']]"
   ]
  },
  {
   "cell_type": "code",
   "execution_count": 9,
   "id": "31922903-5f54-4a86-8f0d-c8edd4729884",
   "metadata": {},
   "outputs": [],
   "source": [
    "sampled_df['id'] = sampled_df.index + 1"
   ]
  },
  {
   "cell_type": "code",
   "execution_count": 10,
   "id": "e54503cd-1e30-4493-98c5-ce74a95c990a",
   "metadata": {},
   "outputs": [
    {
     "data": {
      "text/html": [
       "<div>\n",
       "<style scoped>\n",
       "    .dataframe tbody tr th:only-of-type {\n",
       "        vertical-align: middle;\n",
       "    }\n",
       "\n",
       "    .dataframe tbody tr th {\n",
       "        vertical-align: top;\n",
       "    }\n",
       "\n",
       "    .dataframe thead th {\n",
       "        text-align: right;\n",
       "    }\n",
       "</style>\n",
       "<table border=\"1\" class=\"dataframe\">\n",
       "  <thead>\n",
       "    <tr style=\"text-align: right;\">\n",
       "      <th></th>\n",
       "      <th>id</th>\n",
       "      <th>Description</th>\n",
       "      <th>Patient</th>\n",
       "      <th>Doctor</th>\n",
       "    </tr>\n",
       "  </thead>\n",
       "  <tbody>\n",
       "    <tr>\n",
       "      <th>0</th>\n",
       "      <td>1</td>\n",
       "      <td>Noticed maroon dot underneath skin which oozed...</td>\n",
       "      <td>first I saw a maroonish dot underneath my skin...</td>\n",
       "      <td>Hi, Thanks for using HCM.Maroonish dot then la...</td>\n",
       "    </tr>\n",
       "    <tr>\n",
       "      <th>1</th>\n",
       "      <td>2</td>\n",
       "      <td>How can anxiety and depression be treated?</td>\n",
       "      <td>i feel lack of emotion and im always anxious i...</td>\n",
       "      <td>Hello and Welcome to ‘Ask A Doctor’ service. I...</td>\n",
       "    </tr>\n",
       "    <tr>\n",
       "      <th>2</th>\n",
       "      <td>3</td>\n",
       "      <td>Suggest treatment for upper back pain</td>\n",
       "      <td>had a pain in upper back since last monday, fe...</td>\n",
       "      <td>Hello, I have studied your case. Due to compre...</td>\n",
       "    </tr>\n",
       "    <tr>\n",
       "      <th>3</th>\n",
       "      <td>4</td>\n",
       "      <td>What could cause sore &amp; enlarged cubital nodes?</td>\n",
       "      <td>I went to the dr. last night for paranychia. T...</td>\n",
       "      <td>Hello, Your symptoms seem to be related to swo...</td>\n",
       "    </tr>\n",
       "    <tr>\n",
       "      <th>4</th>\n",
       "      <td>5</td>\n",
       "      <td>Q. I am experiencing erectile dysfunction. Wha...</td>\n",
       "      <td>Hi doctor, I am a 47 year old male. Recently, ...</td>\n",
       "      <td>Hello. Thanks. Take care. For more information...</td>\n",
       "    </tr>\n",
       "  </tbody>\n",
       "</table>\n",
       "</div>"
      ],
      "text/plain": [
       "   id                                        Description  \\\n",
       "0   1  Noticed maroon dot underneath skin which oozed...   \n",
       "1   2         How can anxiety and depression be treated?   \n",
       "2   3              Suggest treatment for upper back pain   \n",
       "3   4    What could cause sore & enlarged cubital nodes?   \n",
       "4   5  Q. I am experiencing erectile dysfunction. Wha...   \n",
       "\n",
       "                                             Patient  \\\n",
       "0  first I saw a maroonish dot underneath my skin...   \n",
       "1  i feel lack of emotion and im always anxious i...   \n",
       "2  had a pain in upper back since last monday, fe...   \n",
       "3  I went to the dr. last night for paranychia. T...   \n",
       "4  Hi doctor, I am a 47 year old male. Recently, ...   \n",
       "\n",
       "                                              Doctor  \n",
       "0  Hi, Thanks for using HCM.Maroonish dot then la...  \n",
       "1  Hello and Welcome to ‘Ask A Doctor’ service. I...  \n",
       "2  Hello, I have studied your case. Due to compre...  \n",
       "3  Hello, Your symptoms seem to be related to swo...  \n",
       "4  Hello. Thanks. Take care. For more information...  "
      ]
     },
     "execution_count": 10,
     "metadata": {},
     "output_type": "execute_result"
    }
   ],
   "source": [
    "sampled_df.head()"
   ]
  },
  {
   "cell_type": "code",
   "execution_count": 11,
   "id": "fc3e585e-4143-49bb-ae72-e2d5a4836f8a",
   "metadata": {},
   "outputs": [],
   "source": [
    "documents = sampled_df.to_dict(orient='records')"
   ]
  },
  {
   "cell_type": "code",
   "execution_count": 28,
   "id": "1d8fd490-3a44-441f-bd74-fbd250a2bb7c",
   "metadata": {},
   "outputs": [],
   "source": [
    "prompt_template = \"\"\"\n",
    "You emulate a user of our health care assistant application.\n",
    "Formulate 5 short conversation that the patient might ask based on a provided description.\n",
    "Make the patient's words specific to the description.\n",
    "The record should contain the reply from doctor to the patient's questions, and the questions should\n",
    "be complete and not too short. Use as fewer words as possible from the record. \n",
    "\n",
    "The record:\n",
    "\n",
    "Description: {Description}\n",
    "Patient: {Patient}\n",
    "Doctor: {Doctor}\n",
    "\n",
    "Provide the output in parsable JSON without using code blocks:\n",
    "\n",
    "{{\"questions\": [\"question1\", \"question2\", ..., \"question5\"]}}\n",
    "\"\"\".strip()"
   ]
  },
  {
   "cell_type": "code",
   "execution_count": 24,
   "id": "1777fd1f-5f7d-4ac0-801b-3e9b4dd29a56",
   "metadata": {},
   "outputs": [],
   "source": [
    "prompt = prompt_template.format(**documents[2])"
   ]
  },
  {
   "cell_type": "code",
   "execution_count": 25,
   "id": "d0d3e134-eaa7-4c72-a3a7-11a3d2da1f12",
   "metadata": {},
   "outputs": [
    {
     "name": "stdout",
     "output_type": "stream",
     "text": [
      "You emulate a user of our health care assistant application.\n",
      "Formulate 5 short conversation that the patient might ask based on a provided description.\n",
      "Make the patient's words specific to the description.\n",
      "The record should contain the reply from doctor to the patient's questions, and the questions should\n",
      "be complete and not too short. \n",
      "\n",
      "The record:\n",
      "\n",
      "Description: Suggest treatment for upper back pain\n",
      "Patient: had a pain in upper back since last monday, feeling like trapped nerve, eases off for while, putting hot water bottle on when it more painfull, then last night app, 3am, the pain was in my chest, had to get up take paracetamol and re heat water bottle, propped up in bed, then eased off, wasn`t to bad when got up, as day gone on pain increased again in chest, was going to contact my gp, but it was too late, no appoitments. just to put my mind at rest,, as last night was scary, it felt like a heart attack, but i dont know what heart attack feels like, i will contact my gp in morning if pain continues. thankyou\n",
      "Doctor: Hello, I have studied your case. Due to compression of this nerve root there is pain in your back and chest.Due to occlusion of vessels there can be pain sensation.I will advise you to do MRI thoracic spine, HRCT [CHEST] and EMG- NCV [nerve conduction study]For these symptoms analgesic and neurotropic medication can be started.Till time, avoid lifting weights, Sit with support to back. You can consult physiotherapist for help.Physiotherapy like ultrasound and interferential therapy will give quick relief.I will advise to check your vit B12 and vit D3 level.Hope this answers your query. If you have additional questions or follow up queries then please do not hesitate in writing to us. I will be happy to answer your queries. Wishing you good health.Take care.\n",
      "\n",
      "Provide the output in parsable JSON without using code blocks:\n",
      "\n",
      "{\"questions\": [\"question1\", \"question2\", ..., \"question5\"]}\n"
     ]
    }
   ],
   "source": [
    "print(prompt)"
   ]
  },
  {
   "cell_type": "code",
   "execution_count": 15,
   "id": "cffb248a-f44a-4790-9be1-379a016c1662",
   "metadata": {},
   "outputs": [],
   "source": [
    "def llm(prompt):\n",
    "    response = client.chat.completions.create(\n",
    "        model='gpt-4o-mini',\n",
    "        messages=[{\"role\": \"user\", \"content\": prompt}]\n",
    "    )\n",
    "    \n",
    "    return response.choices[0].message.content"
   ]
  },
  {
   "cell_type": "code",
   "execution_count": 26,
   "id": "e1c0771e-59af-47d4-8535-cc93281173a1",
   "metadata": {},
   "outputs": [],
   "source": [
    "questions = llm(prompt)"
   ]
  },
  {
   "cell_type": "code",
   "execution_count": 27,
   "id": "10251629-8b7e-4507-bfcf-3660b83cb3d4",
   "metadata": {},
   "outputs": [
    {
     "name": "stdout",
     "output_type": "stream",
     "text": [
      "{\"questions\": [\"I have been experiencing upper back pain for a week now, which sometimes feels like a trapped nerve. What can I do to alleviate this issue?\", \"Last night at 3 AM, I felt chest pain that scared me. Is this something related to my upper back pain or should I be more concerned?\", \"What type of tests do you recommend for my upper back and chest pain, and how soon should I get them done?\", \"You mentioned medication for pain relief; could you please specify which analgesic and neurotropic medications would be suitable for my symptoms?\", \"I would like to know more about the physiotherapy options you mentioned. What types of treatments should I look into to help with my condition?\"]}\n"
     ]
    }
   ],
   "source": [
    "print(questions)"
   ]
  },
  {
   "cell_type": "code",
   "execution_count": 29,
   "id": "c79c485c-63fb-4d04-aba4-09ea52b844bd",
   "metadata": {},
   "outputs": [],
   "source": [
    "def generate_questions(doc):\n",
    "    prompt = prompt_template.format(**doc)\n",
    "\n",
    "    response = client.chat.completions.create(\n",
    "        model='gpt-4o-mini',\n",
    "        messages=[{\"role\": \"user\", \"content\": prompt}]\n",
    "    )\n",
    "\n",
    "    json_response = response.choices[0].message.content\n",
    "    return json_response"
   ]
  },
  {
   "cell_type": "code",
   "execution_count": 30,
   "id": "c523d46c-cbde-47fc-b082-62be2230b87a",
   "metadata": {},
   "outputs": [],
   "source": [
    "from tqdm.auto import tqdm\n",
    "import json"
   ]
  },
  {
   "cell_type": "code",
   "execution_count": 31,
   "id": "ae9418bc-61cd-4f1c-85f2-c972de9b226f",
   "metadata": {},
   "outputs": [],
   "source": [
    "results = {}"
   ]
  },
  {
   "cell_type": "code",
   "execution_count": 32,
   "id": "a299a077-6838-4406-91ef-049a6b82dd9c",
   "metadata": {},
   "outputs": [
    {
     "data": {
      "application/vnd.jupyter.widget-view+json": {
       "model_id": "4b144ba5561d489e8f3d9b33ce257a5d",
       "version_major": 2,
       "version_minor": 0
      },
      "text/plain": [
       "  0%|          | 0/1000 [00:00<?, ?it/s]"
      ]
     },
     "metadata": {},
     "output_type": "display_data"
    }
   ],
   "source": [
    "for doc in tqdm(documents):\n",
    "    doc_id = doc['id']\n",
    "    if doc_id in results:\n",
    "        continue\n",
    "\n",
    "    questions_raw = generate_questions(doc)\n",
    "    questions = json.loads(questions_raw)\n",
    "    results[doc_id] = questions['questions']"
   ]
  },
  {
   "cell_type": "code",
   "execution_count": 34,
   "id": "a6f0875c-8137-49c9-9ae8-f00b70c53ea1",
   "metadata": {},
   "outputs": [],
   "source": [
    "final_results = []\n",
    "\n",
    "for doc_id, questions in results.items():\n",
    "    for q in questions:\n",
    "        final_results.append((doc_id, q))"
   ]
  },
  {
   "cell_type": "code",
   "execution_count": 36,
   "id": "5be95d8a-363c-4490-aee0-09bc3f363969",
   "metadata": {},
   "outputs": [
    {
     "data": {
      "text/plain": [
       "[(1,\n",
       "  'What causes a maroon dot like the one I have under my skin, and could it be something serious?'),\n",
       " (1,\n",
       "  'Is there a way to treat the maroon dot at home, or should I wait for my dermatologist appointment?'),\n",
       " (1,\n",
       "  'Could any medications I am taking be affecting the bleeding from the maroon dot?')]"
      ]
     },
     "execution_count": 36,
     "metadata": {},
     "output_type": "execute_result"
    }
   ],
   "source": [
    "final_results[:3]"
   ]
  },
  {
   "cell_type": "code",
   "execution_count": 37,
   "id": "a2647836-0a8b-4070-ab89-6b48c8888168",
   "metadata": {},
   "outputs": [],
   "source": [
    "df_results = pd.DataFrame(final_results, columns=['id', 'question'])"
   ]
  },
  {
   "cell_type": "code",
   "execution_count": 38,
   "id": "3cb889bd-a9e5-45f4-b6bd-fa5ca88b7a9b",
   "metadata": {},
   "outputs": [],
   "source": [
    "df_results.to_csv('../data/ground-truth-retrieval.csv', index=False)"
   ]
  },
  {
   "cell_type": "code",
   "execution_count": null,
   "id": "9e1d676e-8128-4884-8087-5c9cd7012d9e",
   "metadata": {},
   "outputs": [],
   "source": []
  }
 ],
 "metadata": {
  "kernelspec": {
   "display_name": "Python 3 (ipykernel)",
   "language": "python",
   "name": "python3"
  },
  "language_info": {
   "codemirror_mode": {
    "name": "ipython",
    "version": 3
   },
   "file_extension": ".py",
   "mimetype": "text/x-python",
   "name": "python",
   "nbconvert_exporter": "python",
   "pygments_lexer": "ipython3",
   "version": "3.12.6"
  }
 },
 "nbformat": 4,
 "nbformat_minor": 5
}
