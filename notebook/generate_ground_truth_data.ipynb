{
 "cells": [
  {
   "cell_type": "code",
   "execution_count": 1,
   "id": "f6c260d7-9e56-40b8-82e7-97fc11bd11fd",
   "metadata": {},
   "outputs": [],
   "source": [
    "import pandas as pd"
   ]
  },
  {
   "cell_type": "code",
   "execution_count": 2,
   "id": "770f2717-b44c-4f0b-91ad-609555d7b01c",
   "metadata": {},
   "outputs": [],
   "source": [
    "from openai import OpenAI\n",
    "\n",
    "client = OpenAI()"
   ]
  },
  {
   "cell_type": "code",
   "execution_count": 4,
   "id": "5ee4a988-675a-46d5-9bb1-7f0d15a0428e",
   "metadata": {},
   "outputs": [],
   "source": [
    "df = ds.to_pandas()"
   ]
  },
  {
   "cell_type": "code",
   "execution_count": 5,
   "id": "a564c5a0-6493-4c99-b94d-e8b3a4571f70",
   "metadata": {},
   "outputs": [],
   "source": [
    "df = df.drop_duplicates(subset=['Description', 'Patient'], )"
   ]
  },
  {
   "cell_type": "code",
   "execution_count": 6,
   "id": "f83b3b56-9096-4cae-a9a0-42ba3ad4abe2",
   "metadata": {},
   "outputs": [],
   "source": [
    "df.to_csv('../data/data.csv', index=False)"
   ]
  },
  {
   "cell_type": "code",
   "execution_count": 7,
   "id": "80c3f1df-3094-44e1-991c-9d3dce4c206b",
   "metadata": {},
   "outputs": [],
   "source": [
    "df = pd.read_csv('../data/data.csv')"
   ]
  },
  {
   "cell_type": "code",
   "execution_count": 20,
   "id": "86a0d0d4-60aa-4d59-ac24-ca233b1a651c",
   "metadata": {},
   "outputs": [],
   "source": [
    "sampled_df = df.sample(n=1000, random_state=42)"
   ]
  },
  {
   "cell_type": "code",
   "execution_count": 26,
   "id": "c17c2f22-f9df-4013-9d44-92464615c5c2",
   "metadata": {},
   "outputs": [],
   "source": [
    "# Continuing from the previous example\n",
    "sampled_df = sampled_df.reset_index(drop=True)\n",
    "sampled_df['id'] = sampled_df.index"
   ]
  },
  {
   "cell_type": "code",
   "execution_count": 27,
   "id": "3edcde77-56cc-4dea-8c10-e61b6e583e1d",
   "metadata": {},
   "outputs": [],
   "source": [
    "sampled_df = sampled_df[['id'] + [col for col in sampled_df.columns if col != 'id']]"
   ]
  },
  {
   "cell_type": "code",
   "execution_count": 28,
   "id": "31922903-5f54-4a86-8f0d-c8edd4729884",
   "metadata": {},
   "outputs": [],
   "source": [
    "sampled_df['id'] = sampled_df.index + 1"
   ]
  },
  {
   "cell_type": "code",
   "execution_count": 29,
   "id": "e54503cd-1e30-4493-98c5-ce74a95c990a",
   "metadata": {},
   "outputs": [
    {
     "data": {
      "text/html": [
       "<div>\n",
       "<style scoped>\n",
       "    .dataframe tbody tr th:only-of-type {\n",
       "        vertical-align: middle;\n",
       "    }\n",
       "\n",
       "    .dataframe tbody tr th {\n",
       "        vertical-align: top;\n",
       "    }\n",
       "\n",
       "    .dataframe thead th {\n",
       "        text-align: right;\n",
       "    }\n",
       "</style>\n",
       "<table border=\"1\" class=\"dataframe\">\n",
       "  <thead>\n",
       "    <tr style=\"text-align: right;\">\n",
       "      <th></th>\n",
       "      <th>id</th>\n",
       "      <th>Description</th>\n",
       "      <th>Patient</th>\n",
       "      <th>Doctor</th>\n",
       "    </tr>\n",
       "  </thead>\n",
       "  <tbody>\n",
       "    <tr>\n",
       "      <th>0</th>\n",
       "      <td>1</td>\n",
       "      <td>Are there any side effects of misprostal 200mg...</td>\n",
       "      <td>HI DR, ACTUALLY I HAVE MISSED MY FIRST PERIOD ...</td>\n",
       "      <td>Hello, Your pregnancy test positive.If you don...</td>\n",
       "    </tr>\n",
       "    <tr>\n",
       "      <th>1</th>\n",
       "      <td>2</td>\n",
       "      <td>What causes pitting edema of the lower extremi...</td>\n",
       "      <td>i have ED and associated with pitting edema of...</td>\n",
       "      <td>Hello,As you underwent surgery of that foot, s...</td>\n",
       "    </tr>\n",
       "    <tr>\n",
       "      <th>2</th>\n",
       "      <td>3</td>\n",
       "      <td>Suggest treatment for black teeth in a 2 year ...</td>\n",
       "      <td>Hi,my son is 2y/o n his 4 front teeth are blac...</td>\n",
       "      <td>Thanks for using Health care Magic.Read your q...</td>\n",
       "    </tr>\n",
       "    <tr>\n",
       "      <th>3</th>\n",
       "      <td>4</td>\n",
       "      <td>Why am I suffering from rashes and pimples in ...</td>\n",
       "      <td>I have a rash on my inner arms and inner forea...</td>\n",
       "      <td>hi there.1. by your description, your concern ...</td>\n",
       "    </tr>\n",
       "    <tr>\n",
       "      <th>4</th>\n",
       "      <td>5</td>\n",
       "      <td>Can a fetus be alive despite the absence of fe...</td>\n",
       "      <td>apparently im 7 weeks pregnant i went to get a...</td>\n",
       "      <td>Hello and Welcome to ‘Ask A Doctor’ service. I...</td>\n",
       "    </tr>\n",
       "  </tbody>\n",
       "</table>\n",
       "</div>"
      ],
      "text/plain": [
       "   id                                        Description  \\\n",
       "0   1  Are there any side effects of misprostal 200mg...   \n",
       "1   2  What causes pitting edema of the lower extremi...   \n",
       "2   3  Suggest treatment for black teeth in a 2 year ...   \n",
       "3   4  Why am I suffering from rashes and pimples in ...   \n",
       "4   5  Can a fetus be alive despite the absence of fe...   \n",
       "\n",
       "                                             Patient  \\\n",
       "0  HI DR, ACTUALLY I HAVE MISSED MY FIRST PERIOD ...   \n",
       "1  i have ED and associated with pitting edema of...   \n",
       "2  Hi,my son is 2y/o n his 4 front teeth are blac...   \n",
       "3  I have a rash on my inner arms and inner forea...   \n",
       "4  apparently im 7 weeks pregnant i went to get a...   \n",
       "\n",
       "                                              Doctor  \n",
       "0  Hello, Your pregnancy test positive.If you don...  \n",
       "1  Hello,As you underwent surgery of that foot, s...  \n",
       "2  Thanks for using Health care Magic.Read your q...  \n",
       "3  hi there.1. by your description, your concern ...  \n",
       "4  Hello and Welcome to ‘Ask A Doctor’ service. I...  "
      ]
     },
     "execution_count": 29,
     "metadata": {},
     "output_type": "execute_result"
    }
   ],
   "source": [
    "sampled_df.head()"
   ]
  },
  {
   "cell_type": "code",
   "execution_count": 33,
   "id": "fc3e585e-4143-49bb-ae72-e2d5a4836f8a",
   "metadata": {},
   "outputs": [],
   "source": [
    "documents = sampled_df.to_dict(orient='records')"
   ]
  },
  {
   "cell_type": "code",
   "execution_count": 8,
   "id": "1d8fd490-3a44-441f-bd74-fbd250a2bb7c",
   "metadata": {},
   "outputs": [],
   "source": [
    "prompt_template = \"\"\"\n",
    "You emulate a user of our health care assistant application.\n",
    "Formulate 5 questions this user might ask based on a provided patient question.\n",
    "Make the questions specific to the description.\n",
    "The record should contain the answer to the questions, and the questions should\n",
    "be complete and not too short. Use as fewer words as possible from the record. \n",
    "\n",
    "The record:\n",
    "\n",
    "Description: {Description}\n",
    "Patient: {Patient}\n",
    "Doctor: {Doctor}\n",
    "\n",
    "Provide the output in parsable JSON without using code blocks:\n",
    "\n",
    "{{\"questions\": [\"question1\", \"question2\", ..., \"question5\"]}}\n",
    "\"\"\".strip()"
   ]
  },
  {
   "cell_type": "code",
   "execution_count": 14,
   "id": "1777fd1f-5f7d-4ac0-801b-3e9b4dd29a56",
   "metadata": {},
   "outputs": [],
   "source": [
    "prompt = prompt_template.format(**documents[2])"
   ]
  },
  {
   "cell_type": "code",
   "execution_count": 15,
   "id": "d0d3e134-eaa7-4c72-a3a7-11a3d2da1f12",
   "metadata": {},
   "outputs": [
    {
     "name": "stdout",
     "output_type": "stream",
     "text": [
      "You emulate a user of our health care assistant application.\n",
      "Formulate 5 questions this user might ask based on a provided patient question.\n",
      "Make the questions specific to the description.\n",
      "The record should contain the answer to the questions, and the questions should\n",
      "be complete and not too short. Use as fewer words as possible from the record. \n",
      "\n",
      "The record:\n",
      "\n",
      "Description: Q. I have started to get lots of acne on my face, particularly on my forehead. Please help me.\n",
      "Patient: Hi doctor! I used to have clear skin but since I moved to a new place, I started to have lots of acne on my face particularly on my forehead. I thought it would disappear once I went back home, but it only got worse. I did some research and assumed that it was caused by drinking too much cow's milk, but it has been since since I stopped and they would still not go away. I also noticed that I get deep acne whenever I'm nearing my period, along with the usual small red bumps. I bought an acne soap and have been using it for a month now but I'm not sure if it works. I hope you can help me because it has been affecting my mental state lately :((((\n",
      "Doctor: Hi there Acne has multifactorial etiology. Only acne soap does not improve if ypu have grade 2 or more grade acne. You need to have oral and topical medications. This before writing medicines i need to confirm your grade of acne. For mild grade topical clindamycin or retenoic acud derivative would suffice whereas for higher grade acne you need oral medicines aluke doxycycline azithromycin or isotretinoin. Acne vulgaris Cleansing face with antiacne face wash\n",
      "\n",
      "Provide the output in parsable JSON without using code blocks:\n",
      "\n",
      "{\"questions\": [\"question1\", \"question2\", ..., \"question5\"]}\n"
     ]
    }
   ],
   "source": [
    "print(prompt)"
   ]
  },
  {
   "cell_type": "code",
   "execution_count": 16,
   "id": "cffb248a-f44a-4790-9be1-379a016c1662",
   "metadata": {},
   "outputs": [],
   "source": [
    "def llm(prompt):\n",
    "    response = client.chat.completions.create(\n",
    "        model='gpt-4o-mini',\n",
    "        messages=[{\"role\": \"user\", \"content\": prompt}]\n",
    "    )\n",
    "    \n",
    "    return response.choices[0].message.content"
   ]
  },
  {
   "cell_type": "code",
   "execution_count": 17,
   "id": "e1c0771e-59af-47d4-8535-cc93281173a1",
   "metadata": {},
   "outputs": [],
   "source": [
    "questions = llm(prompt)"
   ]
  },
  {
   "cell_type": "code",
   "execution_count": 19,
   "id": "10251629-8b7e-4507-bfcf-3660b83cb3d4",
   "metadata": {},
   "outputs": [
    {
     "name": "stdout",
     "output_type": "stream",
     "text": [
      "{\"questions\": [\"What factors could have contributed to the sudden onset of my acne after moving?\", \"Can you explain the role of cow's milk in causing acne and why stopping it hasn't helped?\", \"What specific oral and topical medications would you recommend for my type of acne?\", \"How can I determine the grade of my acne, and why is it important for treatment?\", \"Are there any additional skincare steps or products I should incorporate along with the acne soap?\"]}\n"
     ]
    }
   ],
   "source": [
    "print(questions)"
   ]
  },
  {
   "cell_type": "code",
   "execution_count": 30,
   "id": "c79c485c-63fb-4d04-aba4-09ea52b844bd",
   "metadata": {},
   "outputs": [],
   "source": [
    "def generate_questions(doc):\n",
    "    prompt = prompt_template.format(**doc)\n",
    "\n",
    "    response = client.chat.completions.create(\n",
    "        model='gpt-4o-mini',\n",
    "        messages=[{\"role\": \"user\", \"content\": prompt}]\n",
    "    )\n",
    "\n",
    "    json_response = response.choices[0].message.content\n",
    "    return json_response"
   ]
  },
  {
   "cell_type": "code",
   "execution_count": 35,
   "id": "c523d46c-cbde-47fc-b082-62be2230b87a",
   "metadata": {},
   "outputs": [],
   "source": [
    "from tqdm.auto import tqdm\n",
    "import json"
   ]
  },
  {
   "cell_type": "code",
   "execution_count": 32,
   "id": "ae9418bc-61cd-4f1c-85f2-c972de9b226f",
   "metadata": {},
   "outputs": [],
   "source": [
    "results = {}"
   ]
  },
  {
   "cell_type": "code",
   "execution_count": null,
   "id": "a299a077-6838-4406-91ef-049a6b82dd9c",
   "metadata": {},
   "outputs": [
    {
     "data": {
      "application/vnd.jupyter.widget-view+json": {
       "model_id": "81579441d2a14c81afc07d9e7cae5a3c",
       "version_major": 2,
       "version_minor": 0
      },
      "text/plain": [
       "  0%|          | 0/1000 [00:00<?, ?it/s]"
      ]
     },
     "metadata": {},
     "output_type": "display_data"
    }
   ],
   "source": [
    "for doc in tqdm(documents):\n",
    "    doc_id = doc['id']\n",
    "    if doc_id in results:\n",
    "        continue\n",
    "\n",
    "    questions_raw = generate_questions(doc)\n",
    "    questions = json.loads(questions_raw)\n",
    "    results[doc_id] = questions['questions']"
   ]
  },
  {
   "cell_type": "code",
   "execution_count": null,
   "id": "a6f0875c-8137-49c9-9ae8-f00b70c53ea1",
   "metadata": {},
   "outputs": [],
   "source": [
    "final_results = []\n",
    "\n",
    "for doc_id, questions in results.item():\n",
    "    for q in questions:\n",
    "        final_results.append((doc_id, q))"
   ]
  },
  {
   "cell_type": "code",
   "execution_count": null,
   "id": "5be95d8a-363c-4490-aee0-09bc3f363969",
   "metadata": {},
   "outputs": [],
   "source": [
    "final_results[0]"
   ]
  },
  {
   "cell_type": "code",
   "execution_count": null,
   "id": "a2647836-0a8b-4070-ab89-6b48c8888168",
   "metadata": {},
   "outputs": [],
   "source": [
    "df_results = pd.DataFrame(final_results, columns=['id', 'question'])"
   ]
  },
  {
   "cell_type": "code",
   "execution_count": null,
   "id": "3cb889bd-a9e5-45f4-b6bd-fa5ca88b7a9b",
   "metadata": {},
   "outputs": [],
   "source": [
    "df_results.to_csv('../data/ground-truth-retrieval.csv', index=False)"
   ]
  }
 ],
 "metadata": {
  "kernelspec": {
   "display_name": "Python 3 (ipykernel)",
   "language": "python",
   "name": "python3"
  },
  "language_info": {
   "codemirror_mode": {
    "name": "ipython",
    "version": 3
   },
   "file_extension": ".py",
   "mimetype": "text/x-python",
   "name": "python",
   "nbconvert_exporter": "python",
   "pygments_lexer": "ipython3",
   "version": "3.12.1"
  }
 },
 "nbformat": 4,
 "nbformat_minor": 5
}
